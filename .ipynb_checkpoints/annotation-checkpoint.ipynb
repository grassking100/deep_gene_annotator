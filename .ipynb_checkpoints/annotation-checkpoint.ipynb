{
 "cells": [
  {
   "cell_type": "code",
   "execution_count": 37,
   "metadata": {},
   "outputs": [],
   "source": [
    "import os\n",
    "import sys\n",
    "sys.path.append(os.path.abspath('/../..'))\n",
    "import json\n",
    "import math\n",
    "import unittest\n",
    "import deepdish\n",
    "import numpy as np\n",
    "import pandas as pd\n",
    "import deepdish as dd\n",
    "import math\n",
    "from time import gmtime, strftime\n",
    "from os.path import abspath, expanduser\n",
    "from sequence_annotation.genome_handler.ann_genome_creator import AnnChromCreator, AnnGenomeCreator\n",
    "from sequence_annotation.genome_handler.seq_container import SeqInfoContainer, AnnSeqContainer\n",
    "from sequence_annotation.genome_handler.ann_seq_extractor import AnnSeqExtractor\n",
    "from sequence_annotation.genome_handler.sequence import SeqInformation,AnnSequence\n",
    "from sequence_annotation.genome_handler.ann_seq_converter import GeneticBedSeqConverter\n",
    "from sequence_annotation.genome_handler.seq_info_parser import BedInfoParser\n",
    "from sequence_annotation.genome_handler import ann_seq_processor\n",
    "from sequence_annotation.genome_handler import ann_genome_processor\n",
    "from sequence_annotation.visual.visual import visual_ann_seqs,visual_ann_seq"
   ]
  },
  {
   "cell_type": "code",
   "execution_count": 2,
   "metadata": {},
   "outputs": [],
   "source": [
    "fai = pd.read_csv('gene_info/data/araport_11_Arabidopsis_thaliana_Col-0_rename.fasta.fai',sep='\\t',header=None).to_dict('record')\n",
    "infos = {}\n",
    "for info in fai:\n",
    "    infos[info[0]]=info[1]\n",
    "genome_info={'chromosome':infos,'source':\"Araport11\"}"
   ]
  },
  {
   "cell_type": "code",
   "execution_count": 3,
   "metadata": {},
   "outputs": [],
   "source": [
    "data = pd.read_csv('gene_info/data/2018_11_24/Araport11_exon_2018_11_24_merged_with_coordinate_file_megred_exon.bed',header=None,sep='\\t').to_dict('record')\n",
    "parsed = BedInfoParser().parse(data)"
   ]
  },
  {
   "cell_type": "code",
   "execution_count": 4,
   "metadata": {},
   "outputs": [],
   "source": [
    "converter = GeneticBedSeqConverter()\n",
    "ann_seqs = AnnSeqContainer()\n",
    "ann_seqs.ANN_TYPES = converter.ANN_TYPES\n",
    "for item in parsed:\n",
    "    ann_seqs.add(GeneticBedSeqConverter().convert(item))"
   ]
  },
  {
   "cell_type": "code",
   "execution_count": 13,
   "metadata": {},
   "outputs": [],
   "source": [
    "wanted_region = pd.read_csv('gene_info/data/2018_11_24/Araport11_exon_2018_11_24_merged_with_coordinate_file_megred_exon_dist_to_five_1000_dist_to_three_500_merged.bed',header=None,sep='\\t')\n",
    "wanted_region = wanted_region.rename(columns = {0:'chr',1:'start',2:'end',3:'id',4:'score',5:'strand'})\n",
    "wanted_region['end'] = wanted_region['end'] - 1"
   ]
  },
  {
   "cell_type": "code",
   "execution_count": 14,
   "metadata": {},
   "outputs": [],
   "source": [
    "wanted_region.loc[wanted_region['strand']=='+','strand']='plus'\n",
    "wanted_region.loc[wanted_region['strand']=='-','strand']='minus'"
   ]
  },
  {
   "cell_type": "code",
   "execution_count": 15,
   "metadata": {},
   "outputs": [],
   "source": [
    "seq_infos = SeqInfoContainer()\n",
    "for item in wanted_region.to_dict('record'):\n",
    "    seq_info = SeqInformation()\n",
    "    seq_info.chromosome_id=item['chr']\n",
    "    seq_info.id=item['id']\n",
    "    seq_info.strand=item['strand']\n",
    "    seq_info.start=item['start']\n",
    "    seq_info.end=item['end']\n",
    "    seq_infos.add(seq_info)"
   ]
  },
  {
   "cell_type": "code",
   "execution_count": 17,
   "metadata": {},
   "outputs": [
    {
     "name": "stderr",
     "output_type": "stream",
     "text": [
      "/home/sequence_annotation/sequence_annotation/genome_handler/ann_genome_creator.py:11: UserWarning: \n",
      "!!!\n",
      "\tCoordinate will be 5' to 3' of plus strand on both PLUS and MINUS strand'\n",
      "!!!\n",
      "\n",
      "  \" on both PLUS and MINUS strand'\\n!!!\\n\"), UserWarning)\n",
      "/home/sequence_annotation/sequence_annotation/genome_handler/ann_seq_processor.py:208: RuntimeWarning: invalid value encountered in true_divide\n",
      "  vecs.append(np.nan_to_num(temp/temp))\n"
     ]
    }
   ],
   "source": [
    "ann_genome_creator = AnnGenomeCreator()\n",
    "genome=ann_genome_creator.create(ann_seqs,genome_info)\n",
    "extracted_seqs = AnnSeqExtractor().extract(genome,seq_infos)\n",
    "backgrounded_extracted_seqs = ann_genome_processor.get_backgrounded_genome(extracted_seqs,'other')\n",
    "mixed_type_backgrounded_extracted_seqs = ann_genome_processor.mixed_typed_genome_generate(backgrounded_extracted_seqs)"
   ]
  },
  {
   "cell_type": "code",
   "execution_count": 35,
   "metadata": {},
   "outputs": [
    {
     "data": {
      "text/plain": [
       "3231"
      ]
     },
     "execution_count": 35,
     "metadata": {},
     "output_type": "execute_result"
    }
   ],
   "source": [
    "np.(mixed_type_backgrounded_extracted_seqs)"
   ]
  },
  {
   "cell_type": "code",
   "execution_count": 18,
   "metadata": {},
   "outputs": [
    {
     "name": "stdout",
     "output_type": "stream",
     "text": [
      "AT1G01320.1\n",
      "AT1G02880.5,AT1G02890.1,AT1G02890.2\n",
      "AT1G02990.1,AT1G02990.2,AT1G02990.4,AT1G02990.5,AT1G03000.1\n",
      "AT1G08600.3\n",
      "AT1G08890.1,AT1G08900.1,AT1G08900.2,AT1G08900.3,AT1G08900.4,AT1G08900.5,AT1G08910.1\n",
      "AT1G10760.1\n",
      "AT1G20950.1,AT1G20960.1,AT1G20960.2\n",
      "AT1G30680.1,AT1G30690.1,AT1G30690.2\n",
      "AT1G32070.1,AT1G32070.2,AT1G32070.3,AT1G32080.1,AT1G32090.1\n",
      "AT1G49340.2,AT1G49340.4,AT1G49350.1\n",
      "AT1G58602.2\n",
      "AT1G70320.1\n",
      "AT1G80410.1,AT1G80410.2,AT1G80420.4\n",
      "AT2G07360.1,AT2G07360.2\n",
      "AT2G13370.3\n",
      "AT2G17930.1\n",
      "AT2G26890.1,AT2G26900.1\n",
      "AT2G26910.1,AT2G26920.1\n",
      "AT2G32530.1,AT2G32540.1\n",
      "AT2G34680.1,AT2G34680.2\n",
      "AT2G36380.1,AT2G36390.1\n",
      "AT3G04490.1,AT3G04490.3,AT3G04490.4\n",
      "AT3G11910.1\n",
      "AT3G13330.1\n",
      "AT3G13860.1,AT3G13870.1,AT3G13870.2\n",
      "AT3G19720.3,AT3G19740.1\n",
      "AT3G54220.1,AT3G54230.2\n",
      "AT3G56020.1,AT3G56040.1,AT3G56050.1\n",
      "AT4G03550.1,AT4G03560.1\n",
      "AT4G15180.1\n",
      "AT4G32960.1,AT4G32970.1,AT4G32980.1,AT4G32980.2\n",
      "AT4G39850.1,AT4G39850.2,AT4G39850.3,AT4G39850.4\n",
      "AT5G06600.1,AT5G06600.2\n",
      "AT5G10940.1,AT5G10940.2,AT5G10946.1,AT5G10946.2\n",
      "AT5G15400.1,AT5G15410.1,AT5G15410.2\n",
      "AT5G15680.1\n",
      "AT5G40450.1,AT5G40450.2\n",
      "AT5G44800.1\n",
      "AT5G58100.2,AT5G58110.1\n"
     ]
    }
   ],
   "source": [
    "for seq in mixed_type_backgrounded_extracted_seqs:\n",
    "    if seq.length>10000:\n",
    "        print(seq.id)"
   ]
  },
  {
   "cell_type": "code",
   "execution_count": 21,
   "metadata": {},
   "outputs": [
    {
     "data": {
      "image/png": "[encoded data removed]",
      "text/plain": [
       "<Figure size 432x288 with 1 Axes>"
      ]
     },
     "metadata": {},
     "output_type": "display_data"
    }
   ],
   "source": [
    "visual_ann_seqs(mixed_type_backgrounded_extracted_seqs)"
   ]
  },
  {
   "cell_type": "code",
   "execution_count": 33,
   "metadata": {},
   "outputs": [
    {
     "data": {
      "image/png": "[encoded data removed]",
      "text/plain": [
       "<Figure size 432x288 with 1 Axes>"
      ]
     },
     "metadata": {},
     "output_type": "display_data"
    }
   ],
   "source": [
    "lens = [len(seq)-1500 for seq in mixed_type_backgrounded_extracted_seqs]\n",
    "from matplotlib import pyplot as plt\n",
    "plt.hist(lens,bins=100,log=True)\n",
    "plt.show()"
   ]
  },
  {
   "cell_type": "code",
   "execution_count": null,
   "metadata": {},
   "outputs": [],
   "source": []
  }
 ],
 "metadata": {
  "kernelspec": {
   "display_name": "Python 3",
   "language": "python",
   "name": "python3"
  },
  "language_info": {
   "codemirror_mode": {
    "name": "ipython",
    "version": 3
   },
   "file_extension": ".py",
   "mimetype": "text/x-python",
   "name": "python",
   "nbconvert_exporter": "python",
   "pygments_lexer": "ipython3",
   "version": "3.5.2"
  }
 },
 "nbformat": 4,
 "nbformat_minor": 2
}
