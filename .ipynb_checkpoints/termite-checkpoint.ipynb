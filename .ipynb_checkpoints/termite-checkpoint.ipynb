{
 "cells": [
  {
   "cell_type": "code",
   "execution_count": 1,
   "metadata": {},
   "outputs": [
    {
     "name": "stderr",
     "output_type": "stream",
     "text": [
      "Using TensorFlow backend.\n"
     ]
    }
   ],
   "source": [
    "import os\n",
    "os.environ[\"CUDA_VISIBLE_DEVICES\"]=\"2\"\n",
    "import time\n",
    "import deepdish as dd\n",
    "from sequence_annotation.genome_handler.seq_container import AnnSeqContainer\n",
    "from sequence_annotation.data_handler.fasta import read_fasta\n",
    "from hyperopt import fmin, tpe, hp, STATUS_OK, Trials\n",
    "from sequence_annotation.genome_handler.utils import loader\n",
    "from sequence_annotation.pytorch.AS_space_finder import ASModelSpaceFinder\n",
    "from sequence_annotation.pytorch.AS_model_facade import ASModelFacade\n",
    "from sequence_annotation.pytorch.customize_layer import GatedIndRnnCell\n",
    "simplify_map={'exon':['exon'],'intron':['intron','mix'],'other':['other']}"
   ]
  },
  {
   "cell_type": "code",
   "execution_count": 26,
   "metadata": {},
   "outputs": [],
   "source": [
    "fasta = read_fasta('../io/long_read/termite/isoseq.ccs.polished.hq.fasta_align_to_termite_g1_2019_03_01/result/result_dist_to_five_500_dist_to_three_500_merged.fasta')\n",
    "h5=dd.io.load('../io/long_read/termite/isoseq.ccs.polished.hq.fasta_align_to_termite_g1_2019_03_01/result/result_dist_to_five_500_dist_to_three_500_merged.h5')\n",
    "ann_seqs = AnnSeqContainer().from_dict(h5)"
   ]
  },
  {
   "cell_type": "code",
   "execution_count": 27,
   "metadata": {},
   "outputs": [
    {
     "name": "stdout",
     "output_type": "stream",
     "text": [
      "2105\n"
     ]
    }
   ],
   "source": [
    "print(len(ann_seqs))"
   ]
  },
  {
   "cell_type": "code",
   "execution_count": 28,
   "metadata": {},
   "outputs": [],
   "source": [
    "selected_fasta,selected_seqs,o_s,o_a = loader(fasta,ann_seqs,\n",
    "                                              simplify_map=simplify_map,\n",
    "                                              min_len=2000,max_len=4000,outlier_coef=1.2)"
   ]
  },
  {
   "cell_type": "code",
   "execution_count": 29,
   "metadata": {},
   "outputs": [
    {
     "data": {
      "text/plain": [
       "4212"
      ]
     },
     "execution_count": 29,
     "metadata": {},
     "output_type": "execute_result"
    }
   ],
   "source": [
    "len(o_s)"
   ]
  },
  {
   "cell_type": "code",
   "execution_count": 30,
   "metadata": {},
   "outputs": [
    {
     "name": "stdout",
     "output_type": "stream",
     "text": [
      "273\n"
     ]
    }
   ],
   "source": [
    "print(len(selected_seqs))"
   ]
  },
  {
   "cell_type": "code",
   "execution_count": 31,
   "metadata": {},
   "outputs": [
    {
     "data": {
      "image/png": "[encoded data removed]",
      "text/plain": [
       "<Figure size 432x288 with 1 Axes>"
      ]
     },
     "metadata": {
      "needs_background": "light"
     },
     "output_type": "display_data"
    }
   ],
   "source": [
    "from sequence_annotation.visual.visual import visual_ann_genome\n",
    "visual_ann_genome(selected_seqs)"
   ]
  },
  {
   "cell_type": "code",
   "execution_count": 32,
   "metadata": {},
   "outputs": [],
   "source": [
    "space={\n",
    "    'cnn_output':32,\n",
    "    'cnn_num':3,\n",
    "    'rnn_output':32,\n",
    "    'rnn_num':2,\n",
    "    'cnn_kernel_size':hp.quniform('cnn_kernel_size', 3, 128, 2),\n",
    "    'PWM':hp.choice('PWM',[True,False]),\n",
    "    'rnn_cell_class':GatedIndRnnCell\n",
    "}"
   ]
  },
  {
   "cell_type": "code",
   "execution_count": 33,
   "metadata": {},
   "outputs": [
    {
     "name": "stdout",
     "output_type": "stream",
     "text": [
      "192 {'exon': 154743.0, 'other': 192000.0, 'intron': 219525.0}\n",
      "54 {'exon': 37581.0, 'other': 54000.0, 'intron': 61122.0}\n",
      "27 {'exon': 19593.0, 'other': 27000.0, 'intron': 32936.0}\n"
     ]
    }
   ],
   "source": [
    "trials = Trials()\n",
    "facade = ASModelFacade(selected_fasta,selected_seqs,'../io/record/termite_2019_03_15',ratio=[0.7,0.2,0.1])\n",
    "facade.lr=1e-3\n",
    "facade.batch_size=16\n",
    "facade.epoch_num=100\n",
    "facade.patient=4\n",
    "facade.affect_length_max=500"
   ]
  },
  {
   "cell_type": "code",
   "execution_count": 34,
   "metadata": {},
   "outputs": [],
   "source": [
    "trainer = ASModelSpaceFinder(facade,'../io/record/termite_2019_03_15')"
   ]
  },
  {
   "cell_type": "code",
   "execution_count": null,
   "metadata": {},
   "outputs": [
    {
     "name": "stdout",
     "output_type": "stream",
     "text": [
      "1 {'rnn_num': 2, 'PWM': False, 'cnn_kernel_size': 60.0, 'rnn_output': 32, 'cnn_num': 3, 'rnn_cell_class': <class 'sequence_annotation.pytorch.customize_layer.GatedIndRnnCell'>, 'cnn_output': 32}\n",
      "Processing data...\n",
      "Processing model..\n",
      "Compiling model...\n",
      "Processing worker...\n",
      "Executing...\n",
      "Start working(2019-03-15 10:57:21)\n",
      "CNN time 0\n",
      "RNN time 11\n"
     ]
    }
   ],
   "source": [
    "best = fmin(trainer.objective, space, algo=tpe.suggest, max_evals=16,trials=trials)"
   ]
  },
  {
   "cell_type": "code",
   "execution_count": 118,
   "metadata": {},
   "outputs": [],
   "source": [
    "dd.io.save(trainer.root+'/records.h5',trainer.records)\n",
    "dd.io.save(trainer.root+'/space_result.h5',trainer.space_result)"
   ]
  },
  {
   "cell_type": "code",
   "execution_count": null,
   "metadata": {},
   "outputs": [],
   "source": []
  },
  {
   "cell_type": "code",
   "execution_count": 117,
   "metadata": {},
   "outputs": [],
   "source": [
    "import pickle\n",
    "with open(\"../io/record/termite_2019_03_15/trials.hyperopt\", \"wb\") as f:\n",
    "    pickle.dump(trials, f)"
   ]
  },
  {
   "cell_type": "code",
   "execution_count": 112,
   "metadata": {},
   "outputs": [
    {
     "data": {
      "text/plain": [
       "{'PWM': 1, 'cnn_kernel_size': 60.0}"
      ]
     },
     "execution_count": 112,
     "metadata": {},
     "output_type": "execute_result"
    }
   ],
   "source": [
    "best"
   ]
  },
  {
   "cell_type": "code",
   "execution_count": 76,
   "metadata": {},
   "outputs": [],
   "source": [
    "new_x, new_y = "
   ]
  },
  {
   "cell_type": "code",
   "execution_count": 91,
   "metadata": {},
   "outputs": [],
   "source": [
    "pwm_x=[item['space']['cnn_kernel_sizes'][0] for item in trainer.space_result.values() if item['space']['PWM'] is True]\n",
    "pwm_y=[item['val_macro_F1'] for item in trainer.space_result.values() if item['space']['PWM'] is True]\n",
    "pwm_x,pwm_y = zip(*sorted(zip(pwm_x, pwm_y)))"
   ]
  },
  {
   "cell_type": "code",
   "execution_count": 92,
   "metadata": {},
   "outputs": [],
   "source": [
    "x=[item['space']['cnn_kernel_sizes'][0] for item in trainer.space_result.values() if item['space']['PWM'] is False]\n",
    "y=[item['val_macro_F1'] for item in trainer.space_result.values() if item['space']['PWM'] is False]\n",
    "x,y = zip(*sorted(zip(x, y)))"
   ]
  },
  {
   "cell_type": "code",
   "execution_count": 121,
   "metadata": {},
   "outputs": [
    {
     "data": {
      "image/png": "[encoded data removed]",
      "text/plain": [
       "<Figure size 432x288 with 1 Axes>"
      ]
     },
     "metadata": {
      "needs_background": "light"
     },
     "output_type": "display_data"
    }
   ],
   "source": [
    "from matplotlib import pyplot\n",
    "pyplot.xlabel('kernel size')\n",
    "pyplot.ylabel('best validation  macro F1')\n",
    "pyplot.plot(x,y,'-o',color='red',label='Without PWM')\n",
    "pyplot.plot(pwm_x,pwm_y,'-o',label='With PWM')\n",
    "pyplot.legend()\n",
    "pyplot.ylim(0.5,0.85)\n",
    "pyplot.title('termite_2019_03_15')\n",
    "pyplot.savefig(trainer.root+\"/termite_model_space_result_plot_2019_03_17.png\")"
   ]
  },
  {
   "cell_type": "code",
   "execution_count": 171,
   "metadata": {},
   "outputs": [],
   "source": [
    "data = {}\n",
    "for id_ in trainer.space_result.keys():\n",
    "    item = trainer.space_result[id_]\n",
    "    data[id_] = {'cnn_kernel_sizes':item['space']['cnn_kernel_sizes'][0],\n",
    "                 'PWM':item['space']['PWM'],\n",
    "                 'val_macro_F1':round(item['val_macro_F1'],2)}\n",
    "    for key,val in trainer.test_record[id_].items():\n",
    "        data[id_][key] = round(val[0],2)"
   ]
  },
  {
   "cell_type": "code",
   "execution_count": 172,
   "metadata": {},
   "outputs": [
    {
     "data": {
      "text/plain": [
       "{1: {'PWM': False,\n",
       "  'cnn_kernel_sizes': 60,\n",
       "  'test_F1_exon': 0.56,\n",
       "  'test_F1_intron': 0.8,\n",
       "  'test_F1_other': 0.84,\n",
       "  'test_accuracy': 0.76,\n",
       "  'test_loss': 3346.21,\n",
       "  'test_macro_F1': 0.76,\n",
       "  'val_macro_F1': 0.82},\n",
       " 2: {'PWM': True,\n",
       "  'cnn_kernel_sizes': 6,\n",
       "  'test_F1_exon': 0.52,\n",
       "  'test_F1_intron': 0.66,\n",
       "  'test_F1_other': 0.74,\n",
       "  'test_accuracy': 0.64,\n",
       "  'test_loss': 2412.22,\n",
       "  'test_macro_F1': 0.66,\n",
       "  'val_macro_F1': 0.71},\n",
       " 3: {'PWM': True,\n",
       "  'cnn_kernel_sizes': 82,\n",
       "  'test_F1_exon': 0.3,\n",
       "  'test_F1_intron': 0.72,\n",
       "  'test_F1_other': 0.44,\n",
       "  'test_accuracy': 0.55,\n",
       "  'test_loss': 3431.65,\n",
       "  'test_macro_F1': 0.55,\n",
       "  'val_macro_F1': 0.72},\n",
       " 4: {'PWM': True,\n",
       "  'cnn_kernel_sizes': 84,\n",
       "  'test_F1_exon': 0.37,\n",
       "  'test_F1_intron': 0.72,\n",
       "  'test_F1_other': 0.56,\n",
       "  'test_accuracy': 0.61,\n",
       "  'test_loss': 3358.83,\n",
       "  'test_macro_F1': 0.6,\n",
       "  'val_macro_F1': 0.68},\n",
       " 5: {'PWM': False,\n",
       "  'cnn_kernel_sizes': 110,\n",
       "  'test_F1_exon': 0.34,\n",
       "  'test_F1_intron': 0.15,\n",
       "  'test_F1_other': 0.47,\n",
       "  'test_accuracy': 0.32,\n",
       "  'test_loss': 7437.87,\n",
       "  'test_macro_F1': 0.36,\n",
       "  'val_macro_F1': 0.55},\n",
       " 6: {'PWM': False,\n",
       "  'cnn_kernel_sizes': 64,\n",
       "  'test_F1_exon': 0.41,\n",
       "  'test_F1_intron': 0.59,\n",
       "  'test_F1_other': 0.8,\n",
       "  'test_accuracy': 0.6,\n",
       "  'test_loss': 4166.31,\n",
       "  'test_macro_F1': 0.61,\n",
       "  'val_macro_F1': 0.66},\n",
       " 7: {'PWM': True,\n",
       "  'cnn_kernel_sizes': 106,\n",
       "  'test_F1_exon': 0.38,\n",
       "  'test_F1_intron': 0.71,\n",
       "  'test_F1_other': 0.8,\n",
       "  'test_accuracy': 0.67,\n",
       "  'test_loss': 2426.75,\n",
       "  'test_macro_F1': 0.65,\n",
       "  'val_macro_F1': 0.68},\n",
       " 8: {'PWM': False,\n",
       "  'cnn_kernel_sizes': 86,\n",
       "  'test_F1_exon': 0.49,\n",
       "  'test_F1_intron': 0.74,\n",
       "  'test_F1_other': 0.78,\n",
       "  'test_accuracy': 0.7,\n",
       "  'test_loss': 3323.91,\n",
       "  'test_macro_F1': 0.69,\n",
       "  'val_macro_F1': 0.74},\n",
       " 9: {'PWM': True,\n",
       "  'cnn_kernel_sizes': 112,\n",
       "  'test_F1_exon': 0.47,\n",
       "  'test_F1_intron': 0.0,\n",
       "  'test_F1_other': 0.71,\n",
       "  'test_accuracy': 0.43,\n",
       "  'test_loss': 6779.77,\n",
       "  'test_macro_F1': 0.45,\n",
       "  'val_macro_F1': 0.6},\n",
       " 10: {'PWM': False,\n",
       "  'cnn_kernel_sizes': 64,\n",
       "  'test_F1_exon': 0.46,\n",
       "  'test_F1_intron': 0.72,\n",
       "  'test_F1_other': 0.72,\n",
       "  'test_accuracy': 0.66,\n",
       "  'test_loss': 2787.81,\n",
       "  'test_macro_F1': 0.64,\n",
       "  'val_macro_F1': 0.57},\n",
       " 11: {'PWM': False,\n",
       "  'cnn_kernel_sizes': 10,\n",
       "  'test_F1_exon': 0.46,\n",
       "  'test_F1_intron': 0.08,\n",
       "  'test_F1_other': 0.75,\n",
       "  'test_accuracy': 0.45,\n",
       "  'test_loss': 13167.94,\n",
       "  'test_macro_F1': 0.56,\n",
       "  'val_macro_F1': 0.67},\n",
       " 12: {'PWM': False,\n",
       "  'cnn_kernel_sizes': 110,\n",
       "  'test_F1_exon': 0.4,\n",
       "  'test_F1_intron': 0.8,\n",
       "  'test_F1_other': 0.78,\n",
       "  'test_accuracy': 0.7,\n",
       "  'test_loss': 3999.03,\n",
       "  'test_macro_F1': 0.67,\n",
       "  'val_macro_F1': 0.76},\n",
       " 13: {'PWM': True,\n",
       "  'cnn_kernel_sizes': 120,\n",
       "  'test_F1_exon': 0.5,\n",
       "  'test_F1_intron': 0.31,\n",
       "  'test_F1_other': 0.63,\n",
       "  'test_accuracy': 0.47,\n",
       "  'test_loss': 9784.41,\n",
       "  'test_macro_F1': 0.56,\n",
       "  'val_macro_F1': 0.6},\n",
       " 14: {'PWM': False,\n",
       "  'cnn_kernel_sizes': 74,\n",
       "  'test_F1_exon': 0.45,\n",
       "  'test_F1_intron': 0.78,\n",
       "  'test_F1_other': 0.87,\n",
       "  'test_accuracy': 0.74,\n",
       "  'test_loss': 1651.28,\n",
       "  'test_macro_F1': 0.7,\n",
       "  'val_macro_F1': 0.67},\n",
       " 15: {'PWM': False,\n",
       "  'cnn_kernel_sizes': 44,\n",
       "  'test_F1_exon': 0.44,\n",
       "  'test_F1_intron': 0.71,\n",
       "  'test_F1_other': 0.66,\n",
       "  'test_accuracy': 0.64,\n",
       "  'test_loss': 2779.14,\n",
       "  'test_macro_F1': 0.63,\n",
       "  'val_macro_F1': 0.66},\n",
       " 16: {'PWM': True,\n",
       "  'cnn_kernel_sizes': 52,\n",
       "  'test_F1_exon': 0.47,\n",
       "  'test_F1_intron': 0.75,\n",
       "  'test_F1_other': 0.8,\n",
       "  'test_accuracy': 0.71,\n",
       "  'test_loss': 4309.85,\n",
       "  'test_macro_F1': 0.7,\n",
       "  'val_macro_F1': 0.76}}"
      ]
     },
     "execution_count": 172,
     "metadata": {},
     "output_type": "execute_result"
    }
   ],
   "source": [
    "data"
   ]
  },
  {
   "cell_type": "code",
   "execution_count": 179,
   "metadata": {},
   "outputs": [],
   "source": [
    "import pandas as pd\n",
    "df = pd.DataFrame.from_dict(data).T"
   ]
  },
  {
   "cell_type": "code",
   "execution_count": 180,
   "metadata": {},
   "outputs": [
    {
     "data": {
      "text/html": [
       "<div>\n",
       "<style scoped>\n",
       "    .dataframe tbody tr th:only-of-type {\n",
       "        vertical-align: middle;\n",
       "    }\n",
       "\n",
       "    .dataframe tbody tr th {\n",
       "        vertical-align: top;\n",
       "    }\n",
       "\n",
       "    .dataframe thead th {\n",
       "        text-align: right;\n",
       "    }\n",
       "</style>\n",
       "<table border=\"1\" class=\"dataframe\">\n",
       "  <thead>\n",
       "    <tr style=\"text-align: right;\">\n",
       "      <th></th>\n",
       "      <th>PWM</th>\n",
       "      <th>cnn_kernel_sizes</th>\n",
       "      <th>test_F1_exon</th>\n",
       "      <th>test_F1_intron</th>\n",
       "      <th>test_F1_other</th>\n",
       "      <th>test_accuracy</th>\n",
       "      <th>test_loss</th>\n",
       "      <th>test_macro_F1</th>\n",
       "      <th>val_macro_F1</th>\n",
       "    </tr>\n",
       "  </thead>\n",
       "  <tbody>\n",
       "    <tr>\n",
       "      <th>1</th>\n",
       "      <td>False</td>\n",
       "      <td>60</td>\n",
       "      <td>0.56</td>\n",
       "      <td>0.8</td>\n",
       "      <td>0.84</td>\n",
       "      <td>0.76</td>\n",
       "      <td>3346.21</td>\n",
       "      <td>0.76</td>\n",
       "      <td>0.82</td>\n",
       "    </tr>\n",
       "    <tr>\n",
       "      <th>2</th>\n",
       "      <td>True</td>\n",
       "      <td>6</td>\n",
       "      <td>0.52</td>\n",
       "      <td>0.66</td>\n",
       "      <td>0.74</td>\n",
       "      <td>0.64</td>\n",
       "      <td>2412.22</td>\n",
       "      <td>0.66</td>\n",
       "      <td>0.71</td>\n",
       "    </tr>\n",
       "    <tr>\n",
       "      <th>3</th>\n",
       "      <td>True</td>\n",
       "      <td>82</td>\n",
       "      <td>0.3</td>\n",
       "      <td>0.72</td>\n",
       "      <td>0.44</td>\n",
       "      <td>0.55</td>\n",
       "      <td>3431.65</td>\n",
       "      <td>0.55</td>\n",
       "      <td>0.72</td>\n",
       "    </tr>\n",
       "    <tr>\n",
       "      <th>4</th>\n",
       "      <td>True</td>\n",
       "      <td>84</td>\n",
       "      <td>0.37</td>\n",
       "      <td>0.72</td>\n",
       "      <td>0.56</td>\n",
       "      <td>0.61</td>\n",
       "      <td>3358.83</td>\n",
       "      <td>0.6</td>\n",
       "      <td>0.68</td>\n",
       "    </tr>\n",
       "    <tr>\n",
       "      <th>5</th>\n",
       "      <td>False</td>\n",
       "      <td>110</td>\n",
       "      <td>0.34</td>\n",
       "      <td>0.15</td>\n",
       "      <td>0.47</td>\n",
       "      <td>0.32</td>\n",
       "      <td>7437.87</td>\n",
       "      <td>0.36</td>\n",
       "      <td>0.55</td>\n",
       "    </tr>\n",
       "    <tr>\n",
       "      <th>6</th>\n",
       "      <td>False</td>\n",
       "      <td>64</td>\n",
       "      <td>0.41</td>\n",
       "      <td>0.59</td>\n",
       "      <td>0.8</td>\n",
       "      <td>0.6</td>\n",
       "      <td>4166.31</td>\n",
       "      <td>0.61</td>\n",
       "      <td>0.66</td>\n",
       "    </tr>\n",
       "    <tr>\n",
       "      <th>7</th>\n",
       "      <td>True</td>\n",
       "      <td>106</td>\n",
       "      <td>0.38</td>\n",
       "      <td>0.71</td>\n",
       "      <td>0.8</td>\n",
       "      <td>0.67</td>\n",
       "      <td>2426.75</td>\n",
       "      <td>0.65</td>\n",
       "      <td>0.68</td>\n",
       "    </tr>\n",
       "    <tr>\n",
       "      <th>8</th>\n",
       "      <td>False</td>\n",
       "      <td>86</td>\n",
       "      <td>0.49</td>\n",
       "      <td>0.74</td>\n",
       "      <td>0.78</td>\n",
       "      <td>0.7</td>\n",
       "      <td>3323.91</td>\n",
       "      <td>0.69</td>\n",
       "      <td>0.74</td>\n",
       "    </tr>\n",
       "    <tr>\n",
       "      <th>9</th>\n",
       "      <td>True</td>\n",
       "      <td>112</td>\n",
       "      <td>0.47</td>\n",
       "      <td>0</td>\n",
       "      <td>0.71</td>\n",
       "      <td>0.43</td>\n",
       "      <td>6779.77</td>\n",
       "      <td>0.45</td>\n",
       "      <td>0.6</td>\n",
       "    </tr>\n",
       "    <tr>\n",
       "      <th>10</th>\n",
       "      <td>False</td>\n",
       "      <td>64</td>\n",
       "      <td>0.46</td>\n",
       "      <td>0.72</td>\n",
       "      <td>0.72</td>\n",
       "      <td>0.66</td>\n",
       "      <td>2787.81</td>\n",
       "      <td>0.64</td>\n",
       "      <td>0.57</td>\n",
       "    </tr>\n",
       "    <tr>\n",
       "      <th>11</th>\n",
       "      <td>False</td>\n",
       "      <td>10</td>\n",
       "      <td>0.46</td>\n",
       "      <td>0.08</td>\n",
       "      <td>0.75</td>\n",
       "      <td>0.45</td>\n",
       "      <td>13167.9</td>\n",
       "      <td>0.56</td>\n",
       "      <td>0.67</td>\n",
       "    </tr>\n",
       "    <tr>\n",
       "      <th>12</th>\n",
       "      <td>False</td>\n",
       "      <td>110</td>\n",
       "      <td>0.4</td>\n",
       "      <td>0.8</td>\n",
       "      <td>0.78</td>\n",
       "      <td>0.7</td>\n",
       "      <td>3999.03</td>\n",
       "      <td>0.67</td>\n",
       "      <td>0.76</td>\n",
       "    </tr>\n",
       "    <tr>\n",
       "      <th>13</th>\n",
       "      <td>True</td>\n",
       "      <td>120</td>\n",
       "      <td>0.5</td>\n",
       "      <td>0.31</td>\n",
       "      <td>0.63</td>\n",
       "      <td>0.47</td>\n",
       "      <td>9784.41</td>\n",
       "      <td>0.56</td>\n",
       "      <td>0.6</td>\n",
       "    </tr>\n",
       "    <tr>\n",
       "      <th>14</th>\n",
       "      <td>False</td>\n",
       "      <td>74</td>\n",
       "      <td>0.45</td>\n",
       "      <td>0.78</td>\n",
       "      <td>0.87</td>\n",
       "      <td>0.74</td>\n",
       "      <td>1651.28</td>\n",
       "      <td>0.7</td>\n",
       "      <td>0.67</td>\n",
       "    </tr>\n",
       "    <tr>\n",
       "      <th>15</th>\n",
       "      <td>False</td>\n",
       "      <td>44</td>\n",
       "      <td>0.44</td>\n",
       "      <td>0.71</td>\n",
       "      <td>0.66</td>\n",
       "      <td>0.64</td>\n",
       "      <td>2779.14</td>\n",
       "      <td>0.63</td>\n",
       "      <td>0.66</td>\n",
       "    </tr>\n",
       "    <tr>\n",
       "      <th>16</th>\n",
       "      <td>True</td>\n",
       "      <td>52</td>\n",
       "      <td>0.47</td>\n",
       "      <td>0.75</td>\n",
       "      <td>0.8</td>\n",
       "      <td>0.71</td>\n",
       "      <td>4309.85</td>\n",
       "      <td>0.7</td>\n",
       "      <td>0.76</td>\n",
       "    </tr>\n",
       "  </tbody>\n",
       "</table>\n",
       "</div>"
      ],
      "text/plain": [
       "      PWM cnn_kernel_sizes test_F1_exon test_F1_intron test_F1_other  \\\n",
       "1   False               60         0.56            0.8          0.84   \n",
       "2    True                6         0.52           0.66          0.74   \n",
       "3    True               82          0.3           0.72          0.44   \n",
       "4    True               84         0.37           0.72          0.56   \n",
       "5   False              110         0.34           0.15          0.47   \n",
       "6   False               64         0.41           0.59           0.8   \n",
       "7    True              106         0.38           0.71           0.8   \n",
       "8   False               86         0.49           0.74          0.78   \n",
       "9    True              112         0.47              0          0.71   \n",
       "10  False               64         0.46           0.72          0.72   \n",
       "11  False               10         0.46           0.08          0.75   \n",
       "12  False              110          0.4            0.8          0.78   \n",
       "13   True              120          0.5           0.31          0.63   \n",
       "14  False               74         0.45           0.78          0.87   \n",
       "15  False               44         0.44           0.71          0.66   \n",
       "16   True               52         0.47           0.75           0.8   \n",
       "\n",
       "   test_accuracy test_loss test_macro_F1 val_macro_F1  \n",
       "1           0.76   3346.21          0.76         0.82  \n",
       "2           0.64   2412.22          0.66         0.71  \n",
       "3           0.55   3431.65          0.55         0.72  \n",
       "4           0.61   3358.83           0.6         0.68  \n",
       "5           0.32   7437.87          0.36         0.55  \n",
       "6            0.6   4166.31          0.61         0.66  \n",
       "7           0.67   2426.75          0.65         0.68  \n",
       "8            0.7   3323.91          0.69         0.74  \n",
       "9           0.43   6779.77          0.45          0.6  \n",
       "10          0.66   2787.81          0.64         0.57  \n",
       "11          0.45   13167.9          0.56         0.67  \n",
       "12           0.7   3999.03          0.67         0.76  \n",
       "13          0.47   9784.41          0.56          0.6  \n",
       "14          0.74   1651.28           0.7         0.67  \n",
       "15          0.64   2779.14          0.63         0.66  \n",
       "16          0.71   4309.85           0.7         0.76  "
      ]
     },
     "execution_count": 180,
     "metadata": {},
     "output_type": "execute_result"
    }
   ],
   "source": [
    "#df.index+=1\n",
    "df"
   ]
  },
  {
   "cell_type": "code",
   "execution_count": null,
   "metadata": {},
   "outputs": [],
   "source": []
  }
 ],
 "metadata": {
  "kernelspec": {
   "display_name": "Python 3",
   "language": "python",
   "name": "python3"
  },
  "language_info": {
   "codemirror_mode": {
    "name": "ipython",
    "version": 3
   },
   "file_extension": ".py",
   "mimetype": "text/x-python",
   "name": "python",
   "nbconvert_exporter": "python",
   "pygments_lexer": "ipython3",
   "version": "3.5.2"
  }
 },
 "nbformat": 4,
 "nbformat_minor": 2
}
