{
 "cells": [
  {
   "cell_type": "code",
   "execution_count": 1,
   "metadata": {},
   "outputs": [],
   "source": [
    "import os\n",
    "os.environ[\"CUDA_VISIBLE_DEVICES\"]=\"0\"\n",
    "import torch\n",
    "torch.backends.cudnn.benchmark = True"
   ]
  },
  {
   "cell_type": "code",
   "execution_count": 2,
   "metadata": {},
   "outputs": [
    {
     "name": "stderr",
     "output_type": "stream",
     "text": [
      "Using TensorFlow backend.\n"
     ]
    }
   ],
   "source": [
    "import deepdish as dd\n",
    "from sequence_annotation.genome_handler.seq_container import AnnSeqContainer\n",
    "from sequence_annotation.data_handler.fasta import read_fasta\n",
    "from sequence_annotation.genome_handler.utils import select_seq\n",
    "from sequence_annotation.genome_handler.ann_genome_processor import get_mixed_types_genome,simplify_genome\n",
    "from sequence_annotation.visual.visual import visual_ann_genome,visual_ann_seq\n",
    "from sequence_annotation.pytorch.SA_facade import SeqAnnFacade\n",
    "from sequence_annotation.pytorch.loss import SeqAnnLoss\n",
    "from sequence_annotation.genome_handler import ann_seq_processor\n",
    "from sequence_annotation.pytorch.model import SeqAnnModel,seq_ann_inference\n",
    "from sequence_annotation.data_handler.fasta import write_fasta"
   ]
  },
  {
   "cell_type": "code",
   "execution_count": 3,
   "metadata": {},
   "outputs": [],
   "source": [
    "h5=dd.io.load('../io/Arabidopsis_thaliana/data/2019_05_11/result/selected_region.h5')\n",
    "fasta = read_fasta('../io/Arabidopsis_thaliana/data/2019_05_11/result/selected_region.fasta')\n",
    "ann_seqs = AnnSeqContainer().from_dict(h5)"
   ]
  },
  {
   "cell_type": "code",
   "execution_count": 4,
   "metadata": {},
   "outputs": [
    {
     "name": "stderr",
     "output_type": "stream",
     "text": [
      "/home/sequence_annotation/sequence_annotation/genome_handler/ann_seq_processor.py:238: RuntimeWarning: invalid value encountered in true_divide\n",
      "  vecs.append(np.nan_to_num(temp/temp))\n"
     ]
    }
   ],
   "source": [
    "ann_seqs = get_mixed_types_genome(ann_seqs)\n",
    "simplify_map={'exon':['cds','utr_5','utr_3','mix'],'intron':['intron'],'other':['other']}\n",
    "ann_seqs = simplify_genome(ann_seqs,simplify_map)\n",
    "selected_fasta,selected_seqs,o_f,o_s = select_seq(fasta,ann_seqs,max_len=2000)"
   ]
  },
  {
   "cell_type": "code",
   "execution_count": 5,
   "metadata": {},
   "outputs": [
    {
     "name": "stdout",
     "output_type": "stream",
     "text": [
      "278 {'exon': 182591.0, 'intron': 20899.0, 'other': 278000.0}\n",
      "118 {'exon': 81031.0, 'intron': 9514.0, 'other': 118000.0}\n"
     ]
    }
   ],
   "source": [
    "facade = SeqAnnFacade()\n",
    "facade.assign_data_by_random(selected_fasta,selected_seqs,ratio=[0.7,0.3,0])"
   ]
  },
  {
   "cell_type": "code",
   "execution_count": 6,
   "metadata": {},
   "outputs": [
    {
     "data": {
      "text/plain": [
       "278"
      ]
     },
     "execution_count": 6,
     "metadata": {},
     "output_type": "execute_result"
    }
   ],
   "source": [
    "len(facade.train_seqs)"
   ]
  },
  {
   "cell_type": "code",
   "execution_count": 7,
   "metadata": {},
   "outputs": [
    {
     "name": "stderr",
     "output_type": "stream",
     "text": [
      "/home/sequence_annotation/sequence_annotation/genome_handler/ann_seq_processor.py:191: UserWarning: \n",
      "\n",
      "!!!\n",
      "\tDNA sequence will be rearranged from 5' to 3'.\n",
      "\tThe plus strand sequence will stay the same, but the minus strand sequence will be flipped!\n",
      "!!!\n",
      "\n",
      "  warnings.warn(warn)\n"
     ]
    }
   ],
   "source": [
    "facade.set_path('../io/record/arabidopsis_2019_05_15/debug')\n",
    "facade.set_optimizer(optimizer_settings={'lr':1e-3})\n",
    "facade.simplify_map = {'gene':['exon','intron'],'other':['other']}\n",
    "facade.add_seq_fig(o_f,o_s,inference=None)"
   ]
  },
  {
   "cell_type": "code",
   "execution_count": 8,
   "metadata": {},
   "outputs": [],
   "source": [
    "write_fasta('../io/record/arabidopsis_2019_05_22/trial_01/train.fasta',facade.train_seqs)\n",
    "write_fasta('../io/record/arabidopsis_2019_05_22/trial_01/val.fasta',facade.val_seqs)"
   ]
  },
  {
   "cell_type": "code",
   "execution_count": 9,
   "metadata": {},
   "outputs": [],
   "source": [
    "space={\n",
    "    'cnns_setting':{\n",
    "        \"ln_mode\":\"after_activation\",\n",
    "        'num_layers':4,\n",
    "        'with_pwm':False\n",
    "        'out_channels':[16,16,16,16],\n",
    "        'kernel_sizes':[60,60,60,60]\n",
    "    },\n",
    "    'rnns_setting':{\n",
    "        'num_layers':4,\n",
    "        'hidden_size':32,\n",
    "        'batch_first':True,\n",
    "        'bidirectional':True\n",
    "    },\n",
    "    'pwm_before_rnns':False,\n",
    "    'rnns_type':'GRU',\n",
    "    'last_kernel_size':1\n",
    "}"
   ]
  },
  {
   "cell_type": "code",
   "execution_count": 10,
   "metadata": {},
   "outputs": [],
   "source": [
    "model = SeqAnnModel(input_size=4,out_channels=3,use_sigmoid=True,**space).cuda()"
   ]
  },
  {
   "cell_type": "code",
   "execution_count": 11,
   "metadata": {},
   "outputs": [
    {
     "name": "stdout",
     "output_type": "stream",
     "text": [
      "278 {'exon': 182591.0, 'intron': 20899.0, 'other': 278000.0}\n",
      "118 {'exon': 81031.0, 'intron': 9514.0, 'other': 118000.0}\n"
     ]
    },
    {
     "name": "stderr",
     "output_type": "stream",
     "text": [
      "/home/sequence_annotation/sequence_annotation/genome_handler/ann_genome_processor.py:75: UserWarning: \n",
      "\n",
      "!!!\n",
      "\tDNA sequence will be rearranged from 5' to 3'.\n",
      "\tThe plus strand sequence will stay the same, but the minus strand sequence will be flipped!\n",
      "!!!\n",
      "\n",
      "  warnings.warn(warn)\n"
     ]
    },
    {
     "name": "stdout",
     "output_type": "stream",
     "text": [
      "Creating folder ../io/record/arabidopsis_2019_05_15/debug...\n",
      "Processing worker...\n",
      "Executing...\n",
      "Start working(2019-05-18 17:41:30)\n",
      "1 21.467 {'macro_F1': 0.387, 'F1_intron': 0.0, 'F1_other': 0.003, 'accuracy': 0.381, 'F1_exon': 0.551, 'val_accuracy': 0.546, 'loss': 3.196, 'val_macro_F1': 0.32, 'val_F1_intron': 0.0, 'val_F1_exon': 0.006, 'val_loss': 1.463, 'val_F1_other': 0.706}\n",
      "2 23.805 {'macro_F1': 0.372, 'F1_intron': 0.0, 'F1_other': 0.188, 'accuracy': 0.425, 'F1_exon': 0.559, 'val_accuracy': 0.453, 'loss': 1.31, 'val_macro_F1': 0.376, 'val_F1_intron': 0.0, 'val_F1_exon': 0.586, 'val_loss': 1.033, 'val_F1_other': 0.21}\n",
      "3 22.755 {'macro_F1': 0.354, 'F1_intron': 0.156, 'F1_other': 0.716, 'accuracy': 0.557, 'F1_exon': 0.002, 'val_accuracy': 0.5, 'loss': 0.95, 'val_macro_F1': 0.437, 'val_F1_intron': 0.172, 'val_F1_exon': 0.125, 'val_loss': 0.991, 'val_F1_other': 0.672}\n",
      "4 22.538 {'macro_F1': 0.421, 'F1_intron': 0.0, 'F1_other': 0.643, 'accuracy': 0.61, 'F1_exon': 0.591, 'val_accuracy': 0.611, 'loss': 0.842, 'val_macro_F1': 0.405, 'val_F1_intron': 0.0, 'val_F1_exon': 0.417, 'val_loss': 0.873, 'val_F1_other': 0.722}\n",
      "5 23.492 {'macro_F1': 0.413, 'F1_intron': 0.0, 'F1_other': 0.732, 'accuracy': 0.628, 'F1_exon': 0.456, 'val_accuracy': 0.63, 'loss': 0.877, 'val_macro_F1': 0.434, 'val_F1_intron': 0.0, 'val_F1_exon': 0.616, 'val_loss': 0.918, 'val_F1_other': 0.673}\n",
      "6 19.056 {'macro_F1': 0.418, 'F1_intron': 0.0, 'F1_other': 0.751, 'accuracy': 0.643, 'F1_exon': 0.422, 'val_accuracy': 0.62, 'loss': 0.855, 'val_macro_F1': 0.416, 'val_F1_intron': 0.0, 'val_F1_exon': 0.394, 'val_loss': 0.827, 'val_F1_other': 0.734}\n",
      "7 19.788 {'macro_F1': 0.463, 'F1_intron': 0.0, 'F1_other': 0.72, 'accuracy': 0.673, 'F1_exon': 0.658, 'val_accuracy': 0.665, 'loss': 0.762, 'val_macro_F1': 0.446, 'val_F1_intron': 0.0, 'val_F1_exon': 0.594, 'val_loss': 0.737, 'val_F1_other': 0.739}\n",
      "8 19.37 {'macro_F1': 0.468, 'F1_intron': 0.011, 'F1_other': 0.769, 'accuracy': 0.673, 'F1_exon': 0.54, 'val_accuracy': 0.678, 'loss': 0.753, 'val_macro_F1': 0.459, 'val_F1_intron': 0.0, 'val_F1_exon': 0.637, 'val_loss': 0.71, 'val_F1_other': 0.739}\n",
      "9 19.039 {'macro_F1': 0.484, 'F1_intron': 0.0, 'F1_other': 0.799, 'accuracy': 0.724, 'F1_exon': 0.645, 'val_accuracy': 0.679, 'loss': 0.693, 'val_macro_F1': 0.456, 'val_F1_intron': 0.0, 'val_F1_exon': 0.585, 'val_loss': 0.732, 'val_F1_other': 0.759}\n",
      "10 17.962 {'macro_F1': 0.462, 'F1_intron': 0.0, 'F1_other': 0.723, 'accuracy': 0.684, 'F1_exon': 0.655, 'val_accuracy': 0.689, 'loss': 0.702, 'val_macro_F1': 0.463, 'val_F1_intron': 0.0, 'val_F1_exon': 0.603, 'val_loss': 0.717, 'val_F1_other': 0.765}\n",
      "11 19.289 {'macro_F1': 0.483, 'F1_intron': 0.0, 'F1_other': 0.749, 'accuracy': 0.704, 'F1_exon': 0.69, 'val_accuracy': 0.687, 'loss': 0.692, 'val_macro_F1': 0.47, 'val_F1_intron': 0.0, 'val_F1_exon': 0.668, 'val_loss': 0.687, 'val_F1_other': 0.735}\n",
      "12 18.689 {'macro_F1': 0.448, 'F1_intron': 0.0, 'F1_other': 0.771, 'accuracy': 0.679, 'F1_exon': 0.524, 'val_accuracy': 0.682, 'loss': 0.702, 'val_macro_F1': 0.47, 'val_F1_intron': 0.0, 'val_F1_exon': 0.671, 'val_loss': 0.7, 'val_F1_other': 0.724}\n",
      "13 17.544 {'macro_F1': 0.457, 'F1_intron': 0.0, 'F1_other': 0.765, 'accuracy': 0.684, 'F1_exon': 0.595, 'val_accuracy': 0.694, 'loss': 0.682, 'val_macro_F1': 0.469, 'val_F1_intron': 0.0, 'val_F1_exon': 0.593, 'val_loss': 0.698, 'val_F1_other': 0.773}\n",
      "14 18.336 {'macro_F1': 0.45, 'F1_intron': 0.0, 'F1_other': 0.711, 'accuracy': 0.663, 'F1_exon': 0.63, 'val_accuracy': 0.704, 'loss': 0.672, 'val_macro_F1': 0.474, 'val_F1_intron': 0.0, 'val_F1_exon': 0.649, 'val_loss': 0.665, 'val_F1_other': 0.769}\n",
      "15 19.078 {'macro_F1': 0.504, 'F1_intron': 0.0, 'F1_other': 0.804, 'accuracy': 0.754, 'F1_exon': 0.702, 'val_accuracy': 0.679, 'loss': 0.638, 'val_macro_F1': 0.473, 'val_F1_intron': 0.0, 'val_F1_exon': 0.676, 'val_loss': 0.684, 'val_F1_other': 0.714}\n",
      "16 18.21 {'macro_F1': 0.445, 'F1_intron': 0.0, 'F1_other': 0.755, 'accuracy': 0.674, 'F1_exon': 0.56, 'val_accuracy': 0.708, 'loss': 0.67, 'val_macro_F1': 0.477, 'val_F1_intron': 0.0, 'val_F1_exon': 0.644, 'val_loss': 0.652, 'val_F1_other': 0.777}\n",
      "17 17.491 {'macro_F1': 0.463, 'F1_intron': 0.0, 'F1_other': 0.742, 'accuracy': 0.678, 'F1_exon': 0.642, 'val_accuracy': 0.702, 'loss': 0.654, 'val_macro_F1': 0.475, 'val_F1_intron': 0.0, 'val_F1_exon': 0.609, 'val_loss': 0.666, 'val_F1_other': 0.779}\n",
      "18 18.348 {'macro_F1': 0.493, 'F1_intron': 0.0, 'F1_other': 0.774, 'accuracy': 0.726, 'F1_exon': 0.694, 'val_accuracy': 0.712, 'loss': 0.626, 'val_macro_F1': 0.481, 'val_F1_intron': 0.0, 'val_F1_exon': 0.673, 'val_loss': 0.637, 'val_F1_other': 0.771}\n",
      "19 19.441 {'macro_F1': 0.507, 'F1_intron': 0.0, 'F1_other': 0.811, 'accuracy': 0.756, 'F1_exon': 0.687, 'val_accuracy': 0.698, 'loss': 0.613, 'val_macro_F1': 0.485, 'val_F1_intron': 0.0, 'val_F1_exon': 0.692, 'val_loss': 0.655, 'val_F1_other': 0.737}\n",
      "20 18.269 {'macro_F1': 0.469, 'F1_intron': 0.0, 'F1_other': 0.784, 'accuracy': 0.7, 'F1_exon': 0.561, 'val_accuracy': 0.722, 'loss': 0.642, 'val_macro_F1': 0.487, 'val_F1_intron': 0.0, 'val_F1_exon': 0.677, 'val_loss': 0.62, 'val_F1_other': 0.784}\n",
      "End working(2019-05-18 17:48:04)\n",
      "Spend time: 00:06:34\n"
     ]
    }
   ],
   "source": [
    "train_record = facade.train(model,batch_size=128,epoch_num=20)"
   ]
  },
  {
   "cell_type": "code",
   "execution_count": null,
   "metadata": {},
   "outputs": [],
   "source": []
  }
 ],
 "metadata": {
  "kernelspec": {
   "display_name": "Python 3",
   "language": "python",
   "name": "python3"
  },
  "language_info": {
   "codemirror_mode": {
    "name": "ipython",
    "version": 3
   },
   "file_extension": ".py",
   "mimetype": "text/x-python",
   "name": "python",
   "nbconvert_exporter": "python",
   "pygments_lexer": "ipython3",
   "version": "3.5.2"
  }
 },
 "nbformat": 4,
 "nbformat_minor": 2
}
