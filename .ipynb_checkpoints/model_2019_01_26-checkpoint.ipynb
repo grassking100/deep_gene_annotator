{
 "cells": [
  {
   "cell_type": "code",
   "execution_count": 1,
   "metadata": {},
   "outputs": [
    {
     "name": "stderr",
     "output_type": "stream",
     "text": [
      "Using TensorFlow backend.\n"
     ]
    }
   ],
   "source": [
    "import os\n",
    "os.environ[\"CUDA_DEVICE_ORDER\"]=\"PCI_BUS_ID\"\n",
    "os.environ[\"CUDA_VISIBLE_DEVICES\"]=\"1\"\n",
    "import sys\n",
    "from os.path import abspath, expanduser\n",
    "sys.path.append(abspath(expanduser(\"../RNN\")))\n",
    "sys.path.append(abspath(expanduser(\"../sequence_annotation\")))\n",
    "import torch\n",
    "import time\n",
    "import torch.nn as nn\n",
    "import numpy as np\n",
    "from sequence_annotation.visual.visual import visual_ann_seq\n",
    "from sequence_annotation.genome_handler import ann_seq_processor\n",
    "import deepdish as dd\n",
    "from sequence_annotation.data_handler.fasta import read_fasta\n",
    "from sequence_annotation.genome_handler.sequence import AnnSequence\n",
    "from sequence_annotation.genome_handler.seq_container import AnnSeqContainer\n",
    "from sequence_annotation.function.data_generator import SeqGenerator\n",
    "import random\n",
    "import torch.nn.functional as F\n",
    "from numpy import median\n",
    "from sequence_annotation.genome_handler.ann_genome_processor import simplify_genome,get_one_hot_genome\n",
    "from sequence_annotation.data_handler.seq_converter import SeqConverter\n",
    "from sequence_annotation.pytorch.customize_layer import CNN_1D,FocalLoss\n",
    "from torch.nn.utils.rnn import PackedSequence\n",
    "from torch.nn.utils.rnn import pack_padded_sequence,pad_packed_sequence\n",
    "from GatedIndRNN.python.gated_ind_rnn_cell import noisy_relu\n",
    "from GatedIndRNN.python.gated_ind_rnn_cell import noisy_hard_sigmoid\n",
    "from GatedIndRNN.python.gated_ind_rnn_cell import noisy_hard_tanh\n",
    "from rnn import RNN\n"
   ]
  },
  {
   "cell_type": "code",
   "execution_count": 98,
   "metadata": {},
   "outputs": [
    {
     "name": "stdout",
     "output_type": "stream",
     "text": [
      "32\n"
     ]
    }
   ],
   "source": [
    "h5=dd.io.load('../io/Arabidopsis_thaliana/data/2018_11_27/Araport11_exon_2018_11_27_merged_with_coordinate_file_megred_exon_dist_to_five_1000_dist_to_three_500_merged.h5')\n",
    "fasta = read_fasta('../io/Arabidopsis_thaliana/data/2018_11_27/Araport11_exon_2018_11_27_merged_with_coordinate_file_megred_exon_dist_to_five_1000_dist_to_three_500_merged.fasta')\n",
    "ann_seqs = AnnSeqContainer().from_dict(h5)\n",
    "seqs_len = [len(seq) for seq in ann_seqs]\n",
    "seqs_len.sort()\n",
    "len_threshold = seqs_len[:int(len(seqs_len)/100)][-1]\n",
    "inner_fasta = {}\n",
    "for seq in ann_seqs:\n",
    "    if len(seq) <= len_threshold:\n",
    "        inner_fasta[seq.id]=fasta[seq.id]\n",
    "keys = list(inner_fasta.keys())\n",
    "random.shuffle(keys)\n",
    "selected_seqs = AnnSeqContainer()\n",
    "selected_seqs.ANN_TYPES = ann_seqs.ANN_TYPES\n",
    "selected_fasta = {}\n",
    "number = 0\n",
    "for seq_id in keys:\n",
    "    selected_seqs.add(ann_seqs.get(seq_id))\n",
    "    selected_fasta[seq_id]=inner_fasta[seq_id]\n",
    "    number += 1\n",
    "selected_seqs = get_one_hot_genome(selected_seqs)\n",
    "selected_seqs = simplify_genome(selected_seqs,{'gene':['exon','intron','mix'],'other':['other']})\n",
    "print(number)"
   ]
  },
  {
   "cell_type": "code",
   "execution_count": 127,
   "metadata": {},
   "outputs": [],
   "source": [
    "import math\n",
    "import torch\n",
    "from torch.nn import functional as F\n",
    "from torch.nn.init import ones_,zeros_,uniform_,normal_,constant_\n",
    "from torch.nn import Hardtanh, Sigmoid\n",
    "from torch import randn\n",
    "\n",
    "hard_sigmoid = Hardtanh(0,1)\n",
    "hard_tanh = Hardtanh()\n",
    "sigmoid = Sigmoid()\n",
    "\n",
    "def sgn(x):\n",
    "    return (x>0).float()*2-1\n",
    "\n",
    "def noisy_hard_function(hard_function,alpha=1.0,c=0.05,p=1):\n",
    "    def noised(x,training):\n",
    "        h = hard_function(x)\n",
    "        if training:\n",
    "            native_result = (alpha*h+(1-alpha)*x).float()\n",
    "            diff = h-x\n",
    "            temp = sgn(x)\n",
    "            temp2=sgn(torch.FloatTensor([1-alpha])).cuda()\n",
    "            d = (-temp*temp2)\n",
    "            sigma=(c*(sigmoid(p*diff)-0.5)**2)\n",
    "            random = torch.abs(randn(x.size())).cuda()\n",
    "            return native_result+(d*sigma*random)\n",
    "        else:\n",
    "            return h\n",
    "    return noised\n",
    "\n",
    "def noisy_hard_tanh(alpha=1.0,c=0.05,p=1):\n",
    "    return noisy_hard_function(hard_tanh,alpha,c,p)\n",
    "def noisy_hard_sigmoid(alpha=1.0,c=0.05,p=1):\n",
    "    return noisy_hard_function(hard_sigmoid,alpha,c,p)\n",
    "def noisy_relu(alpha=1.0,c=0.05,p=1):\n",
    "    return noisy_hard_function(F.relu,alpha,c,p)\n",
    "\n",
    "class GatedIndRnnCell(torch.nn.Module):\n",
    "    def __init__(self, input_size, hidden_size,\n",
    "                 gate_function=None,recurrent_function=None):\n",
    "        super().__init__()\n",
    "        self._gate_num = 1\n",
    "        self.input_size = input_size\n",
    "        self.hidden_size = hidden_size\n",
    "        self.gate_weights = torch.nn.Parameter(torch.empty(hidden_size, hidden_size+input_size))\n",
    "        self.weights_i = torch.nn.Parameter(torch.empty(hidden_size, input_size))\n",
    "        self.gate_bias = torch.nn.Parameter(torch.empty(hidden_size))\n",
    "        self.gate_function = gate_function or noisy_hard_sigmoid()\n",
    "        self.recurrent_function = recurrent_function or noisy_hard_sigmoid()\n",
    "        self.reset_parameters()\n",
    "        self.output_names = ['new_h','pre_gate_i','gate_i','pre_h','values_i']\n",
    "    def reset_parameters(self):\n",
    "        nn.init.xavier_uniform_(self.gate_weights, 1)\n",
    "        nn.init.xavier_normal_(self.weights_i, gain=nn.init.calculate_gain('sigmoid'))\n",
    "        constant_(self.gate_bias,0)\n",
    "    def forward(self, input, state):\n",
    "        #input shape should be (number,feature size)\n",
    "        concat_input = torch.cat([input,state], dim=1)\n",
    "        pre_gate_i = F.linear(concat_input, self.gate_weights,self.gate_bias)\n",
    "        gate_i = self.gate_function(pre_gate_i,training=self.training)\n",
    "        values_i = F.linear(input, self.weights_i)\n",
    "        pre_h = state + values_i*gate_i\n",
    "        new_h = self.recurrent_function(pre_h,training=self.training)\n",
    "        return new_h,pre_gate_i,gate_i,pre_h,values_i\n",
    "cell_func = lambda input_size,hidden_size: GatedIndRnnCell(input_size=input_size,hidden_size=hidden_size)"
   ]
  },
  {
   "cell_type": "code",
   "execution_count": 128,
   "metadata": {},
   "outputs": [],
   "source": [
    "from sequence_annotation.pytorch.customize_layer import init_GRU#CNN_1D,FocalLoss,init_GRU\n",
    "class Model(nn.Module):\n",
    "    def __init__(self,class_num,writer=None):\n",
    "        super().__init__()\n",
    "        self.writer = writer\n",
    "        self.cnns = []\n",
    "        self.rnns = []\n",
    "        self.cnn_bns = []\n",
    "        self.rnn_bns = []\n",
    "        in_num=4\n",
    "        cnn_out_num=16\n",
    "        rnn_out_num=8\n",
    "        cnn_num=8\n",
    "        rnn_num=4\n",
    "        for index in range(1,1+cnn_num):\n",
    "            cnn = CNN_1D(in_channels=in_num,kernel_size=(2**index),\n",
    "                         out_channels=cnn_out_num).cuda()\n",
    "            bn = nn.BatchNorm1d(cnn_out_num).cuda()\n",
    "            self.cnns.append(cnn)\n",
    "            self.cnn_bns.append(bn)\n",
    "            in_num += cnn_out_num\n",
    "        for index in range(rnn_num):\n",
    "            bn = nn.BatchNorm1d(in_num).cuda()\n",
    "            rnn = RNN([cell_func(in_num,rnn_out_num),cell_func(in_num,rnn_out_num)],\n",
    "                      bidirectional=((index+1)!=rnn_num),rnn_init_value=0,reversed_rnn_init_value=0).cuda()\n",
    "            #rnn = nn.GRU(in_num,rnn_out_num,bidirectional=((index+1)!=rnn_num)).cuda()\n",
    "            self.rnns.append(rnn)\n",
    "            self.rnn_bns.append(bn)\n",
    "            if (index+1)==rnn_num:\n",
    "                in_num = rnn_out_num\n",
    "            else:\n",
    "                in_num += (rnn_out_num*2)\n",
    "        self.last_bn = nn.BatchNorm1d(in_num).cuda()               \n",
    "        self.last = CNN_1D(in_channels=in_num,kernel_size=1,out_channels=class_num).cuda()\n",
    "        for index,cnn in enumerate(self.cnns):\n",
    "            setattr(self, 'cnn_'+str(index), cnn)\n",
    "        for index,rnn in enumerate(self.rnns):\n",
    "            setattr(self, 'rnn_'+str(index), rnn)\n",
    "        self.reset_parameters()\n",
    "    def reset_parameters(self):\n",
    "        for layer in self.children():\n",
    "            layer.reset_parameters()\n",
    "        for cnn in self.cnns:\n",
    "            nn.init.xavier_normal_(cnn.cnn.weight, gain=nn.init.calculate_gain('relu'))\n",
    "            constant_(cnn.cnn.bias,0)\n",
    "        constant_(self.last.cnn.bias,0.5)\n",
    "    def forward(self, x, lengths=None):\n",
    "        input_ = x\n",
    "        for cnn,bn in zip(self.cnns,self.cnn_bns):\n",
    "            cnn_x = cnn(x)\n",
    "            post_act_x = noisy_relu()(cnn_x,self.training)\n",
    "            post_act_x = bn(post_act_x)\n",
    "            x = torch.cat([x,post_act_x],1)\n",
    "        if self.writer is not None:\n",
    "            if self.training:\n",
    "                prefix = \"last_\"\n",
    "            else:\n",
    "                prefix='val_last_'\n",
    "            val = x.contiguous().view(-1).cpu().detach().numpy()    \n",
    "            self.writer.add_histogram(prefix+'cnn_result',val)\n",
    "        x = torch.transpose(x, 1, 2)\n",
    "        for index in range(len(self.rnns)):\n",
    "            rnn = self.rnns[index]\n",
    "            #bn = self.rnn_bns[index]\n",
    "            #x = bn(x)\n",
    "            packed_x = pack_padded_sequence(x, lengths, batch_first=True)\n",
    "            rnn_outputs = rnn(packed_x)\n",
    "            rnn_x = rnn_outputs[0]\n",
    "            rnn_x, _ = pad_packed_sequence(rnn_x, batch_first=True)\n",
    "            if (1+index)==len(self.rnns):\n",
    "                x = rnn_x\n",
    "            else:\n",
    "                x = torch.cat([x,rnn_x],2)\n",
    "            if self.writer is not None:\n",
    "                for name,rnn_output in zip(rnn.output_names,rnn_outputs):\n",
    "                    if isinstance(rnn_output,PackedSequence):\n",
    "                        rnn_output,_ = pad_packed_sequence(rnn_output, batch_first=True)\n",
    "                    if self.training:\n",
    "                        prefix = \"rnn_\"+str(index)+\"_\"\n",
    "                    else:\n",
    "                        prefix='val_rnn_'+str(index)+\"_\"\n",
    "                    val = rnn_output.contiguous().view(-1).cpu().detach().numpy()    \n",
    "                    self.writer.add_histogram(prefix+name,val)\n",
    "        x = torch.transpose(x, 1, 2)\n",
    "        #x = self.last_bn(x)\n",
    "        x = self.last(x)\n",
    "        if self.writer is not None:\n",
    "            if self.training:\n",
    "                prefix = \"\"\n",
    "            else:\n",
    "                prefix='val_'\n",
    "            val = x.contiguous().view(-1).cpu().detach().numpy()    \n",
    "            self.writer.add_histogram(prefix+'pre_softmax',val)\n",
    "        x = F.softmax(x,dim=1)\n",
    "        if self.writer is not None:\n",
    "            if self.training:\n",
    "                prefix = \"\"\n",
    "            else:\n",
    "                prefix='val_'\n",
    "            val = x.contiguous().view(-1).cpu().detach().numpy()    \n",
    "            self.writer.add_histogram(prefix+'softmax',val)\n",
    "        return x"
   ]
  },
  {
   "cell_type": "code",
   "execution_count": 131,
   "metadata": {},
   "outputs": [],
   "source": [
    "from tensorboardX import SummaryWriter\n",
    "writer = SummaryWriter('../io/train_2019_01_31')"
   ]
  },
  {
   "cell_type": "code",
   "execution_count": 145,
   "metadata": {
    "scrolled": true
   },
   "outputs": [
    {
     "name": "stdout",
     "output_type": "stream",
     "text": [
      "Processing data...\n",
      "Processing model..\n",
      "Compiling model...\n",
      "Processing worker...\n",
      "Executing...\n",
      "Start working(2019-02-04 14:23:04)\n"
     ]
    },
    {
     "ename": "KeyboardInterrupt",
     "evalue": "",
     "output_type": "error",
     "traceback": [
      "\u001b[0;31m---------------------------------------------------------------------------\u001b[0m",
      "\u001b[0;31mKeyboardInterrupt\u001b[0m                         Traceback (most recent call last)",
      "\u001b[0;32m<ipython-input-145-d7fbabe946ae>\u001b[0m in \u001b[0;36m<module>\u001b[0;34m\u001b[0m\n\u001b[1;32m     29\u001b[0m \u001b[0;32mimport\u001b[0m \u001b[0mmatplotlib\u001b[0m\u001b[0;34m.\u001b[0m\u001b[0mpyplot\u001b[0m \u001b[0;32mas\u001b[0m \u001b[0mplt\u001b[0m\u001b[0;34m\u001b[0m\u001b[0m\n\u001b[1;32m     30\u001b[0m \u001b[0;31m#%matplotlib notebook\u001b[0m\u001b[0;34m\u001b[0m\u001b[0;34m\u001b[0m\u001b[0m\n\u001b[0;32m---> 31\u001b[0;31m \u001b[0mpipeline\u001b[0m\u001b[0;34m.\u001b[0m\u001b[0mexecute\u001b[0m\u001b[0;34m(\u001b[0m\u001b[0;34m)\u001b[0m\u001b[0;34m\u001b[0m\u001b[0m\n\u001b[0m",
      "\u001b[0;32m/home/sequence_annotation/sequence_annotation/process/pipeline.py\u001b[0m in \u001b[0;36mexecute\u001b[0;34m(self)\u001b[0m\n\u001b[1;32m     29\u001b[0m         \u001b[0mself\u001b[0m\u001b[0;34m.\u001b[0m\u001b[0m_before_execute\u001b[0m\u001b[0;34m(\u001b[0m\u001b[0;34m)\u001b[0m\u001b[0;34m\u001b[0m\u001b[0m\n\u001b[1;32m     30\u001b[0m         \u001b[0mself\u001b[0m\u001b[0;34m.\u001b[0m\u001b[0mprint_prompt\u001b[0m\u001b[0;34m(\u001b[0m\u001b[0;34m\"Executing...\"\u001b[0m\u001b[0;34m)\u001b[0m\u001b[0;34m\u001b[0m\u001b[0m\n\u001b[0;32m---> 31\u001b[0;31m         \u001b[0mself\u001b[0m\u001b[0;34m.\u001b[0m\u001b[0m_execute\u001b[0m\u001b[0;34m(\u001b[0m\u001b[0;34m)\u001b[0m\u001b[0;34m\u001b[0m\u001b[0m\n\u001b[0m\u001b[1;32m     32\u001b[0m         \u001b[0mself\u001b[0m\u001b[0;34m.\u001b[0m\u001b[0m_after_execute\u001b[0m\u001b[0;34m(\u001b[0m\u001b[0;34m)\u001b[0m\u001b[0;34m\u001b[0m\u001b[0m\n\u001b[1;32m     33\u001b[0m     \u001b[0;32mdef\u001b[0m \u001b[0m_compile_model\u001b[0m\u001b[0;34m(\u001b[0m\u001b[0mself\u001b[0m\u001b[0;34m)\u001b[0m\u001b[0;34m:\u001b[0m\u001b[0;34m\u001b[0m\u001b[0m\n",
      "\u001b[0;32m/home/sequence_annotation/sequence_annotation/process/pipeline.py\u001b[0m in \u001b[0;36m_execute\u001b[0;34m(self)\u001b[0m\n\u001b[1;32m     55\u001b[0m             \u001b[0mprint\u001b[0m\u001b[0;34m(\u001b[0m\u001b[0;34m'Start working('\u001b[0m\u001b[0;34m+\u001b[0m\u001b[0mstrftime\u001b[0m\u001b[0;34m(\u001b[0m\u001b[0;34m\"%Y-%m-%d %H:%M:%S\"\u001b[0m\u001b[0;34m,\u001b[0m\u001b[0mgmtime\u001b[0m\u001b[0;34m(\u001b[0m\u001b[0;34m)\u001b[0m\u001b[0;34m)\u001b[0m\u001b[0;34m+\u001b[0m\u001b[0;34m\")\"\u001b[0m\u001b[0;34m)\u001b[0m\u001b[0;34m\u001b[0m\u001b[0m\n\u001b[1;32m     56\u001b[0m         \u001b[0mstart_time\u001b[0m \u001b[0;34m=\u001b[0m \u001b[0mtime\u001b[0m\u001b[0;34m(\u001b[0m\u001b[0;34m)\u001b[0m\u001b[0;34m\u001b[0m\u001b[0m\n\u001b[0;32m---> 57\u001b[0;31m         \u001b[0mself\u001b[0m\u001b[0;34m.\u001b[0m\u001b[0m_worker\u001b[0m\u001b[0;34m.\u001b[0m\u001b[0mwork\u001b[0m\u001b[0;34m(\u001b[0m\u001b[0;34m)\u001b[0m\u001b[0;34m\u001b[0m\u001b[0m\n\u001b[0m\u001b[1;32m     58\u001b[0m         \u001b[0mend_time\u001b[0m \u001b[0;34m=\u001b[0m \u001b[0mtime\u001b[0m\u001b[0;34m(\u001b[0m\u001b[0;34m)\u001b[0m\u001b[0;34m\u001b[0m\u001b[0m\n\u001b[1;32m     59\u001b[0m         \u001b[0mtime_spend\u001b[0m \u001b[0;34m=\u001b[0m \u001b[0mend_time\u001b[0m \u001b[0;34m-\u001b[0m \u001b[0mstart_time\u001b[0m\u001b[0;34m\u001b[0m\u001b[0m\n",
      "\u001b[0;32m/home/sequence_annotation/sequence_annotation/pytorch/worker.py\u001b[0m in \u001b[0;36mwork\u001b[0;34m(self)\u001b[0m\n",
      "\u001b[0;32m/home/sequence_annotation/sequence_annotation/pytorch/worker.py\u001b[0m in \u001b[0;36mfit\u001b[0;34m(model, data, compiler)\u001b[0m\n",
      "\u001b[0;32m/home/sequence_annotation/sequence_annotation/pytorch/worker.py\u001b[0m in \u001b[0;36mtrain\u001b[0;34m(model, inputs, labels, compiler, lengths)\u001b[0m\n\u001b[1;32m     14\u001b[0m     \u001b[0mmodel\u001b[0m\u001b[0;34m.\u001b[0m\u001b[0mtrain\u001b[0m\u001b[0;34m(\u001b[0m\u001b[0;32mTrue\u001b[0m\u001b[0;34m)\u001b[0m\u001b[0;34m\u001b[0m\u001b[0m\n\u001b[1;32m     15\u001b[0m     \u001b[0mcompiler\u001b[0m\u001b[0;34m.\u001b[0m\u001b[0moptimizer\u001b[0m\u001b[0;34m.\u001b[0m\u001b[0mzero_grad\u001b[0m\u001b[0;34m(\u001b[0m\u001b[0;34m)\u001b[0m\u001b[0;34m\u001b[0m\u001b[0m\n\u001b[0;32m---> 16\u001b[0;31m     \u001b[0moutputs\u001b[0m \u001b[0;34m=\u001b[0m \u001b[0mmodel\u001b[0m\u001b[0;34m(\u001b[0m\u001b[0minputs\u001b[0m\u001b[0;34m,\u001b[0m\u001b[0mlengths\u001b[0m\u001b[0;34m=\u001b[0m\u001b[0mlengths\u001b[0m\u001b[0;34m)\u001b[0m\u001b[0;34m\u001b[0m\u001b[0m\n\u001b[0m\u001b[1;32m     17\u001b[0m     \u001b[0mloss_\u001b[0m \u001b[0;34m=\u001b[0m \u001b[0mcompiler\u001b[0m\u001b[0;34m.\u001b[0m\u001b[0mloss\u001b[0m\u001b[0;34m(\u001b[0m\u001b[0moutputs\u001b[0m\u001b[0;34m,\u001b[0m \u001b[0mlabels\u001b[0m\u001b[0;34m)\u001b[0m\u001b[0;34m\u001b[0m\u001b[0m\n\u001b[1;32m     18\u001b[0m     \u001b[0mloss_\u001b[0m\u001b[0;34m.\u001b[0m\u001b[0mbackward\u001b[0m\u001b[0;34m(\u001b[0m\u001b[0;34m)\u001b[0m\u001b[0;34m\u001b[0m\u001b[0m\n",
      "\u001b[0;32m/usr/local/lib/python3.5/dist-packages/torch/nn/modules/module.py\u001b[0m in \u001b[0;36m__call__\u001b[0;34m(self, *input, **kwargs)\u001b[0m\n\u001b[1;32m    487\u001b[0m             \u001b[0mresult\u001b[0m \u001b[0;34m=\u001b[0m \u001b[0mself\u001b[0m\u001b[0;34m.\u001b[0m\u001b[0m_slow_forward\u001b[0m\u001b[0;34m(\u001b[0m\u001b[0;34m*\u001b[0m\u001b[0minput\u001b[0m\u001b[0;34m,\u001b[0m \u001b[0;34m**\u001b[0m\u001b[0mkwargs\u001b[0m\u001b[0;34m)\u001b[0m\u001b[0;34m\u001b[0m\u001b[0m\n\u001b[1;32m    488\u001b[0m         \u001b[0;32melse\u001b[0m\u001b[0;34m:\u001b[0m\u001b[0;34m\u001b[0m\u001b[0m\n\u001b[0;32m--> 489\u001b[0;31m             \u001b[0mresult\u001b[0m \u001b[0;34m=\u001b[0m \u001b[0mself\u001b[0m\u001b[0;34m.\u001b[0m\u001b[0mforward\u001b[0m\u001b[0;34m(\u001b[0m\u001b[0;34m*\u001b[0m\u001b[0minput\u001b[0m\u001b[0;34m,\u001b[0m \u001b[0;34m**\u001b[0m\u001b[0mkwargs\u001b[0m\u001b[0;34m)\u001b[0m\u001b[0;34m\u001b[0m\u001b[0m\n\u001b[0m\u001b[1;32m    490\u001b[0m         \u001b[0;32mfor\u001b[0m \u001b[0mhook\u001b[0m \u001b[0;32min\u001b[0m \u001b[0mself\u001b[0m\u001b[0;34m.\u001b[0m\u001b[0m_forward_hooks\u001b[0m\u001b[0;34m.\u001b[0m\u001b[0mvalues\u001b[0m\u001b[0;34m(\u001b[0m\u001b[0;34m)\u001b[0m\u001b[0;34m:\u001b[0m\u001b[0;34m\u001b[0m\u001b[0m\n\u001b[1;32m    491\u001b[0m             \u001b[0mhook_result\u001b[0m \u001b[0;34m=\u001b[0m \u001b[0mhook\u001b[0m\u001b[0;34m(\u001b[0m\u001b[0mself\u001b[0m\u001b[0;34m,\u001b[0m \u001b[0minput\u001b[0m\u001b[0;34m,\u001b[0m \u001b[0mresult\u001b[0m\u001b[0;34m)\u001b[0m\u001b[0;34m\u001b[0m\u001b[0m\n",
      "\u001b[0;32m<ipython-input-128-62de55fba7fc>\u001b[0m in \u001b[0;36mforward\u001b[0;34m(self, x, lengths)\u001b[0m\n\u001b[1;32m     65\u001b[0m             \u001b[0;31m#x = bn(x)\u001b[0m\u001b[0;34m\u001b[0m\u001b[0;34m\u001b[0m\u001b[0m\n\u001b[1;32m     66\u001b[0m             \u001b[0mpacked_x\u001b[0m \u001b[0;34m=\u001b[0m \u001b[0mpack_padded_sequence\u001b[0m\u001b[0;34m(\u001b[0m\u001b[0mx\u001b[0m\u001b[0;34m,\u001b[0m \u001b[0mlengths\u001b[0m\u001b[0;34m,\u001b[0m \u001b[0mbatch_first\u001b[0m\u001b[0;34m=\u001b[0m\u001b[0;32mTrue\u001b[0m\u001b[0;34m)\u001b[0m\u001b[0;34m\u001b[0m\u001b[0m\n\u001b[0;32m---> 67\u001b[0;31m             \u001b[0mrnn_outputs\u001b[0m \u001b[0;34m=\u001b[0m \u001b[0mrnn\u001b[0m\u001b[0;34m(\u001b[0m\u001b[0mpacked_x\u001b[0m\u001b[0;34m)\u001b[0m\u001b[0;34m\u001b[0m\u001b[0m\n\u001b[0m\u001b[1;32m     68\u001b[0m             \u001b[0mrnn_x\u001b[0m \u001b[0;34m=\u001b[0m \u001b[0mrnn_outputs\u001b[0m\u001b[0;34m[\u001b[0m\u001b[0;36m0\u001b[0m\u001b[0;34m]\u001b[0m\u001b[0;34m\u001b[0m\u001b[0m\n\u001b[1;32m     69\u001b[0m             \u001b[0mrnn_x\u001b[0m\u001b[0;34m,\u001b[0m \u001b[0m_\u001b[0m \u001b[0;34m=\u001b[0m \u001b[0mpad_packed_sequence\u001b[0m\u001b[0;34m(\u001b[0m\u001b[0mrnn_x\u001b[0m\u001b[0;34m,\u001b[0m \u001b[0mbatch_first\u001b[0m\u001b[0;34m=\u001b[0m\u001b[0;32mTrue\u001b[0m\u001b[0;34m)\u001b[0m\u001b[0;34m\u001b[0m\u001b[0m\n",
      "\u001b[0;32m/usr/local/lib/python3.5/dist-packages/torch/nn/modules/module.py\u001b[0m in \u001b[0;36m__call__\u001b[0;34m(self, *input, **kwargs)\u001b[0m\n\u001b[1;32m    487\u001b[0m             \u001b[0mresult\u001b[0m \u001b[0;34m=\u001b[0m \u001b[0mself\u001b[0m\u001b[0;34m.\u001b[0m\u001b[0m_slow_forward\u001b[0m\u001b[0;34m(\u001b[0m\u001b[0;34m*\u001b[0m\u001b[0minput\u001b[0m\u001b[0;34m,\u001b[0m \u001b[0;34m**\u001b[0m\u001b[0mkwargs\u001b[0m\u001b[0;34m)\u001b[0m\u001b[0;34m\u001b[0m\u001b[0m\n\u001b[1;32m    488\u001b[0m         \u001b[0;32melse\u001b[0m\u001b[0;34m:\u001b[0m\u001b[0;34m\u001b[0m\u001b[0m\n\u001b[0;32m--> 489\u001b[0;31m             \u001b[0mresult\u001b[0m \u001b[0;34m=\u001b[0m \u001b[0mself\u001b[0m\u001b[0;34m.\u001b[0m\u001b[0mforward\u001b[0m\u001b[0;34m(\u001b[0m\u001b[0;34m*\u001b[0m\u001b[0minput\u001b[0m\u001b[0;34m,\u001b[0m \u001b[0;34m**\u001b[0m\u001b[0mkwargs\u001b[0m\u001b[0;34m)\u001b[0m\u001b[0;34m\u001b[0m\u001b[0m\n\u001b[0m\u001b[1;32m    490\u001b[0m         \u001b[0;32mfor\u001b[0m \u001b[0mhook\u001b[0m \u001b[0;32min\u001b[0m \u001b[0mself\u001b[0m\u001b[0;34m.\u001b[0m\u001b[0m_forward_hooks\u001b[0m\u001b[0;34m.\u001b[0m\u001b[0mvalues\u001b[0m\u001b[0;34m(\u001b[0m\u001b[0;34m)\u001b[0m\u001b[0;34m:\u001b[0m\u001b[0;34m\u001b[0m\u001b[0m\n\u001b[1;32m    491\u001b[0m             \u001b[0mhook_result\u001b[0m \u001b[0;34m=\u001b[0m \u001b[0mhook\u001b[0m\u001b[0;34m(\u001b[0m\u001b[0mself\u001b[0m\u001b[0;34m,\u001b[0m \u001b[0minput\u001b[0m\u001b[0;34m,\u001b[0m \u001b[0mresult\u001b[0m\u001b[0;34m)\u001b[0m\u001b[0;34m\u001b[0m\u001b[0m\n",
      "\u001b[0;32m/home/RNN/rnn.py\u001b[0m in \u001b[0;36mforward\u001b[0;34m(self, x, batch_first)\u001b[0m\n\u001b[1;32m     31\u001b[0m         \u001b[0mx\u001b[0m\u001b[0;34m,\u001b[0m\u001b[0mshape\u001b[0m\u001b[0;34m,\u001b[0m\u001b[0mbatch_sizes\u001b[0m \u001b[0;34m=\u001b[0m \u001b[0mself\u001b[0m\u001b[0;34m.\u001b[0m\u001b[0m_preprocess\u001b[0m\u001b[0;34m(\u001b[0m\u001b[0mx\u001b[0m\u001b[0;34m,\u001b[0m\u001b[0mbatch_first\u001b[0m\u001b[0;34m)\u001b[0m\u001b[0;34m\u001b[0m\u001b[0m\n\u001b[1;32m     32\u001b[0m         \u001b[0;32mif\u001b[0m \u001b[0mself\u001b[0m\u001b[0;34m.\u001b[0m\u001b[0m_bidirectional\u001b[0m\u001b[0;34m:\u001b[0m\u001b[0;34m\u001b[0m\u001b[0m\n\u001b[0;32m---> 33\u001b[0;31m             \u001b[0moutputs\u001b[0m \u001b[0;34m=\u001b[0m \u001b[0mself\u001b[0m\u001b[0;34m.\u001b[0m\u001b[0m_forward\u001b[0m\u001b[0;34m(\u001b[0m\u001b[0mx\u001b[0m\u001b[0;34m,\u001b[0m\u001b[0mshape\u001b[0m\u001b[0;34m,\u001b[0m\u001b[0mbatch_sizes\u001b[0m\u001b[0;34m)\u001b[0m\u001b[0;34m\u001b[0m\u001b[0m\n\u001b[0m\u001b[1;32m     34\u001b[0m             \u001b[0mr_outputs\u001b[0m \u001b[0;34m=\u001b[0m \u001b[0mself\u001b[0m\u001b[0;34m.\u001b[0m\u001b[0m_reverse_forward\u001b[0m\u001b[0;34m(\u001b[0m\u001b[0mx\u001b[0m\u001b[0;34m,\u001b[0m\u001b[0mshape\u001b[0m\u001b[0;34m,\u001b[0m\u001b[0mbatch_sizes\u001b[0m\u001b[0;34m)\u001b[0m\u001b[0;34m\u001b[0m\u001b[0m\n\u001b[1;32m     35\u001b[0m             \u001b[0mall_states\u001b[0m \u001b[0;34m=\u001b[0m \u001b[0;34m[\u001b[0m\u001b[0;34m]\u001b[0m\u001b[0;34m\u001b[0m\u001b[0m\n",
      "\u001b[0;32m/home/RNN/rnn.py\u001b[0m in \u001b[0;36m_forward\u001b[0;34m(self, x, shape, batch_sizes)\u001b[0m\n\u001b[1;32m     92\u001b[0m         \u001b[0mcount\u001b[0m \u001b[0;34m=\u001b[0m \u001b[0;36m0\u001b[0m\u001b[0;34m\u001b[0m\u001b[0m\n\u001b[1;32m     93\u001b[0m         \u001b[0;32mfor\u001b[0m \u001b[0mbatch_size\u001b[0m \u001b[0;32min\u001b[0m \u001b[0mbatch_sizes\u001b[0m\u001b[0;34m:\u001b[0m\u001b[0;34m\u001b[0m\u001b[0m\n\u001b[0;32m---> 94\u001b[0;31m             \u001b[0moutputs\u001b[0m \u001b[0;34m=\u001b[0m \u001b[0mself\u001b[0m\u001b[0;34m.\u001b[0m\u001b[0m_rnn\u001b[0m\u001b[0;34m(\u001b[0m\u001b[0mx\u001b[0m\u001b[0;34m[\u001b[0m\u001b[0mcount\u001b[0m\u001b[0;34m:\u001b[0m\u001b[0mcount\u001b[0m\u001b[0;34m+\u001b[0m\u001b[0mbatch_size\u001b[0m\u001b[0;34m]\u001b[0m\u001b[0;34m,\u001b[0m\u001b[0;34m(\u001b[0m\u001b[0mprevious_h\u001b[0m\u001b[0;34m[\u001b[0m\u001b[0;34m:\u001b[0m\u001b[0mbatch_size\u001b[0m\u001b[0;34m]\u001b[0m\u001b[0;34m)\u001b[0m\u001b[0;34m)\u001b[0m\u001b[0;34m\u001b[0m\u001b[0m\n\u001b[0m\u001b[1;32m     95\u001b[0m             \u001b[0;32mif\u001b[0m \u001b[0;32mnot\u001b[0m \u001b[0misinstance\u001b[0m\u001b[0;34m(\u001b[0m\u001b[0moutputs\u001b[0m\u001b[0;34m,\u001b[0m\u001b[0mtuple\u001b[0m\u001b[0;34m)\u001b[0m\u001b[0;34m:\u001b[0m\u001b[0;34m\u001b[0m\u001b[0m\n\u001b[1;32m     96\u001b[0m                 \u001b[0moutputs\u001b[0m \u001b[0;34m=\u001b[0m \u001b[0;34m[\u001b[0m\u001b[0moutputs\u001b[0m\u001b[0;34m]\u001b[0m\u001b[0;34m\u001b[0m\u001b[0m\n",
      "\u001b[0;32m/usr/local/lib/python3.5/dist-packages/torch/nn/modules/module.py\u001b[0m in \u001b[0;36m__call__\u001b[0;34m(self, *input, **kwargs)\u001b[0m\n\u001b[1;32m    487\u001b[0m             \u001b[0mresult\u001b[0m \u001b[0;34m=\u001b[0m \u001b[0mself\u001b[0m\u001b[0;34m.\u001b[0m\u001b[0m_slow_forward\u001b[0m\u001b[0;34m(\u001b[0m\u001b[0;34m*\u001b[0m\u001b[0minput\u001b[0m\u001b[0;34m,\u001b[0m \u001b[0;34m**\u001b[0m\u001b[0mkwargs\u001b[0m\u001b[0;34m)\u001b[0m\u001b[0;34m\u001b[0m\u001b[0m\n\u001b[1;32m    488\u001b[0m         \u001b[0;32melse\u001b[0m\u001b[0;34m:\u001b[0m\u001b[0;34m\u001b[0m\u001b[0m\n\u001b[0;32m--> 489\u001b[0;31m             \u001b[0mresult\u001b[0m \u001b[0;34m=\u001b[0m \u001b[0mself\u001b[0m\u001b[0;34m.\u001b[0m\u001b[0mforward\u001b[0m\u001b[0;34m(\u001b[0m\u001b[0;34m*\u001b[0m\u001b[0minput\u001b[0m\u001b[0;34m,\u001b[0m \u001b[0;34m**\u001b[0m\u001b[0mkwargs\u001b[0m\u001b[0;34m)\u001b[0m\u001b[0;34m\u001b[0m\u001b[0m\n\u001b[0m\u001b[1;32m    490\u001b[0m         \u001b[0;32mfor\u001b[0m \u001b[0mhook\u001b[0m \u001b[0;32min\u001b[0m \u001b[0mself\u001b[0m\u001b[0;34m.\u001b[0m\u001b[0m_forward_hooks\u001b[0m\u001b[0;34m.\u001b[0m\u001b[0mvalues\u001b[0m\u001b[0;34m(\u001b[0m\u001b[0;34m)\u001b[0m\u001b[0;34m:\u001b[0m\u001b[0;34m\u001b[0m\u001b[0m\n\u001b[1;32m    491\u001b[0m             \u001b[0mhook_result\u001b[0m \u001b[0;34m=\u001b[0m \u001b[0mhook\u001b[0m\u001b[0;34m(\u001b[0m\u001b[0mself\u001b[0m\u001b[0;34m,\u001b[0m \u001b[0minput\u001b[0m\u001b[0;34m,\u001b[0m \u001b[0mresult\u001b[0m\u001b[0;34m)\u001b[0m\u001b[0;34m\u001b[0m\u001b[0m\n",
      "\u001b[0;32m<ipython-input-127-5c6ae22f8d4f>\u001b[0m in \u001b[0;36mforward\u001b[0;34m(self, input, state)\u001b[0m\n\u001b[1;32m     61\u001b[0m         \u001b[0mvalues_i\u001b[0m \u001b[0;34m=\u001b[0m \u001b[0mF\u001b[0m\u001b[0;34m.\u001b[0m\u001b[0mlinear\u001b[0m\u001b[0;34m(\u001b[0m\u001b[0minput\u001b[0m\u001b[0;34m,\u001b[0m \u001b[0mself\u001b[0m\u001b[0;34m.\u001b[0m\u001b[0mweights_i\u001b[0m\u001b[0;34m)\u001b[0m\u001b[0;34m\u001b[0m\u001b[0m\n\u001b[1;32m     62\u001b[0m         \u001b[0mpre_h\u001b[0m \u001b[0;34m=\u001b[0m \u001b[0mstate\u001b[0m \u001b[0;34m+\u001b[0m \u001b[0mvalues_i\u001b[0m\u001b[0;34m*\u001b[0m\u001b[0mgate_i\u001b[0m\u001b[0;34m\u001b[0m\u001b[0m\n\u001b[0;32m---> 63\u001b[0;31m         \u001b[0mnew_h\u001b[0m \u001b[0;34m=\u001b[0m \u001b[0mself\u001b[0m\u001b[0;34m.\u001b[0m\u001b[0mrecurrent_function\u001b[0m\u001b[0;34m(\u001b[0m\u001b[0mpre_h\u001b[0m\u001b[0;34m,\u001b[0m\u001b[0mtraining\u001b[0m\u001b[0;34m=\u001b[0m\u001b[0mself\u001b[0m\u001b[0;34m.\u001b[0m\u001b[0mtraining\u001b[0m\u001b[0;34m)\u001b[0m\u001b[0;34m\u001b[0m\u001b[0m\n\u001b[0m\u001b[1;32m     64\u001b[0m         \u001b[0;32mreturn\u001b[0m \u001b[0mnew_h\u001b[0m\u001b[0;34m,\u001b[0m\u001b[0mpre_gate_i\u001b[0m\u001b[0;34m,\u001b[0m\u001b[0mgate_i\u001b[0m\u001b[0;34m,\u001b[0m\u001b[0mpre_h\u001b[0m\u001b[0;34m,\u001b[0m\u001b[0mvalues_i\u001b[0m\u001b[0;34m\u001b[0m\u001b[0m\n\u001b[1;32m     65\u001b[0m \u001b[0mcell_func\u001b[0m \u001b[0;34m=\u001b[0m \u001b[0;32mlambda\u001b[0m \u001b[0minput_size\u001b[0m\u001b[0;34m,\u001b[0m\u001b[0mhidden_size\u001b[0m\u001b[0;34m:\u001b[0m \u001b[0mGatedIndRnnCell\u001b[0m\u001b[0;34m(\u001b[0m\u001b[0minput_size\u001b[0m\u001b[0;34m=\u001b[0m\u001b[0minput_size\u001b[0m\u001b[0;34m,\u001b[0m\u001b[0mhidden_size\u001b[0m\u001b[0;34m=\u001b[0m\u001b[0mhidden_size\u001b[0m\u001b[0;34m)\u001b[0m\u001b[0;34m\u001b[0m\u001b[0m\n",
      "\u001b[0;32m<ipython-input-127-5c6ae22f8d4f>\u001b[0m in \u001b[0;36mnoised\u001b[0;34m(x, training)\u001b[0m\n\u001b[1;32m     23\u001b[0m             \u001b[0md\u001b[0m \u001b[0;34m=\u001b[0m \u001b[0;34m(\u001b[0m\u001b[0;34m-\u001b[0m\u001b[0mtemp\u001b[0m\u001b[0;34m*\u001b[0m\u001b[0mtemp2\u001b[0m\u001b[0;34m)\u001b[0m\u001b[0;34m\u001b[0m\u001b[0m\n\u001b[1;32m     24\u001b[0m             \u001b[0msigma\u001b[0m\u001b[0;34m=\u001b[0m\u001b[0;34m(\u001b[0m\u001b[0mc\u001b[0m\u001b[0;34m*\u001b[0m\u001b[0;34m(\u001b[0m\u001b[0msigmoid\u001b[0m\u001b[0;34m(\u001b[0m\u001b[0mp\u001b[0m\u001b[0;34m*\u001b[0m\u001b[0mdiff\u001b[0m\u001b[0;34m)\u001b[0m\u001b[0;34m-\u001b[0m\u001b[0;36m0.5\u001b[0m\u001b[0;34m)\u001b[0m\u001b[0;34m**\u001b[0m\u001b[0;36m2\u001b[0m\u001b[0;34m)\u001b[0m\u001b[0;34m\u001b[0m\u001b[0m\n\u001b[0;32m---> 25\u001b[0;31m             \u001b[0mrandom\u001b[0m \u001b[0;34m=\u001b[0m \u001b[0mtorch\u001b[0m\u001b[0;34m.\u001b[0m\u001b[0mabs\u001b[0m\u001b[0;34m(\u001b[0m\u001b[0mrandn\u001b[0m\u001b[0;34m(\u001b[0m\u001b[0mx\u001b[0m\u001b[0;34m.\u001b[0m\u001b[0msize\u001b[0m\u001b[0;34m(\u001b[0m\u001b[0;34m)\u001b[0m\u001b[0;34m)\u001b[0m\u001b[0;34m)\u001b[0m\u001b[0;34m.\u001b[0m\u001b[0mcuda\u001b[0m\u001b[0;34m(\u001b[0m\u001b[0;34m)\u001b[0m\u001b[0;34m\u001b[0m\u001b[0m\n\u001b[0m\u001b[1;32m     26\u001b[0m             \u001b[0;32mreturn\u001b[0m \u001b[0mnative_result\u001b[0m\u001b[0;34m+\u001b[0m\u001b[0;34m(\u001b[0m\u001b[0md\u001b[0m\u001b[0;34m*\u001b[0m\u001b[0msigma\u001b[0m\u001b[0;34m*\u001b[0m\u001b[0mrandom\u001b[0m\u001b[0;34m)\u001b[0m\u001b[0;34m\u001b[0m\u001b[0m\n\u001b[1;32m     27\u001b[0m         \u001b[0;32melse\u001b[0m\u001b[0;34m:\u001b[0m\u001b[0;34m\u001b[0m\u001b[0m\n",
      "\u001b[0;31mKeyboardInterrupt\u001b[0m: "
     ]
    }
   ],
   "source": [
    "from sequence_annotation.process.ann_seq_data import AnnSeqData\n",
    "from sequence_annotation.pytorch.worker import TrainWorker,fit_wrapper\n",
    "from sequence_annotation.process.pipeline import Pipeline \n",
    "from sequence_annotation.pytorch.callback import CategoricalMetric\n",
    "from sequence_annotation.function.model_processor import SimpleModel\n",
    "from sequence_annotation.function.data_generator import seq_generator_wrapper\n",
    "from sequence_annotation.pytorch.compiler import SimpleCompiler\n",
    "import torch.optim as optim\n",
    "\n",
    "class_num=len(selected_seqs.ANN_TYPES)\n",
    "loss = FocalLoss(class_num=class_num,ignore_index=-1).cuda()\n",
    "builder = SimpleModel(Model(class_num,writer))\n",
    "compiler = SimpleCompiler(lambda params:optim.Adam(params,lr=0.001),loss)\n",
    "data = AnnSeqData({'data':{'training':{'inputs':selected_fasta,\n",
    "                                       'answers':selected_seqs}\n",
    "                          },'ANN_TYPES':selected_seqs.ANN_TYPES},\n",
    "                  discard_invalid_seq=True,validation_split=0.5,\n",
    "                  do_validate=False,answer_one_hot=True\n",
    "                 )\n",
    "seq_gen_wrapper = seq_generator_wrapper(16,epoch_shuffle=True,\n",
    "                                        return_len=True,order='NCL',padding_value=-1)\n",
    "train_metric = CategoricalMetric(class_num=class_num,ignore_index=-1)\n",
    "val_metric = CategoricalMetric(prefix='val',class_num=class_num,ignore_index=-1)\n",
    "fit = fit_wrapper(100,seq_gen_wrapper,train_callbacks=[train_metric],\n",
    "                  val_callbacks=[val_metric],writer=writer,write_weights=True,write_grad=True)\n",
    "worker = TrainWorker(fit,is_verbose_visible=True)\n",
    "pipeline = Pipeline(builder,data,worker,compiler,\n",
    "                    is_prompt_visible=True)\n",
    "import matplotlib.pyplot as plt\n",
    "#%matplotlib notebook\n",
    "pipeline.execute()"
   ]
  },
  {
   "cell_type": "code",
   "execution_count": 136,
   "metadata": {},
   "outputs": [],
   "source": [
    "name = list(selected_fasta.keys())[1]\n",
    "seq = SeqConverter().seq2vecs(selected_fasta[name])\n",
    "seq = np.transpose(np.array([seq]),[0,2,1])\n",
    "seq = torch.from_numpy(seq).type('torch.FloatTensor').cuda()\n",
    "l = torch.from_numpy(np.array(len(selected_fasta[name]))).type('torch.LongTensor').cuda()"
   ]
  },
  {
   "cell_type": "code",
   "execution_count": 137,
   "metadata": {},
   "outputs": [],
   "source": [
    "model = builder.model\n",
    "model.train(False)\n",
    "vecs = model(seq,[l]).cpu().detach().numpy()"
   ]
  },
  {
   "cell_type": "code",
   "execution_count": 138,
   "metadata": {},
   "outputs": [
    {
     "data": {
      "image/png": "[encoded data removed]",
      "text/plain": [
       "<Figure size 432x288 with 1 Axes>"
      ]
     },
     "metadata": {
      "needs_background": "light"
     },
     "output_type": "display_data"
    }
   ],
   "source": [
    "#%matplotlib notebook\n",
    "visual_ann_seq(ann_seq_processor.vecs2seq(vecs[0],name,'plus',selected_seqs.ANN_TYPES))"
   ]
  },
  {
   "cell_type": "code",
   "execution_count": null,
   "metadata": {},
   "outputs": [],
   "source": [
    "visual_ann_seq(ann_seqs.get(name))"
   ]
  },
  {
   "cell_type": "code",
   "execution_count": null,
   "metadata": {},
   "outputs": [],
   "source": [
    "part = RnnOutput(model,2)\n",
    "part.train(False)\n",
    "part_vecs = part(seq,[l]).cpu().detach().numpy()"
   ]
  },
  {
   "cell_type": "code",
   "execution_count": null,
   "metadata": {},
   "outputs": [],
   "source": [
    "plt.plot(part_vecs[0][2].transpose())"
   ]
  },
  {
   "cell_type": "code",
   "execution_count": null,
   "metadata": {},
   "outputs": [],
   "source": []
  }
 ],
 "metadata": {
  "kernelspec": {
   "display_name": "Python 3",
   "language": "python",
   "name": "python3"
  },
  "language_info": {
   "codemirror_mode": {
    "name": "ipython",
    "version": 3
   },
   "file_extension": ".py",
   "mimetype": "text/x-python",
   "name": "python",
   "nbconvert_exporter": "python",
   "pygments_lexer": "ipython3",
   "version": "3.5.2"
  }
 },
 "nbformat": 4,
 "nbformat_minor": 2
}
