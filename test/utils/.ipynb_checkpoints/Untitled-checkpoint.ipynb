{
 "cells": [
  {
   "cell_type": "code",
   "execution_count": 28,
   "metadata": {},
   "outputs": [
    {
     "name": "stdout",
     "output_type": "stream",
     "text": [
      "[[ True  True]\n",
      " [False  True]]\n"
     ]
    }
   ],
   "source": [
    "import os\n",
    "import sys\n",
    "from os.path import abspath, expanduser\n",
    "sys.path.append(abspath(expanduser(\"../..\")))\n",
    "from sequence_annotation.utils.utils import process_tensor\n",
    "import tensorflow as tf\n",
    "from keras import backend as K\n",
    "init = tf.global_variables_initializer() \n",
    "answer_ = tf.constant([[[1,0,0],[1,0,0]],[[-1,-1,-1],[0,0,0]]],dtype=tf.float32)\n",
    "pred_ = tf.constant([[[1,0,0],[0,1,0]],[[1,0,0],[1,0,0]]],dtype=tf.float32)\n",
    "#c=K.mean(K.binary_crossentropy(tf.multiply(answer_, tf.cast(tf.not_equal(answer_, -1), tf.float32)),\n",
    "#                             tf.multiply(pred_, tf.cast(tf.not_equal(answer_, -1), tf.float32))\n",
    "#                            ), axis=-1)\n",
    "#result = keras.losses.mean_squared_error(answer_,pred_)\n",
    "#index = tf.cast(K.any(K.not_equal(answer_,0),2),dtype='int32')\n",
    "boolean_mask = K.any(K.not_equal(answer_, -1),axis=-1, keepdims=True)\n",
    "#result = answer_ * K.cast(boolean_mask, tf.float32)\n",
    "with tf.Session() as sess:\n",
    "    sess.run(init)\n",
    "    print(sess.run(boolean_mask))\n",
    "    #print(sess.run(tf.multiply(answer_, tf.cast(tf.not_equal(answer_, -1), tf.float32))))\n",
    "    #print(sess.run(result))\n",
    "    #print(sess.run(index))\n"
   ]
  },
  {
   "cell_type": "code",
   "execution_count": null,
   "metadata": {},
   "outputs": [],
   "source": [
    "class MaskedCNN(self._temp_layer_class):\n",
    "    def __init__(self, *args,**kwargs):\n",
    "        super().__init__(*args,**kwargs)\n",
    "        self.supports_masking = True"
   ]
  },
  {
   "cell_type": "code",
   "execution_count": 82,
   "metadata": {},
   "outputs": [
    {
     "data": {
      "text/plain": [
       "<function keras.losses.mean_squared_error(y_true, y_pred)>"
      ]
     },
     "execution_count": 82,
     "metadata": {},
     "output_type": "execute_result"
    }
   ],
   "source": [
    "import keras\n"
   ]
  },
  {
   "cell_type": "code",
   "execution_count": 109,
   "metadata": {},
   "outputs": [
    {
     "name": "stdout",
     "output_type": "stream",
     "text": [
      "_________________________________________________________________\n",
      "Layer (type)                 Output Shape              Param #   \n",
      "=================================================================\n",
      "conv2d_15 (Conv2D)           (None, 28, 28, 50)        1300      \n",
      "_________________________________________________________________\n",
      "max_pooling2d_15 (MaxPooling (None, 14, 14, 50)        0         \n",
      "_________________________________________________________________\n",
      "conv2d_16 (Conv2D)           (None, 14, 14, 20)        25020     \n",
      "_________________________________________________________________\n",
      "max_pooling2d_16 (MaxPooling (None, 7, 7, 20)          0         \n",
      "_________________________________________________________________\n",
      "flatten_8 (Flatten)          (None, 980)               0         \n",
      "_________________________________________________________________\n",
      "dense_15 (Dense)             (None, 100)               98100     \n",
      "_________________________________________________________________\n",
      "dense_16 (Dense)             (None, 10)                1010      \n",
      "=================================================================\n",
      "Total params: 125,430\n",
      "Trainable params: 125,430\n",
      "Non-trainable params: 0\n",
      "_________________________________________________________________\n",
      "None\n",
      "Train on 60000 samples, validate on 10000 samples\n",
      "Epoch 1/40\n",
      "60000/60000 [==============================] - 3s 44us/step - loss: 0.4482 - acc: 0.8668 - val_loss: 0.1276 - val_acc: 0.9607\n",
      "Epoch 2/40\n",
      "60000/60000 [==============================] - 2s 27us/step - loss: 0.0993 - acc: 0.9700 - val_loss: 0.0640 - val_acc: 0.9791\n",
      "Epoch 3/40\n",
      "60000/60000 [==============================] - 2s 26us/step - loss: 0.0621 - acc: 0.9816 - val_loss: 0.0517 - val_acc: 0.9836\n",
      "Epoch 4/40\n",
      "60000/60000 [==============================] - 2s 26us/step - loss: 0.0487 - acc: 0.9850 - val_loss: 0.0440 - val_acc: 0.9862\n",
      "Epoch 5/40\n",
      "60000/60000 [==============================] - 2s 26us/step - loss: 0.0371 - acc: 0.9883 - val_loss: 0.0396 - val_acc: 0.9870\n",
      "Epoch 6/40\n",
      "60000/60000 [==============================] - 2s 26us/step - loss: 0.0312 - acc: 0.9900 - val_loss: 0.0363 - val_acc: 0.9886\n",
      "Epoch 7/40\n",
      "60000/60000 [==============================] - 2s 26us/step - loss: 0.0258 - acc: 0.9921 - val_loss: 0.0394 - val_acc: 0.9880\n",
      "Epoch 8/40\n",
      "60000/60000 [==============================] - 2s 27us/step - loss: 0.0205 - acc: 0.9935 - val_loss: 0.0421 - val_acc: 0.9872\n",
      "Epoch 9/40\n",
      "60000/60000 [==============================] - 2s 29us/step - loss: 0.0186 - acc: 0.9939 - val_loss: 0.0371 - val_acc: 0.9882\n",
      "Epoch 10/40\n",
      "60000/60000 [==============================] - 2s 26us/step - loss: 0.0162 - acc: 0.9948 - val_loss: 0.0314 - val_acc: 0.9911\n",
      "Epoch 11/40\n",
      "60000/60000 [==============================] - 2s 26us/step - loss: 0.0112 - acc: 0.9968 - val_loss: 0.0333 - val_acc: 0.9890\n",
      "Epoch 12/40\n",
      "60000/60000 [==============================] - 2s 27us/step - loss: 0.0103 - acc: 0.9968 - val_loss: 0.0411 - val_acc: 0.9877\n",
      "Epoch 13/40\n",
      "60000/60000 [==============================] - 2s 27us/step - loss: 0.0095 - acc: 0.9970 - val_loss: 0.0353 - val_acc: 0.9891\n",
      "Epoch 14/40\n",
      "60000/60000 [==============================] - 2s 26us/step - loss: 0.0067 - acc: 0.9982 - val_loss: 0.0411 - val_acc: 0.9885\n",
      "Epoch 15/40\n",
      "60000/60000 [==============================] - 2s 26us/step - loss: 0.0075 - acc: 0.9977 - val_loss: 0.0414 - val_acc: 0.9889\n",
      "Epoch 16/40\n",
      "60000/60000 [==============================] - 2s 28us/step - loss: 0.0061 - acc: 0.9982 - val_loss: 0.0390 - val_acc: 0.9894\n",
      "Epoch 17/40\n",
      "60000/60000 [==============================] - 2s 27us/step - loss: 0.0062 - acc: 0.9982 - val_loss: 0.0384 - val_acc: 0.9895\n",
      "Epoch 18/40\n",
      "60000/60000 [==============================] - 2s 26us/step - loss: 0.0060 - acc: 0.9982 - val_loss: 0.0427 - val_acc: 0.9885\n",
      "Epoch 19/40\n",
      "60000/60000 [==============================] - 2s 26us/step - loss: 0.0049 - acc: 0.9983 - val_loss: 0.0433 - val_acc: 0.9886\n",
      "Epoch 20/40\n",
      "60000/60000 [==============================] - 2s 28us/step - loss: 0.0064 - acc: 0.9977 - val_loss: 0.0418 - val_acc: 0.9896\n",
      "Epoch 21/40\n",
      "60000/60000 [==============================] - 2s 27us/step - loss: 0.0042 - acc: 0.9987 - val_loss: 0.0433 - val_acc: 0.9893\n",
      "Epoch 22/40\n",
      "60000/60000 [==============================] - 2s 26us/step - loss: 0.0036 - acc: 0.9989 - val_loss: 0.0481 - val_acc: 0.9877\n",
      "Epoch 23/40\n",
      "60000/60000 [==============================] - 2s 26us/step - loss: 0.0052 - acc: 0.9984 - val_loss: 0.0546 - val_acc: 0.9880\n",
      "Epoch 24/40\n",
      "60000/60000 [==============================] - 2s 26us/step - loss: 0.0059 - acc: 0.9982 - val_loss: 0.0526 - val_acc: 0.9885\n",
      "Epoch 25/40\n",
      "60000/60000 [==============================] - 2s 26us/step - loss: 0.0073 - acc: 0.9978 - val_loss: 0.0444 - val_acc: 0.9890\n",
      "Epoch 26/40\n",
      "60000/60000 [==============================] - 2s 26us/step - loss: 0.0038 - acc: 0.9987 - val_loss: 0.0450 - val_acc: 0.9896\n",
      "Epoch 27/40\n",
      "60000/60000 [==============================] - 2s 26us/step - loss: 0.0018 - acc: 0.9995 - val_loss: 0.0401 - val_acc: 0.9911\n",
      "Epoch 28/40\n",
      "60000/60000 [==============================] - 2s 26us/step - loss: 0.0011 - acc: 0.9998 - val_loss: 0.0409 - val_acc: 0.9911\n",
      "Epoch 29/40\n",
      "60000/60000 [==============================] - 2s 27us/step - loss: 5.3497e-04 - acc: 1.0000 - val_loss: 0.0395 - val_acc: 0.9912\n",
      "Epoch 30/40\n",
      "60000/60000 [==============================] - 2s 26us/step - loss: 3.8199e-04 - acc: 1.0000 - val_loss: 0.0396 - val_acc: 0.9910\n",
      "Epoch 31/40\n",
      "60000/60000 [==============================] - 2s 27us/step - loss: 3.5665e-04 - acc: 1.0000 - val_loss: 0.0396 - val_acc: 0.9905\n",
      "Epoch 32/40\n",
      "60000/60000 [==============================] - 2s 26us/step - loss: 3.4584e-04 - acc: 1.0000 - val_loss: 0.0400 - val_acc: 0.9906\n",
      "Epoch 33/40\n",
      "60000/60000 [==============================] - 2s 26us/step - loss: 3.3701e-04 - acc: 1.0000 - val_loss: 0.0402 - val_acc: 0.9908\n",
      "Epoch 34/40\n",
      "60000/60000 [==============================] - 2s 26us/step - loss: 3.3013e-04 - acc: 1.0000 - val_loss: 0.0406 - val_acc: 0.9906\n",
      "Epoch 35/40\n",
      "60000/60000 [==============================] - 2s 26us/step - loss: 3.2430e-04 - acc: 1.0000 - val_loss: 0.0408 - val_acc: 0.9906\n",
      "Epoch 36/40\n",
      "60000/60000 [==============================] - 2s 26us/step - loss: 3.1942e-04 - acc: 1.0000 - val_loss: 0.0410 - val_acc: 0.9905\n",
      "Epoch 37/40\n",
      "60000/60000 [==============================] - 2s 27us/step - loss: 3.1562e-04 - acc: 1.0000 - val_loss: 0.0412 - val_acc: 0.9905\n",
      "Epoch 38/40\n",
      "60000/60000 [==============================] - 2s 27us/step - loss: 3.1226e-04 - acc: 1.0000 - val_loss: 0.0414 - val_acc: 0.9904\n",
      "Epoch 39/40\n",
      "60000/60000 [==============================] - 2s 26us/step - loss: 3.0938e-04 - acc: 1.0000 - val_loss: 0.0416 - val_acc: 0.9904\n",
      "Epoch 40/40\n",
      "60000/60000 [==============================] - 2s 26us/step - loss: 3.0559e-04 - acc: 1.0000 - val_loss: 0.0417 - val_acc: 0.9904\n",
      "10000/10000 [==============================] - 1s 71us/step\n"
     ]
    }
   ],
   "source": [
    "import time\n",
    "from keras import models, layers, utils, datasets\n",
    "(_trainData, _trainLabels), (_testData, _testLabels) = datasets.mnist.load_data()\n",
    "_trainData = (_trainData.reshape(60000,28,28,1).astype('float32') / 255)\n",
    "_testData = (_testData.reshape(10000,28,28,1).astype('float32') / 255)\n",
    "_trainLabels = utils.to_categorical(_trainLabels,10)\n",
    "_testLabels = utils.to_categorical(_testLabels,10)\n",
    "_NetworkModel = models.Sequential()\n",
    "_NetworkModel.add(layers.Conv2D(50,kernel_size=5,padding=\"same\",input_shape=(28,28,1)))\n",
    "_NetworkModel.add(layers.MaxPooling2D(pool_size=(2, 2),strides=(2, 2)))\n",
    "_NetworkModel.add(layers.Conv2D(20,kernel_size=5,padding=\"same\"))\n",
    "_NetworkModel.add(layers.MaxPooling2D(pool_size=(2, 2),strides=(2, 2)))\n",
    "_NetworkModel.add(layers.Flatten())\n",
    "_NetworkModel.add(layers.Dense(100, activation='relu'))\n",
    "_NetworkModel.add(layers.Dense(10, activation='softmax'))\n",
    "print(_NetworkModel.summary())\n",
    "_NetworkModel.compile(optimizer='Adam', loss='categorical_crossentropy', metrics=['accuracy'])\n",
    "_history = _NetworkModel.fit(x=_trainData, y=_trainLabels, epochs=40,batch_size=500, verbose=1,validation_data=(_testData,_testLabels))\n",
    "_scores = _NetworkModel.evaluate(x=_testData, y=_testLabels)\n",
    "import matplotlib.pyplot as plt \n"
   ]
  },
  {
   "cell_type": "code",
   "execution_count": 110,
   "metadata": {},
   "outputs": [
    {
     "data": {
      "image/png": "[encoded data removed]",
      "text/plain": [
       "<Figure size 432x288 with 1 Axes>"
      ]
     },
     "metadata": {},
     "output_type": "display_data"
    },
    {
     "data": {
      "image/png": "[encoded data removed]",
      "text/plain": [
       "<Figure size 432x288 with 1 Axes>"
      ]
     },
     "metadata": {},
     "output_type": "display_data"
    }
   ],
   "source": [
    "def showTrainHistory(_history, train, val, title):  \n",
    "    plt.plot(_history.history[train])  \n",
    "    plt.plot(_history.history[val])  \n",
    "    plt.title(title)  \n",
    "    plt.ylabel(train+','+val)  \n",
    "    plt.xlabel('Epoch')  \n",
    "    plt.legend([train, val], loc='upper left')  \n",
    "    plt.show()\n",
    "showTrainHistory(_history,\"loss\",\"val_loss\",\"loss model\")\n",
    "showTrainHistory(_history,\"acc\",\"val_acc\",\"acc model\")\n"
   ]
  },
  {
   "cell_type": "code",
   "execution_count": 102,
   "metadata": {},
   "outputs": [
    {
     "data": {
      "image/png": "[encoded data removed]",
      "text/plain": [
       "<Figure size 432x288 with 1 Axes>"
      ]
     },
     "metadata": {},
     "output_type": "display_data"
    }
   ],
   "source": [
    "plt.plot([1,2,310])\n",
    "plt.plot([1,56,129])\n",
    "plt.show()"
   ]
  },
  {
   "cell_type": "code",
   "execution_count": 106,
   "metadata": {},
   "outputs": [
    {
     "data": {
      "text/plain": [
       "[0.7312166646122933,\n",
       " 0.9295833329359691,\n",
       " 0.9569333374500275,\n",
       " 0.9684833387533823,\n",
       " 0.9753666639328002,\n",
       " 0.979366668065389,\n",
       " 0.9826500018437704,\n",
       " 0.9851499994595846,\n",
       " 0.986733329296112,\n",
       " 0.9874999980131786]"
      ]
     },
     "execution_count": 106,
     "metadata": {},
     "output_type": "execute_result"
    }
   ],
   "source": [
    "train='acc'\n",
    "_history.history[train]"
   ]
  },
  {
   "cell_type": "code",
   "execution_count": 32,
   "metadata": {},
   "outputs": [
    {
     "data": {
      "text/plain": [
       "array({'type': ['cds', 'utr_5', 'utr_3', 'intron', 'intergenic_region'], 'data': [{'strand': 'plus', 'has_space': True, 'chromosome_id': 'test', 'note': '', 'data': {'utr_5': array([0.25, 0.25, 0.  , 0.  , 0.  , 0.  , 0.  , 0.  , 0.  , 0.25],\n",
       "      dtype=float32), 'utr_3': array([0.25, 0.25, 0.  , 0.  , 0.  , 0.  , 0.  , 0.  , 0.  , 0.25],\n",
       "      dtype=float32), 'intron': array([0.25, 0.25, 0.  , 0.  , 0.  , 0.  , 0.  , 0.  , 0.  , 0.25],\n",
       "      dtype=float32), 'cds': array([0.25, 0.25, 0.  , 0.  , 0.  , 0.  , 0.  , 0.  , 0.  , 0.25],\n",
       "      dtype=float32), 'intergenic_region': array([0., 0., 1., 1., 1., 1., 1., 1., 1., 0.], dtype=float32)}, 'absolute_index': None, 'source': None, 'ANN_TYPES': ['cds', 'utr_5', 'utr_3', 'intron', 'intergenic_region'], 'length': 10, 'id': 'seq_01', 'processed_status': None}, {'strand': 'plus', 'has_space': True, 'chromosome_id': 'test', 'note': '', 'data': {'utr_5': array([0.25, 0.25, 0.  , 0.  , 0.  , 0.  , 0.  , 0.  , 0.  , 0.25],\n",
       "      dtype=float32), 'utr_3': array([0.25, 0.25, 0.  , 0.  , 0.  , 0.  , 0.  , 0.  , 0.  , 0.25],\n",
       "      dtype=float32), 'intron': array([0.25, 0.25, 0.  , 0.  , 0.  , 0.  , 0.  , 0.  , 0.  , 0.25],\n",
       "      dtype=float32), 'cds': array([0.25, 0.25, 0.  , 0.  , 0.  , 0.  , 0.  , 0.  , 0.  , 0.25],\n",
       "      dtype=float32), 'intergenic_region': array([0., 0., 1., 1., 1., 1., 1., 1., 1., 0.], dtype=float32)}, 'absolute_index': None, 'source': None, 'ANN_TYPES': ['cds', 'utr_5', 'utr_3', 'intron', 'intergenic_region'], 'length': 10, 'id': 'seq_02', 'processed_status': None}, {'strand': 'plus', 'has_space': True, 'chromosome_id': 'test', 'note': '', 'data': {'utr_5': array([0.25, 0.25, 0.  , 0.  , 0.  , 0.  , 0.  , 0.  , 0.  , 0.25],\n",
       "      dtype=float32), 'utr_3': array([0.25, 0.25, 0.  , 0.  , 0.  , 0.  , 0.  , 0.  , 0.  , 0.25],\n",
       "      dtype=float32), 'intron': array([0.25, 0.25, 0.  , 0.  , 0.  , 0.  , 0.  , 0.  , 0.  , 0.25],\n",
       "      dtype=float32), 'cds': array([0.25, 0.25, 0.  , 0.  , 0.  , 0.  , 0.  , 0.  , 0.  , 0.25],\n",
       "      dtype=float32), 'intergenic_region': array([0., 0., 1., 1., 1., 1., 1., 1., 1., 0.], dtype=float32)}, 'absolute_index': None, 'source': None, 'ANN_TYPES': ['cds', 'utr_5', 'utr_3', 'intron', 'intergenic_region'], 'length': 10, 'id': 'seq_03', 'processed_status': None}, {'strand': 'plus', 'has_space': True, 'chromosome_id': 'test', 'note': '', 'data': {'utr_5': array([0.25, 0.25, 0.  , 0.  , 0.  , 0.  , 0.  , 0.  , 0.  , 0.25],\n",
       "      dtype=float32), 'utr_3': array([0.25, 0.25, 0.  , 0.  , 0.  , 0.  , 0.  , 0.  , 0.  , 0.25],\n",
       "      dtype=float32), 'intron': array([0.25, 0.25, 0.  , 0.  , 0.  , 0.  , 0.  , 0.  , 0.  , 0.25],\n",
       "      dtype=float32), 'cds': array([0.25, 0.25, 0.  , 0.  , 0.  , 0.  , 0.  , 0.  , 0.  , 0.25],\n",
       "      dtype=float32), 'intergenic_region': array([0., 0., 1., 1., 1., 1., 1., 1., 1., 0.], dtype=float32)}, 'absolute_index': None, 'source': None, 'ANN_TYPES': ['cds', 'utr_5', 'utr_3', 'intron', 'intergenic_region'], 'length': 10, 'id': 'seq_04', 'processed_status': None}, {'strand': 'plus', 'has_space': True, 'chromosome_id': 'test', 'note': '', 'data': {'utr_5': array([0.25, 0.25, 0.  , 0.  , 0.  , 0.  , 0.  , 0.  , 0.  , 0.25],\n",
       "      dtype=float32), 'utr_3': array([0.25, 0.25, 0.  , 0.  , 0.  , 0.  , 0.  , 0.  , 0.  , 0.25],\n",
       "      dtype=float32), 'intron': array([0.25, 0.25, 0.  , 0.  , 0.  , 0.  , 0.  , 0.  , 0.  , 0.25],\n",
       "      dtype=float32), 'cds': array([0.25, 0.25, 0.  , 0.  , 0.  , 0.  , 0.  , 0.  , 0.  , 0.25],\n",
       "      dtype=float32), 'intergenic_region': array([0., 0., 1., 1., 1., 1., 1., 1., 1., 0.], dtype=float32)}, 'absolute_index': None, 'source': None, 'ANN_TYPES': ['cds', 'utr_5', 'utr_3', 'intron', 'intergenic_region'], 'length': 10, 'id': 'seq_05', 'processed_status': None}, {'strand': 'plus', 'has_space': True, 'chromosome_id': 'test', 'note': '', 'data': {'utr_5': array([0.25, 0.25, 0.  , 0.  , 0.  , 0.  , 0.  , 0.  , 0.  , 0.25],\n",
       "      dtype=float32), 'utr_3': array([0.25, 0.25, 0.  , 0.  , 0.  , 0.  , 0.  , 0.  , 0.  , 0.25],\n",
       "      dtype=float32), 'intron': array([0.25, 0.25, 0.  , 0.  , 0.  , 0.  , 0.  , 0.  , 0.  , 0.25],\n",
       "      dtype=float32), 'cds': array([0.25, 0.25, 0.  , 0.  , 0.  , 0.  , 0.  , 0.  , 0.  , 0.25],\n",
       "      dtype=float32), 'intergenic_region': array([0., 0., 1., 1., 1., 1., 1., 1., 1., 0.], dtype=float32)}, 'absolute_index': None, 'source': None, 'ANN_TYPES': ['cds', 'utr_5', 'utr_3', 'intron', 'intergenic_region'], 'length': 10, 'id': 'seq_06', 'processed_status': None}, {'strand': 'plus', 'has_space': True, 'chromosome_id': 'test', 'note': '', 'data': {'utr_5': array([0.25, 0.25, 0.  , 0.  , 0.  , 0.  , 0.  , 0.  , 0.  , 0.25],\n",
       "      dtype=float32), 'utr_3': array([0.25, 0.25, 0.  , 0.  , 0.  , 0.  , 0.  , 0.  , 0.  , 0.25],\n",
       "      dtype=float32), 'intron': array([0.25, 0.25, 0.  , 0.  , 0.  , 0.  , 0.  , 0.  , 0.  , 0.25],\n",
       "      dtype=float32), 'cds': array([0.25, 0.25, 0.  , 0.  , 0.  , 0.  , 0.  , 0.  , 0.  , 0.25],\n",
       "      dtype=float32), 'intergenic_region': array([0., 0., 1., 1., 1., 1., 1., 1., 1., 0.], dtype=float32)}, 'absolute_index': None, 'source': None, 'ANN_TYPES': ['cds', 'utr_5', 'utr_3', 'intron', 'intergenic_region'], 'length': 10, 'id': 'seq_07', 'processed_status': None}, {'strand': 'plus', 'has_space': True, 'chromosome_id': 'test', 'note': '', 'data': {'utr_5': array([0.25, 0.25, 0.  , 0.  , 0.  , 0.  , 0.  , 0.  , 0.  , 0.25],\n",
       "      dtype=float32), 'utr_3': array([0.25, 0.25, 0.  , 0.  , 0.  , 0.  , 0.  , 0.  , 0.  , 0.25],\n",
       "      dtype=float32), 'intron': array([0.25, 0.25, 0.  , 0.  , 0.  , 0.  , 0.  , 0.  , 0.  , 0.25],\n",
       "      dtype=float32), 'cds': array([0.25, 0.25, 0.  , 0.  , 0.  , 0.  , 0.  , 0.  , 0.  , 0.25],\n",
       "      dtype=float32), 'intergenic_region': array([0., 0., 1., 1., 1., 1., 1., 1., 1., 0.], dtype=float32)}, 'absolute_index': None, 'source': None, 'ANN_TYPES': ['cds', 'utr_5', 'utr_3', 'intron', 'intergenic_region'], 'length': 10, 'id': 'seq_08', 'processed_status': None}, {'strand': 'plus', 'has_space': True, 'chromosome_id': 'test', 'note': '', 'data': {'utr_5': array([0.25, 0.25, 0.  , 0.  , 0.  , 0.  , 0.  , 0.  , 0.  , 0.25],\n",
       "      dtype=float32), 'utr_3': array([0.25, 0.25, 0.  , 0.  , 0.  , 0.  , 0.  , 0.  , 0.  , 0.25],\n",
       "      dtype=float32), 'intron': array([0.25, 0.25, 0.  , 0.  , 0.  , 0.  , 0.  , 0.  , 0.  , 0.25],\n",
       "      dtype=float32), 'cds': array([0.25, 0.25, 0.  , 0.  , 0.  , 0.  , 0.  , 0.  , 0.  , 0.25],\n",
       "      dtype=float32), 'intergenic_region': array([0., 0., 1., 1., 1., 1., 1., 1., 1., 0.], dtype=float32)}, 'absolute_index': None, 'source': None, 'ANN_TYPES': ['cds', 'utr_5', 'utr_3', 'intron', 'intergenic_region'], 'length': 10, 'id': 'seq_09', 'processed_status': None}], 'note': ''},\n",
       "      dtype=object)"
      ]
     },
     "execution_count": 32,
     "metadata": {},
     "output_type": "execute_result"
    }
   ],
   "source": [
    "import numpy as np\n",
    "\n",
    "#np.load('../pipeline/data/seqs.npy')"
   ]
  },
  {
   "cell_type": "code",
   "execution_count": 42,
   "metadata": {},
   "outputs": [],
   "source": [
    "from sequence_annotation.genome_handler.sequence import AnnSequence\n",
    "from sequence_annotation.genome_handler.seq_container import AnnSeqContainer"
   ]
  },
  {
   "cell_type": "code",
   "execution_count": 46,
   "metadata": {},
   "outputs": [
    {
     "data": {
      "text/plain": [
       "<sequence_annotation.genome_handler.sequence.AnnSequence at 0x7f62001cdf60>"
      ]
     },
     "execution_count": 46,
     "metadata": {},
     "output_type": "execute_result"
    }
   ],
   "source": [
    "seqs=AnnSeqContainer()\n",
    "seqs.ANN_TYPES = ['a','b']\n",
    "for i in range(3):\n",
    "    a=AnnSequence()\n",
    "    a.id=i\n",
    "    a.strand='plus'\n",
    "    a.length=3\n",
    "    a.ANN_TYPES=['a','b']\n",
    "    a.init_space()\n",
    "    a.add_ann('a',1,0,1)\n",
    "    a.add_ann('b',1,2,2)\n",
    "    seqs.add(a)"
   ]
  },
  {
   "cell_type": "code",
   "execution_count": null,
   "metadata": {},
   "outputs": [],
   "source": []
  }
 ],
 "metadata": {
  "kernelspec": {
   "display_name": "Python 3",
   "language": "python",
   "name": "python3"
  },
  "language_info": {
   "codemirror_mode": {
    "name": "ipython",
    "version": 3
   },
   "file_extension": ".py",
   "mimetype": "text/x-python",
   "name": "python",
   "nbconvert_exporter": "python",
   "pygments_lexer": "ipython3",
   "version": "3.5.2"
  }
 },
 "nbformat": 4,
 "nbformat_minor": 2
}
