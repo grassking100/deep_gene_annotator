{
 "cells": [
  {
   "cell_type": "code",
   "execution_count": 9,
   "metadata": {},
   "outputs": [],
   "source": [
    "import numpy as np"
   ]
  },
  {
   "cell_type": "code",
   "execution_count": 19,
   "metadata": {},
   "outputs": [],
   "source": [
    "json = np.load('seqs.npy').tolist()"
   ]
  },
  {
   "cell_type": "code",
   "execution_count": 15,
   "metadata": {},
   "outputs": [],
   "source": [
    "json['seq_04'] = json['seq_01']\n",
    "json['seq_05'] = json['seq_02']\n",
    "json['seq_06'] = json['seq_03']\n",
    "json['seq_07'] = json['seq_01']\n",
    "json['seq_08'] = json['seq_02']\n",
    "json['seq_09'] = json['seq_03']"
   ]
  },
  {
   "cell_type": "code",
   "execution_count": 18,
   "metadata": {},
   "outputs": [],
   "source": [
    "np.save('seqs.npy',json)"
   ]
  },
  {
   "cell_type": "code",
   "execution_count": 20,
   "metadata": {},
   "outputs": [
    {
     "data": {
      "text/plain": [
       "{'seq_01': {'cds': [0.25, 0.25, 0, 0, 0, 0, 0, 0, 0, 0.25],\n",
       "  'intergenic_region': [0, 0, 1.0, 1.0, 1.0, 1.0, 1.0, 1.0, 1.0, 0],\n",
       "  'intron': [0.25, 0.25, 0, 0, 0, 0, 0, 0, 0, 0.25],\n",
       "  'utr_3': [0.25, 0.25, 0, 0, 0, 0, 0, 0, 0, 0.25],\n",
       "  'utr_5': [0.25, 0.25, 0, 0, 0, 0, 0, 0, 0, 0.25]},\n",
       " 'seq_02': {'cds': [0.25, 0.25, 0, 0, 0, 0, 0, 0, 0, 0.25],\n",
       "  'intergenic_region': [0, 0, 1.0, 1.0, 1.0, 1.0, 1.0, 1.0, 1.0, 0],\n",
       "  'intron': [0.25, 0.25, 0, 0, 0, 0, 0, 0, 0, 0.25],\n",
       "  'utr_3': [0.25, 0.25, 0, 0, 0, 0, 0, 0, 0, 0.25],\n",
       "  'utr_5': [0.25, 0.25, 0, 0, 0, 0, 0, 0, 0, 0.25]},\n",
       " 'seq_03': {'cds': [0.25, 0.25, 0, 0, 0, 0, 0, 0, 0, 0.25],\n",
       "  'intergenic_region': [0, 0, 1.0, 1.0, 1.0, 1.0, 1.0, 1.0, 1.0, 0],\n",
       "  'intron': [0.25, 0.25, 0, 0, 0, 0, 0, 0, 0, 0.25],\n",
       "  'utr_3': [0.25, 0.25, 0, 0, 0, 0, 0, 0, 0, 0.25],\n",
       "  'utr_5': [0.25, 0.25, 0, 0, 0, 0, 0, 0, 0, 0.25]},\n",
       " 'seq_04': {'cds': [0.25, 0.25, 0, 0, 0, 0, 0, 0, 0, 0.25],\n",
       "  'intergenic_region': [0, 0, 1.0, 1.0, 1.0, 1.0, 1.0, 1.0, 1.0, 0],\n",
       "  'intron': [0.25, 0.25, 0, 0, 0, 0, 0, 0, 0, 0.25],\n",
       "  'utr_3': [0.25, 0.25, 0, 0, 0, 0, 0, 0, 0, 0.25],\n",
       "  'utr_5': [0.25, 0.25, 0, 0, 0, 0, 0, 0, 0, 0.25]},\n",
       " 'seq_05': {'cds': [0.25, 0.25, 0, 0, 0, 0, 0, 0, 0, 0.25],\n",
       "  'intergenic_region': [0, 0, 1.0, 1.0, 1.0, 1.0, 1.0, 1.0, 1.0, 0],\n",
       "  'intron': [0.25, 0.25, 0, 0, 0, 0, 0, 0, 0, 0.25],\n",
       "  'utr_3': [0.25, 0.25, 0, 0, 0, 0, 0, 0, 0, 0.25],\n",
       "  'utr_5': [0.25, 0.25, 0, 0, 0, 0, 0, 0, 0, 0.25]},\n",
       " 'seq_06': {'cds': [0.25, 0.25, 0, 0, 0, 0, 0, 0, 0, 0.25],\n",
       "  'intergenic_region': [0, 0, 1.0, 1.0, 1.0, 1.0, 1.0, 1.0, 1.0, 0],\n",
       "  'intron': [0.25, 0.25, 0, 0, 0, 0, 0, 0, 0, 0.25],\n",
       "  'utr_3': [0.25, 0.25, 0, 0, 0, 0, 0, 0, 0, 0.25],\n",
       "  'utr_5': [0.25, 0.25, 0, 0, 0, 0, 0, 0, 0, 0.25]},\n",
       " 'seq_07': {'cds': [0.25, 0.25, 0, 0, 0, 0, 0, 0, 0, 0.25],\n",
       "  'intergenic_region': [0, 0, 1.0, 1.0, 1.0, 1.0, 1.0, 1.0, 1.0, 0],\n",
       "  'intron': [0.25, 0.25, 0, 0, 0, 0, 0, 0, 0, 0.25],\n",
       "  'utr_3': [0.25, 0.25, 0, 0, 0, 0, 0, 0, 0, 0.25],\n",
       "  'utr_5': [0.25, 0.25, 0, 0, 0, 0, 0, 0, 0, 0.25]},\n",
       " 'seq_08': {'cds': [0.25, 0.25, 0, 0, 0, 0, 0, 0, 0, 0.25],\n",
       "  'intergenic_region': [0, 0, 1.0, 1.0, 1.0, 1.0, 1.0, 1.0, 1.0, 0],\n",
       "  'intron': [0.25, 0.25, 0, 0, 0, 0, 0, 0, 0, 0.25],\n",
       "  'utr_3': [0.25, 0.25, 0, 0, 0, 0, 0, 0, 0, 0.25],\n",
       "  'utr_5': [0.25, 0.25, 0, 0, 0, 0, 0, 0, 0, 0.25]},\n",
       " 'seq_09': {'cds': [0.25, 0.25, 0, 0, 0, 0, 0, 0, 0, 0.25],\n",
       "  'intergenic_region': [0, 0, 1.0, 1.0, 1.0, 1.0, 1.0, 1.0, 1.0, 0],\n",
       "  'intron': [0.25, 0.25, 0, 0, 0, 0, 0, 0, 0, 0.25],\n",
       "  'utr_3': [0.25, 0.25, 0, 0, 0, 0, 0, 0, 0, 0.25],\n",
       "  'utr_5': [0.25, 0.25, 0, 0, 0, 0, 0, 0, 0, 0.25]}}"
      ]
     },
     "execution_count": 20,
     "metadata": {},
     "output_type": "execute_result"
    }
   ],
   "source": [
    "json"
   ]
  },
  {
   "cell_type": "code",
   "execution_count": null,
   "metadata": {},
   "outputs": [],
   "source": []
  }
 ],
 "metadata": {
  "kernelspec": {
   "display_name": "Python 3",
   "language": "python",
   "name": "python3"
  },
  "language_info": {
   "codemirror_mode": {
    "name": "ipython",
    "version": 3
   },
   "file_extension": ".py",
   "mimetype": "text/x-python",
   "name": "python",
   "nbconvert_exporter": "python",
   "pygments_lexer": "ipython3",
   "version": "3.5.2"
  }
 },
 "nbformat": 4,
 "nbformat_minor": 2
}
