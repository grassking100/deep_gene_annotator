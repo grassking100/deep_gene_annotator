{
 "cells": [
  {
   "cell_type": "code",
   "execution_count": 2,
   "metadata": {},
   "outputs": [
    {
     "name": "stdout",
     "output_type": "stream",
     "text": [
      "Program start time: 2018-03-24 15:31:15\n",
      "User input:{'train_id': 'test_03', 'work_setting_path': 'setting/training_setting.json', 'model_setting_path': 'setting/model_setting.json'}\n"
     ]
    },
    {
     "ename": "NameError",
     "evalue": "name 'TrainSeqAnnPipeline' is not defined",
     "output_type": "error",
     "traceback": [
      "\u001b[0;31m---------------------------------------------------------------------------\u001b[0m",
      "\u001b[0;31mNameError\u001b[0m                                 Traceback (most recent call last)",
      "\u001b[0;32m<ipython-input-2-06c07cccbbf2>\u001b[0m in \u001b[0;36m<module>\u001b[0;34m()\u001b[0m\n\u001b[1;32m     14\u001b[0m \u001b[0mprint\u001b[0m\u001b[0;34m(\u001b[0m\u001b[0;34m\"User input:\"\u001b[0m\u001b[0;34m+\u001b[0m\u001b[0mstr\u001b[0m\u001b[0;34m(\u001b[0m\u001b[0muser_setting\u001b[0m\u001b[0;34m)\u001b[0m\u001b[0;34m)\u001b[0m\u001b[0;34m\u001b[0m\u001b[0m\n\u001b[1;32m     15\u001b[0m \u001b[0mstart_time\u001b[0m \u001b[0;34m=\u001b[0m \u001b[0mtime\u001b[0m\u001b[0;34m(\u001b[0m\u001b[0;34m)\u001b[0m\u001b[0;34m\u001b[0m\u001b[0m\n\u001b[0;32m---> 16\u001b[0;31m \u001b[0mtrain_pipeline\u001b[0m \u001b[0;34m=\u001b[0m \u001b[0mTrainSeqAnnPipeline\u001b[0m\u001b[0;34m(\u001b[0m\u001b[0;34m\"pipeline_test\"\u001b[0m\u001b[0;34m,\u001b[0m\u001b[0muser_setting\u001b[0m\u001b[0;34m[\u001b[0m\u001b[0;34m'work_setting_path'\u001b[0m\u001b[0;34m]\u001b[0m\u001b[0;34m,\u001b[0m\u001b[0muser_setting\u001b[0m\u001b[0;34m[\u001b[0m\u001b[0;34m'model_setting_path'\u001b[0m\u001b[0;34m]\u001b[0m\u001b[0;34m)\u001b[0m\u001b[0;34m\u001b[0m\u001b[0m\n\u001b[0m\u001b[1;32m     17\u001b[0m \u001b[0mtrain_pipeline\u001b[0m\u001b[0;34m.\u001b[0m\u001b[0mexecute\u001b[0m\u001b[0;34m(\u001b[0m\u001b[0;34m)\u001b[0m\u001b[0;34m\u001b[0m\u001b[0m\n\u001b[1;32m     18\u001b[0m \u001b[0mend_time\u001b[0m \u001b[0;34m=\u001b[0m \u001b[0mtime\u001b[0m\u001b[0;34m(\u001b[0m\u001b[0;34m)\u001b[0m\u001b[0;34m\u001b[0m\u001b[0m\n",
      "\u001b[0;31mNameError\u001b[0m: name 'TrainSeqAnnPipeline' is not defined"
     ]
    }
   ],
   "source": [
    "import os\n",
    "import sys\n",
    "sys.path.append('/home/grassking100/keras2')\n",
    "sys.path.append(os.path.abspath(\"~/../../..\"))\n",
    "import argparse\n",
    "from time import gmtime, strftime, time\n",
    "from sequence_annotation.pipeline.train_pipeline import TrainSeqAnnPipeline\n",
    "from sequence_annotation.worker.model_trainer import ModelTrainer\n",
    "user_setting = {}\n",
    "user_setting['work_setting_path']='setting/training_setting.json'\n",
    "user_setting['model_setting_path']='setting/model_setting.json'\n",
    "user_setting['train_id']='test_03'\n",
    "print('Program start time: '+strftime(\"%Y-%m-%d %H:%M:%S\",gmtime()))\n",
    "print(\"User input:\"+str(user_setting))\n",
    "start_time = time()\n",
    "train_pipeline = TrainSeqAnnPipeline(\"pipeline_test\",user_setting['work_setting_path'],user_setting['model_setting_path'])\n",
    "train_pipeline.execute()\n",
    "end_time = time()\n",
    "time_spend = end_time - start_time\n",
    "print('Program end time: '+strftime(\"%Y-%m-%d %H:%M:%S\",gmtime()))\n",
    "print(\"Time spent: \"+strftime(\"%H:%M:%S\", gmtime(time_spend)))"
   ]
  },
  {
   "cell_type": "code",
   "execution_count": null,
   "metadata": {},
   "outputs": [],
   "source": [
    "len(\"10101010101010\".split(''))"
   ]
  },
  {
   "cell_type": "code",
   "execution_count": null,
   "metadata": {},
   "outputs": [],
   "source": [
    "data = {}\n",
    "datas= {'seq_01':data,'seq_02':data,'seq_03':data}\n",
    "for t in [\"utr_5\",\"utr_3\",\"intron\",\"cds\"]:\n",
    "    data[t] = [.25,.25,0,0,0,0,0,0,0,.25]\n",
    "    data[\"intergenic_region\"] = [0,0,1.,1.,1.,1.,1.,1.,1.,0]"
   ]
  },
  {
   "cell_type": "code",
   "execution_count": null,
   "metadata": {},
   "outputs": [],
   "source": [
    "import numpy as np\n",
    "np.save('data/seqs.npy',np.array(datas))"
   ]
  },
  {
   "cell_type": "code",
   "execution_count": null,
   "metadata": {},
   "outputs": [],
   "source": [
    "datas"
   ]
  },
  {
   "cell_type": "code",
   "execution_count": null,
   "metadata": {},
   "outputs": [],
   "source": []
  }
 ],
 "metadata": {
  "kernelspec": {
   "display_name": "Python 3",
   "language": "python",
   "name": "python3"
  },
  "language_info": {
   "codemirror_mode": {
    "name": "ipython",
    "version": 3
   },
   "file_extension": ".py",
   "mimetype": "text/x-python",
   "name": "python",
   "nbconvert_exporter": "python",
   "pygments_lexer": "ipython3",
   "version": "3.4.3"
  }
 },
 "nbformat": 4,
 "nbformat_minor": 2
}
