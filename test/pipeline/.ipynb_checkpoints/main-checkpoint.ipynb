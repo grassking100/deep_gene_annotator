{
 "cells": [
  {
   "cell_type": "code",
   "execution_count": null,
   "metadata": {},
   "outputs": [],
   "source": [
    "import os\n",
    "import sys\n",
    "import shutil\n",
    "sys.path.append(os.path.abspath(\"~/../../..\"))\n",
    "import argparse\n",
    "from time import gmtime, strftime, time\n",
    "from sequence_annotation.pipeline.train_pipeline import TrainSeqAnnPipeline\n",
    "from sequence_annotation.worker.model_trainer import ModelTrainer\n",
    "user_setting = {}\n",
    "user_setting['work_setting_path']='setting/training_setting.json'\n",
    "user_setting['model_setting_path']='setting/model_setting.json'\n",
    "user_setting['train_id']='test_03'\n",
    "print('Program start time: '+strftime(\"%Y-%m-%d %H:%M:%S\",gmtime()))\n",
    "print(\"User input:\"+str(user_setting))\n",
    "start_time = time()\n",
    "train_pipeline = TrainSeqAnnPipeline(\"pipeline_test\",user_setting['work_setting_path'],user_setting['model_setting_path'])\n",
    "train_pipeline.execute()\n",
    "end_time = time()\n",
    "time_spend = end_time - start_time\n",
    "print('Program end time: '+strftime(\"%Y-%m-%d %H:%M:%S\",gmtime()))\n",
    "print(\"Time spent: \"+strftime(\"%H:%M:%S\", gmtime(time_spend)))\n",
    "shutil.rmtree('result')"
   ]
  }
 ],
 "metadata": {
  "kernelspec": {
   "display_name": "Python 3",
   "language": "python",
   "name": "python3"
  },
  "language_info": {
   "codemirror_mode": {
    "name": "ipython",
    "version": 3
   },
   "file_extension": ".py",
   "mimetype": "text/x-python",
   "name": "python",
   "nbconvert_exporter": "python",
   "pygments_lexer": "ipython3",
   "version": "3.4.3"
  }
 },
 "nbformat": 4,
 "nbformat_minor": 2
}
