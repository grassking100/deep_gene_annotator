{
 "cells": [
  {
   "cell_type": "code",
   "execution_count": null,
   "metadata": {},
   "outputs": [],
   "source": [
    "import os\n",
    "import sys\n",
    "sys.path.append('/home/grassking100/keras2')\n",
    "sys.path.append(os.path.abspath(\"~/../../..\"))\n",
    "import argparse\n",
    "from time import gmtime, strftime, time\n",
    "from sequence_annotation.pipeline.train_pipeline import TrainSeqAnnPipeline\n",
    "from sequence_annotation.worker.model_trainer import ModelTrainer\n",
    "user_setting = {}\n",
    "user_setting['work_setting_path']='setting/training_setting.json'\n",
    "user_setting['model_setting_path']='setting/model_setting.json'\n",
    "user_setting['train_id']='test_03'\n",
    "print('Program start time: '+strftime(\"%Y-%m-%d %H:%M:%S\",gmtime()))\n",
    "print(\"User input:\"+str(user_setting))\n",
    "start_time = time()\n",
    "train_pipeline = TrainSeqAnnPipeline(\"pipeline_test\",user_setting['work_setting_path'],user_setting['model_setting_path'])\n",
    "train_pipeline.execute()\n",
    "end_time = time()\n",
    "time_spend = end_time - start_time\n",
    "print('Program end time: '+strftime(\"%Y-%m-%d %H:%M:%S\",gmtime()))\n",
    "print(\"Time spent: \"+strftime(\"%H:%M:%S\", gmtime(time_spend)))"
   ]
  },
  {
   "cell_type": "code",
   "execution_count": null,
   "metadata": {},
   "outputs": [],
   "source": [
    "len(\"10101010101010\".split(''))"
   ]
  },
  {
   "cell_type": "code",
   "execution_count": null,
   "metadata": {},
   "outputs": [],
   "source": [
    "data = {}\n",
    "datas= {'seq_01':data,'seq_02':data,'seq_03':data}\n",
    "for t in [\"utr_5\",\"utr_3\",\"intron\",\"cds\"]:\n",
    "    data[t] = [.25,.25,0,0,0,0,0,0,0,.25]\n",
    "    data[\"intergenic_region\"] = [0,0,1.,1.,1.,1.,1.,1.,1.,0]"
   ]
  },
  {
   "cell_type": "code",
   "execution_count": null,
   "metadata": {},
   "outputs": [],
   "source": [
    "import numpy as np\n",
    "np.save('data/seqs.npy',np.array(datas))"
   ]
  },
  {
   "cell_type": "code",
   "execution_count": null,
   "metadata": {},
   "outputs": [],
   "source": [
    "datas"
   ]
  },
  {
   "cell_type": "code",
   "execution_count": null,
   "metadata": {},
   "outputs": [],
   "source": []
  }
 ],
 "metadata": {
  "kernelspec": {
   "display_name": "Python 3",
   "language": "python",
   "name": "python3"
  },
  "language_info": {
   "codemirror_mode": {
    "name": "ipython",
    "version": 3
   },
   "file_extension": ".py",
   "mimetype": "text/x-python",
   "name": "python",
   "nbconvert_exporter": "python",
   "pygments_lexer": "ipython3",
   "version": "3.4.3"
  }
 },
 "nbformat": 4,
 "nbformat_minor": 2
}
