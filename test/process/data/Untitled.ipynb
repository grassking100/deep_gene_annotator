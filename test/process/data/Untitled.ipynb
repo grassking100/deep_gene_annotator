{
 "cells": [
  {
   "cell_type": "code",
   "execution_count": 131,
   "metadata": {},
   "outputs": [],
   "source": [
    "import json\n",
    "root='multiple_transcript_multiple_exon'\n",
    "for root in [\n",
    "    #'single_transcript_single_exon','single_transcript_multiple_exon',\n",
    "             'multiple_transcript_multiple_exon',\n",
    "    #         'merged_gene','single_transcript_single_intron','single_transcript_five_end_intron',\n",
    "     #        'single_transcript_three_end_intron'\n",
    "]:\n",
    "    for suffix in ['_for_full_correct','']:\n",
    "        path='{}/expect_part_block_performance{}.json'.format(root,suffix)\n",
    "        with open(path,'r') as fp:\n",
    "            data = json.load(fp)\n",
    "        with open(path+\".temp\",'w') as fp:\n",
    "            json.dump(data,fp)\n",
    "        data_ = {}\n",
    "        for key,value in data.items():\n",
    "            keys = key.split('_')\n",
    "            if 'TP' in keys or 'FP' in keys or 'FN' in keys:\n",
    "                key = '_'.join(reversed(list(keys)))\n",
    "                if 'internal' not in keys:\n",
    "                    #key = key.replace('exon_block_block','exon_block')\n",
    "                    #key = key.replace('introns','temp')#.replace('intron','intron_block')\n",
    "                    #key = key.replace('temp','introns').replace('block_exon_block','exon_block').replace('intron_block_block','intron_block')\n",
    "                    data_[key] = value\n",
    "        with open(path,'w') as fp:\n",
    "            json.dump(data_,fp,indent=4)"
   ]
  },
  {
   "cell_type": "code",
   "execution_count": 129,
   "metadata": {},
   "outputs": [
    {
     "data": {
      "text/plain": [
       "{'FN_exon_block': 1,\n",
       " 'FP_exon_block': 1,\n",
       " 'TP_exon_block': 1,\n",
       " 'FN_gene': 1,\n",
       " 'FP_gene': 1,\n",
       " 'TP_gene': 0,\n",
       " 'FN_intron_block': 1,\n",
       " 'FP_intron_block': 1,\n",
       " 'TP_intron_block': 1,\n",
       " 'FN_chained_introns': 1,\n",
       " 'FP_chained_introns': 1,\n",
       " 'TP_chained_introns': 0,\n",
       " 'FN_transcript': 1,\n",
       " 'FP_transcript': 1,\n",
       " 'TP_transcript': 0}"
      ]
     },
     "execution_count": 129,
     "metadata": {},
     "output_type": "execute_result"
    }
   ],
   "source": [
    "data_"
   ]
  },
  {
   "cell_type": "code",
   "execution_count": 105,
   "metadata": {},
   "outputs": [],
   "source": []
  },
  {
   "cell_type": "code",
   "execution_count": 106,
   "metadata": {},
   "outputs": [],
   "source": []
  },
  {
   "cell_type": "code",
   "execution_count": 107,
   "metadata": {},
   "outputs": [
    {
     "data": {
      "text/plain": [
       "{'FN_exon_block': 1,\n",
       " 'FP_exon_block': 0,\n",
       " 'TP_exon_block': 3,\n",
       " 'FN_gene': 1,\n",
       " 'FP_gene': 1,\n",
       " 'TP_gene': 0,\n",
       " 'FN_intron_block': 0,\n",
       " 'FP_intron_block': 0,\n",
       " 'TP_intron_block': 3,\n",
       " 'FN_chained_introns': 0,\n",
       " 'FP_chained_introns': 0,\n",
       " 'TP_chained_introns': 2,\n",
       " 'FN_transcript': 1,\n",
       " 'FP_transcript': 1,\n",
       " 'TP_transcript': 1}"
      ]
     },
     "execution_count": 107,
     "metadata": {},
     "output_type": "execute_result"
    }
   ],
   "source": [
    "data_"
   ]
  },
  {
   "cell_type": "code",
   "execution_count": null,
   "metadata": {},
   "outputs": [],
   "source": []
  },
  {
   "cell_type": "code",
   "execution_count": null,
   "metadata": {},
   "outputs": [],
   "source": []
  }
 ],
 "metadata": {
  "kernelspec": {
   "display_name": "Python 3",
   "language": "python",
   "name": "python3"
  },
  "language_info": {
   "codemirror_mode": {
    "name": "ipython",
    "version": 3
   },
   "file_extension": ".py",
   "mimetype": "text/x-python",
   "name": "python",
   "nbconvert_exporter": "python",
   "pygments_lexer": "ipython3",
   "version": "3.8.5"
  }
 },
 "nbformat": 4,
 "nbformat_minor": 4
}
