{
 "cells": [
  {
   "cell_type": "code",
   "execution_count": 1,
   "metadata": {},
   "outputs": [],
   "source": [
    "import os\n",
    "os.environ[\"CUDA_DEVICE_ORDER\"]=\"PCI_BUS_ID\"\n",
    "os.environ[\"CUDA_LAUNCH_BLOCKING\"]=\"0\"\n",
    "import os\n",
    "import sys\n",
    "from os.path import abspath, expanduser\n",
    "sys.path.append(abspath(expanduser(\"../io/RNN/python\")))\n",
    "sys.path.append(abspath(expanduser(\"../io/RNN\")))\n",
    "sys.path.append(abspath(expanduser(\"../sequence_annotation\")))\n",
    "import torch\n",
    "from python.gated_ind_rnn import GatedIndRNN\n",
    "import time\n",
    "import torch.nn as nn\n",
    "import torch.nn.functional as F\n",
    "import numpy as np"
   ]
  },
  {
   "cell_type": "code",
   "execution_count": 2,
   "metadata": {},
   "outputs": [
    {
     "name": "stderr",
     "output_type": "stream",
     "text": [
      "Using TensorFlow backend.\n"
     ]
    }
   ],
   "source": [
    "import deepdish as dd\n",
    "from sequence_annotation.data_handler.fasta import read_fasta\n",
    "from sequence_annotation.genome_handler.sequence import AnnSequence\n",
    "from sequence_annotation.genome_handler.seq_container import AnnSeqContainer\n",
    "from sequence_annotation.function.data_generator import SeqGenerator\n",
    "import random\n",
    "h5=dd.io.load('../io/Arabidopsis_thaliana/data/2018_11_27/Araport11_exon_2018_11_27_merged_with_coordinate_file_megred_exon_dist_to_five_1000_dist_to_three_500_merged.h5')\n",
    "fasta = read_fasta('../io/Arabidopsis_thaliana/data/2018_11_27/Araport11_exon_2018_11_27_merged_with_coordinate_file_megred_exon_dist_to_five_1000_dist_to_three_500_merged.fasta')\n",
    "ann_seqs = AnnSeqContainer().from_dict(h5)\n",
    "from numpy import median\n",
    "median_len = median([len(seq) for seq in ann_seqs])\n",
    "median_fasta = {}\n",
    "for seq in ann_seqs:\n",
    "    if len(seq)<= median_len:\n",
    "        median_fasta[seq.id]=fasta[seq.id]\n",
    "keys = list(median_fasta.keys())\n",
    "random.shuffle(keys)\n",
    "selected_seqs = AnnSeqContainer()\n",
    "selected_seqs.ANN_TYPES = ann_seqs.ANN_TYPES\n",
    "selected_fasta = {}\n",
    "number = 0\n",
    "for seq_id in keys:\n",
    "    selected_seqs.add(ann_seqs.get(seq_id))\n",
    "    selected_fasta[seq_id]=median_fasta[seq_id]\n",
    "    number += 1\n",
    "    if number >= int(100):\n",
    "        break"
   ]
  },
  {
   "cell_type": "code",
   "execution_count": 3,
   "metadata": {},
   "outputs": [],
   "source": [
    "from python.gated_ind_rnn_cell import noisy_relu\n",
    "from python.gated_ind_rnn_cell import noisy_hard_tanh"
   ]
  },
  {
   "cell_type": "code",
   "execution_count": 4,
   "metadata": {},
   "outputs": [],
   "source": [
    "## from sequence_annotation.function.model_processor import SimpleModel,IModelProcessor\n",
    "from sequence_annotation.pytorch.customize_layer import CNN_1D\n",
    "\n",
    "class Model(nn.Module):\n",
    "    def __init__(self):\n",
    "        super().__init__()\n",
    "        self.conv1 = CNN_1D(in_channels=4,kernel_size=32,out_channels=128)\n",
    "        self.conv2 = CNN_1D(in_channels=32,kernel_size=1,out_channels=2)\n",
    "        self.rnn = GatedIndRNN(input_size=128,hidden_size=16,bidirectional=True,input_function=noisy_hard_tanh())\n",
    "        #self.rnn2 = GatedIndRNN(input_size=64,hidden_size=16,bidirectional=True,input_function=noisy_hard_tanh())\n",
    "        #self.rnn3 = GatedIndRNN(input_size=16,hidden_size=4,bidirectional=True)\n",
    "    def forward(self, x, lengths=None):\n",
    "        num,channel,length = x.size()\n",
    "        x = self.conv1(x)\n",
    "        x = noisy_relu()(x,self.training)\n",
    "        x = torch.transpose(x, 1, 2)\n",
    "        x = self.rnn(x,lengths=lengths)[1]\n",
    "        #x = self.rnn2(x,lengths=lengths)[1]\n",
    "        #x = self.rnn3(x,lengths=lengths)[1]\n",
    "        x = torch.transpose(x, 1, 2)\n",
    "        x = self.conv2(x)\n",
    "        outputs = F.softmax(x,dim=1)\n",
    "        return outputs"
   ]
  },
  {
   "cell_type": "code",
   "execution_count": 5,
   "metadata": {},
   "outputs": [],
   "source": [
    "from sequence_annotation.pytorch.compiler import SimpleCompiler\n",
    "import torch.optim as optim\n",
    "from ignite.engine import Events, create_supervised_trainer, create_supervised_evaluator\n",
    "from torch.utils.data import DataLoader\n",
    "import torch.utils.data as Data\n",
    "from sequence_annotation.utils.utils import padding\n",
    "from torch import IntTensor"
   ]
  },
  {
   "cell_type": "code",
   "execution_count": 6,
   "metadata": {},
   "outputs": [],
   "source": [
    "class FocalLoss(nn.Module):\n",
    "    def __init__(self, class_num, gamma=0,ignore_index=None):\n",
    "        super(FocalLoss, self).__init__()\n",
    "        self.gamma = gamma\n",
    "        self._ignore_index = ignore_index\n",
    "        self._class_num = class_num\n",
    "    def forward(self, pt, target):\n",
    "        if self._ignore_index is not None:\n",
    "            mask = (target != self._ignore_index).float()\n",
    "        #alpha = []\n",
    "        #for index in range(self._class_num):\n",
    "        #    alpha.append((target==index).sum())\n",
    "        #alpha = torch.FloatTensor(alpha).cuda()\n",
    "        #at = alpha.gather(0,target.data.view(-1))\n",
    "        loss = -((1-pt)**self.gamma) * pt.log() \n",
    "        if self._ignore_index is not None:\n",
    "            loss = loss.sum(1)*mask\n",
    "            return loss.sum()/mask.sum()\n",
    "        else:\n",
    "            return loss.mean()"
   ]
  },
  {
   "cell_type": "code",
   "execution_count": 7,
   "metadata": {},
   "outputs": [],
   "source": [
    "from sequence_annotation.genome_handler.ann_genome_processor import simplify_genome,get_one_hot_genome\n",
    "\n",
    "selected_seqs = get_one_hot_genome(selected_seqs)"
   ]
  },
  {
   "cell_type": "code",
   "execution_count": 8,
   "metadata": {
    "scrolled": true
   },
   "outputs": [],
   "source": [
    "selected_seqs = simplify_genome(selected_seqs,{'gene':['exon','intron','mix'],'other':['other']})"
   ]
  },
  {
   "cell_type": "code",
   "execution_count": 9,
   "metadata": {},
   "outputs": [
    {
     "data": {
      "text/plain": [
       "'AT5G09760.1'"
      ]
     },
     "execution_count": 9,
     "metadata": {},
     "output_type": "execute_result"
    }
   ],
   "source": [
    "list(selected_fasta.keys())[0]"
   ]
  },
  {
   "cell_type": "code",
   "execution_count": 10,
   "metadata": {},
   "outputs": [],
   "source": [
    "from sequence_annotation.data_handler.seq_converter import SeqConverter"
   ]
  },
  {
   "cell_type": "code",
   "execution_count": 23,
   "metadata": {},
   "outputs": [],
   "source": [
    "from sequence_annotation.process.ann_seq_data import AnnSeqData\n",
    "from sequence_annotation.pytorch.worker import TrainWorker,fit_wrapper\n",
    "from sequence_annotation.process.pipeline import Pipeline \n",
    "from sequence_annotation.pytorch.callback import Accumulator, CategoricalMetric\n",
    "from sequence_annotation.pytorch.callback import Recorder\n",
    "from sequence_annotation.function.model_processor import SimpleModel\n",
    "loss = FocalLoss(class_num=2,ignore_index=-1,gamma=0).cuda()\n",
    "builder = SimpleModel(Model())\n",
    "compiler = SimpleCompiler(optim.Adam,loss)\n",
    "data = AnnSeqData({'data':{'training':{'inputs':selected_fasta,\n",
    "                                       'answers':selected_seqs}\n",
    "                          },'ANN_TYPES':selected_seqs.ANN_TYPES},\n",
    "                  discard_invalid_seq=True,validation_split=0.5,\n",
    "                  do_validate=False,padding_value=None,\n",
    "                  answer_one_hot=False\n",
    "                 )\n",
    "train_metric = CategoricalMetric(class_num=2,ignore_index=-1)\n",
    "val_metric = CategoricalMetric(prefix='val',class_num=2,ignore_index=-1)\n",
    "fit = fit_wrapper(20,32,train_callbacks=[train_metric],val_callbacks=[val_metric])\n",
    "worker = TrainWorker(fit,is_verbose_visible=True)\n",
    "pipeline = Pipeline(builder,data,worker,compiler,\n",
    "                    is_prompt_visible=True)"
   ]
  },
  {
   "cell_type": "code",
   "execution_count": null,
   "metadata": {},
   "outputs": [
    {
     "name": "stdout",
     "output_type": "stream",
     "text": [
      "Processing data...\n",
      "Processing model..\n",
      "Compiling model...\n",
      "Processing worker...\n",
      "Executing...\n",
      "Start working(2019-01-19 11:17:29)\n",
      "1 {'val_accuracy': 0.44496986375704956, 'val_F1_0': 0.4861208304175414, 'accuracy': 0.46854183441914943, 'loss': 0.7011986374855042, 'F1_1': 0.45291336209332556, 'val_loss': 0.6975221633911133, 'F1_0': 0.4833021973134063, 'val_F1_1': 0.3966545178755767}\n",
      "2 {'val_accuracy': 0.4456869319172852, 'val_F1_0': 0.486904420206659, 'accuracy': 0.4683222311690213, 'loss': 0.3502572476863861, 'F1_1': 0.4522539167813578, 'val_loss': 0.34838753938674927, 'F1_0': 0.48347467420484647, 'val_F1_1': 0.3972689341256796}\n"
     ]
    }
   ],
   "source": [
    "import matplotlib.pyplot as plt\n",
    "#%matplotlib notebook\n",
    "pipeline.execute()"
   ]
  },
  {
   "cell_type": "code",
   "execution_count": 14,
   "metadata": {},
   "outputs": [],
   "source": [
    "name = list(selected_fasta.keys())[0]\n",
    "seq = SeqConverter().seq2vecs(selected_fasta[name])\n",
    "seq = np.transpose(np.array([seq]),[0,2,1])\n",
    "seq = torch.from_numpy(seq).type('torch.FloatTensor').cuda()\n",
    "vecs = Model()(seq).cpu().detach().numpy()"
   ]
  },
  {
   "cell_type": "code",
   "execution_count": 18,
   "metadata": {},
   "outputs": [],
   "source": [
    "from sequence_annotation.visual.visual import visual_ann_seq\n",
    "from sequence_annotation.genome_handler import ann_seq_processor"
   ]
  },
  {
   "cell_type": "code",
   "execution_count": 19,
   "metadata": {},
   "outputs": [
    {
     "data": {
      "image/png": "[encoded data removed]",
      "text/plain": [
       "<Figure size 432x288 with 1 Axes>"
      ]
     },
     "metadata": {
      "needs_background": "light"
     },
     "output_type": "display_data"
    }
   ],
   "source": [
    "#%matplotlib notebook\n",
    "visual_ann_seq(ann_seq_processor.vecs2seq(vecs[0],name,'plus',['gene','other']))"
   ]
  },
  {
   "cell_type": "code",
   "execution_count": 20,
   "metadata": {},
   "outputs": [
    {
     "data": {
      "image/png": "[encoded data removed]",
      "text/plain": [
       "<Figure size 432x288 with 1 Axes>"
      ]
     },
     "metadata": {
      "needs_background": "light"
     },
     "output_type": "display_data"
    }
   ],
   "source": [
    "#%matplotlib notebook\n",
    "visual_ann_seq(selected_seqs.get(name))"
   ]
  },
  {
   "cell_type": "code",
   "execution_count": null,
   "metadata": {},
   "outputs": [],
   "source": [
    "X=torch.FloatTensor([\n",
    "                    [[0,1,0],[1,-1,1],[0,0,1],[0,0,0],[0,0,0]],\n",
    "                    [[0,0,10],[1,1,1],[0,0,0],[0,0,0],[0,0,0]],\n",
    "                    [[0,1,0],[0,0,0],[0,0,0],[0,0,0],[0,0,0]]\n",
    "    \n",
    "                    ]).cuda()"
   ]
  },
  {
   "cell_type": "code",
   "execution_count": null,
   "metadata": {},
   "outputs": [],
   "source": [
    "m(X,True)"
   ]
  },
  {
   "cell_type": "code",
   "execution_count": null,
   "metadata": {},
   "outputs": [],
   "source": [
    "rnn = GatedIndRNN(input_size=3,hidden_size=1,recurrent_function=F.relu,bidirectional=True)"
   ]
  },
  {
   "cell_type": "code",
   "execution_count": null,
   "metadata": {},
   "outputs": [],
   "source": [
    "rnn._rnn.training=False\n",
    "rnn._backward_rnn.training=False"
   ]
  },
  {
   "cell_type": "code",
   "execution_count": null,
   "metadata": {},
   "outputs": [],
   "source": [
    "from torch.nn.init import ones_,zeros_,uniform_\n",
    "rnn._rnn.weights_r = ones_(rnn._rnn.weights_r)\n",
    "rnn._rnn.weights_i = ones_(rnn._rnn.weights_i)\n",
    "rnn._backward_rnn.weights_r = ones_(rnn._backward_rnn.weights_r)\n",
    "rnn._backward_rnn.weights_i = ones_(rnn._backward_rnn.weights_i)"
   ]
  },
  {
   "cell_type": "code",
   "execution_count": null,
   "metadata": {},
   "outputs": [],
   "source": [
    "rnn._rnn.weights_r"
   ]
  },
  {
   "cell_type": "code",
   "execution_count": null,
   "metadata": {},
   "outputs": [],
   "source": [
    "rnn(X,[3,2,1])[0]"
   ]
  },
  {
   "cell_type": "code",
   "execution_count": null,
   "metadata": {},
   "outputs": [],
   "source": [
    "X"
   ]
  },
  {
   "cell_type": "code",
   "execution_count": null,
   "metadata": {},
   "outputs": [],
   "source": [
    "F.softmax(x,dim=1).max(0)"
   ]
  },
  {
   "cell_type": "code",
   "execution_count": null,
   "metadata": {},
   "outputs": [],
   "source": [
    "builder._model.state_dict()"
   ]
  },
  {
   "cell_type": "code",
   "execution_count": null,
   "metadata": {},
   "outputs": [],
   "source": [
    "compiler._optimizer.state_dict()"
   ]
  },
  {
   "cell_type": "code",
   "execution_count": null,
   "metadata": {},
   "outputs": [],
   "source": [
    "torch.save(builder._model.state_dict(), 'model_state_dict_great_loss_2019_01_17.pt')"
   ]
  },
  {
   "cell_type": "code",
   "execution_count": null,
   "metadata": {},
   "outputs": [],
   "source": [
    "torch.save(compiler._optimizer.state_dict(), 'optimizer_state_dict_great_loss_2019_01_17.pt')"
   ]
  },
  {
   "cell_type": "code",
   "execution_count": null,
   "metadata": {},
   "outputs": [],
   "source": []
  }
 ],
 "metadata": {
  "kernelspec": {
   "display_name": "Python 3",
   "language": "python",
   "name": "python3"
  },
  "language_info": {
   "codemirror_mode": {
    "name": "ipython",
    "version": 3
   },
   "file_extension": ".py",
   "mimetype": "text/x-python",
   "name": "python",
   "nbconvert_exporter": "python",
   "pygments_lexer": "ipython3",
   "version": "3.5.2"
  }
 },
 "nbformat": 4,
 "nbformat_minor": 2
}
