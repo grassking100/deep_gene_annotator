{
 "cells": [
  {
   "cell_type": "code",
   "execution_count": null,
   "metadata": {},
   "outputs": [],
   "source": []
  },
  {
   "cell_type": "code",
   "execution_count": null,
   "metadata": {},
   "outputs": [],
   "source": [
    "import numpy as np\n",
    "seq = SeqConverter().seq2vecs(o_f)\n",
    "import keras\n",
    "seq = keras.preprocessing.sequence.pad_sequences([seq[:1200]],maxlen=6000,padding='post',value=-1)\n",
    "o_s_ = ann_seq_processor.seq2vecs(o_s)\n",
    "ann = keras.preprocessing.sequence.pad_sequences([o_s_[:1200]],maxlen=6000,padding='post',value=-1)\n",
    "predict = model(torch.Tensor(seq).transpose(1,2).cuda(),[6000])\n",
    "predict = coding_inference(predict,torch.Tensor(ann).transpose(1,2))\n",
    "predict = vecs2seq(predict[0].detach().cpu().numpy(),\"temp\",'plus',['exon','intron','other'],1500)\n",
    "visual_ann_seq(predict)\n",
    "#trials = Trials()\n",
    "#trainer = ASModelSpaceFinder(facade,'../io/record/arabidopsis_2019_03_17')\n",
    "#trainer.eval_target = 'val_loss'\n",
    "#trainer.target_max = False\n",
    "#best = fmin(trainer.objective, space, algo=tpe.suggest, max_evals=16,trials=trials)"
   ]
  },
  {
   "cell_type": "code",
   "execution_count": null,
   "metadata": {},
   "outputs": [],
   "source": []
  }
 ],
 "metadata": {
  "kernelspec": {
   "display_name": "Python 3",
   "language": "python",
   "name": "python3"
  },
  "language_info": {
   "codemirror_mode": {
    "name": "ipython",
    "version": 3
   },
   "file_extension": ".py",
   "mimetype": "text/x-python",
   "name": "python",
   "nbconvert_exporter": "python",
   "pygments_lexer": "ipython3",
   "version": "3.5.2"
  }
 },
 "nbformat": 4,
 "nbformat_minor": 2
}
