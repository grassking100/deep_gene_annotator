{
 "cells": [
  {
   "cell_type": "code",
   "execution_count": 1,
   "metadata": {
    "collapsed": true
   },
   "outputs": [],
   "source": [
    "def code2vec(code):\n",
    "    target=['A','T','C','G']\n",
    "    a=[1,0,0,0]\n",
    "    t=[0,1,0,0]\n",
    "    c=[0,0,1,0]\n",
    "    g=[0,0,0,1]\n",
    "    vec=[a,t,c,g]\n",
    "    '''\n",
    "    A=1000\n",
    "    T=0100\n",
    "    C=0010\n",
    "    G=0001\n",
    "    '''\n",
    "    for i in range(len(target)):\n",
    "        if code.upper()==target[i]:\n",
    "            return vec[i]\n",
    "    assert False,(str)(code)+' is not in space'\n",
    "    return None\n",
    "def vec2code(vector):\n",
    "    a=[1,0,0,0]\n",
    "    t=[0,1,0,0]\n",
    "    c=[0,0,1,0]\n",
    "    g=[0,0,0,1]\n",
    "    target=[a,t,c,g]\n",
    "    code=['A','T','C','G']\n",
    "    for i in range(len(target)):\n",
    "        if vector==target[i]:\n",
    "            return code[i]\n",
    "    assert False,(str)(vector)+' is not in space'\n",
    "    return None\n",
    "def codes2vec(code):\n",
    "    codes=list(code)\n",
    "    arr=[]\n",
    "    for c in code:\n",
    "        arr.append(code2vec(c))\n",
    "    return arr\n",
    "def vec2codes(vector):\n",
    "    vectors=list(vector)\n",
    "    arr=[]\n",
    "    for v in vectors:\n",
    "        arr.append(vec2code(v))\n",
    "    return arr"
   ]
  },
  {
   "cell_type": "code",
   "execution_count": 2,
   "metadata": {},
   "outputs": [
    {
     "data": {
      "text/plain": [
       "[0, 0, 0, 1]"
      ]
     },
     "execution_count": 2,
     "metadata": {},
     "output_type": "execute_result"
    }
   ],
   "source": []
  },
  {
   "cell_type": "code",
   "execution_count": null,
   "metadata": {
    "collapsed": true
   },
   "outputs": [],
   "source": []
  }
 ],
 "metadata": {
  "kernelspec": {
   "display_name": "Python 3",
   "language": "python",
   "name": "python3"
  },
  "language_info": {
   "codemirror_mode": {
    "name": "ipython",
    "version": 3
   },
   "file_extension": ".py",
   "mimetype": "text/x-python",
   "name": "python",
   "nbconvert_exporter": "python",
   "pygments_lexer": "ipython3",
   "version": "3.4.3"
  }
 },
 "nbformat": 4,
 "nbformat_minor": 2
}
