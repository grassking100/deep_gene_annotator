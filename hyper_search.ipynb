{
 "cells": [
  {
   "cell_type": "code",
   "execution_count": 1,
   "metadata": {},
   "outputs": [
    {
     "name": "stderr",
     "output_type": "stream",
     "text": [
      "Using TensorFlow backend.\n"
     ]
    }
   ],
   "source": [
    "import os\n",
    "os.environ[\"CUDA_VISIBLE_DEVICES\"]=\"1\"\n",
    "import time\n",
    "import deepdish as dd\n",
    "from sequence_annotation.genome_handler.seq_container import AnnSeqContainer\n",
    "from sequence_annotation.data_handler.fasta import read_fasta\n",
    "h5=dd.io.load('../io/Arabidopsis_thaliana/data/2019_02_20/result/result_dist_to_five_1000_dist_to_three_1000_merged.h5')\n",
    "fasta = read_fasta('../io/Arabidopsis_thaliana/data/2019_02_20/result/result_dist_to_five_1000_dist_to_three_1000_merged.fasta')\n",
    "ann_seqs = AnnSeqContainer().from_dict(h5)"
   ]
  },
  {
   "cell_type": "code",
   "execution_count": 14,
   "metadata": {},
   "outputs": [],
   "source": [
    "from hyperopt import fmin, tpe, hp, STATUS_OK, Trials\n",
    "space={\n",
    "    'cnn_kernel_size':64,\n",
    "    'cnn_num':8,\n",
    "    'rnn_num':2,\n",
    "    'cnn_output':32,\n",
    "    'rnn_output':2,\n",
    "    'PWM':False#hp.choice('PWM',[True,False])\n",
    "}"
   ]
  },
  {
   "cell_type": "code",
   "execution_count": 3,
   "metadata": {},
   "outputs": [],
   "source": [
    "from sequence_annotation.genome_handler.utils import loader\n",
    "from sequence_annotation.pytorch.space_finder import ASModelSpaceFinder"
   ]
  },
  {
   "cell_type": "code",
   "execution_count": 4,
   "metadata": {},
   "outputs": [
    {
     "data": {
      "text/plain": [
       "2865"
      ]
     },
     "execution_count": 4,
     "metadata": {},
     "output_type": "execute_result"
    }
   ],
   "source": [
    "len(ann_seqs)"
   ]
  },
  {
   "cell_type": "code",
   "execution_count": 5,
   "metadata": {},
   "outputs": [
    {
     "name": "stderr",
     "output_type": "stream",
     "text": [
      "/home/sequence_annotation/sequence_annotation/genome_handler/ann_seq_processor.py:218: RuntimeWarning: invalid value encountered in true_divide\n",
      "  vecs.append(np.nan_to_num(temp/temp))\n"
     ]
    }
   ],
   "source": [
    "simplify_map={'exon':['exon'],'intron':['intron','mix'],'other':['other']}\n",
    "selected_fasta,selected_seqs,o_f,o_s = loader(fasta,ann_seqs,simplify_map=simplify_map,ratio=1,\n",
    "                                          min_len=4000,max_len=6000,num_max=int(len(ann_seqs)/10))"
   ]
  },
  {
   "cell_type": "code",
   "execution_count": 6,
   "metadata": {},
   "outputs": [
    {
     "data": {
      "text/plain": [
       "(array([6., 3., 2., 3., 3., 2., 3., 3., 1., 2.]),\n",
       " array([4091. , 4262.5, 4434. , 4605.5, 4777. , 4948.5, 5120. , 5291.5,\n",
       "        5463. , 5634.5, 5806. ]),\n",
       " <a list of 10 Patch objects>)"
      ]
     },
     "execution_count": 6,
     "metadata": {},
     "output_type": "execute_result"
    },
    {
     "data": {
      "image/png": "[encoded data removed]",
      "text/plain": [
       "<Figure size 432x288 with 1 Axes>"
      ]
     },
     "metadata": {
      "needs_background": "light"
     },
     "output_type": "display_data"
    }
   ],
   "source": [
    "seqs_len = [len(seq) for seq in selected_seqs]\n",
    "from matplotlib import pyplot\n",
    "pyplot.hist(seqs_len)"
   ]
  },
  {
   "cell_type": "code",
   "execution_count": 7,
   "metadata": {},
   "outputs": [
    {
     "data": {
      "text/plain": [
       "28"
      ]
     },
     "execution_count": 7,
     "metadata": {},
     "output_type": "execute_result"
    }
   ],
   "source": [
    "len(selected_fasta)"
   ]
  },
  {
   "cell_type": "code",
   "execution_count": null,
   "metadata": {},
   "outputs": [
    {
     "name": "stdout",
     "output_type": "stream",
     "text": [
      "20 {'other': 41713.0, 'exon': 42469.0, 'intron': 13147.0}\n",
      "6 {'other': 12000.0, 'exon': 10436.0, 'intron': 6334.0}\n",
      "2 {'other': 4000.0, 'exon': 4305.0, 'intron': 99.0}\n",
      "1 {'rnn_num': 2, 'cnn_output': 32, 'PWM': False, 'rnn_output': 2, 'cnn_num': 8, 'cnn_kernel_size': 64}\n",
      "Processing data...\n",
      "Processing model..\n",
      "Compiling model...\n",
      "Processing worker...\n",
      "Executing...\n",
      "Start working(2019-03-14 10:02:26)\n",
      "CNN time 0\n",
      "RNN time 15\n",
      "CRF decode time 8\n",
      "CRF forward time 5.1128504276275635\n",
      "CNN time 0\n",
      "RNN time 2\n",
      "CRF decode time 4\n",
      "CRF forward time 4.342848062515259\n",
      "Shuffle data\n",
      "Shuffle data\n",
      "CNN time 0\n",
      "RNN time 4\n",
      "CRF decode time 6\n",
      "[[ 0.001 -0.001 -0.001]\n",
      " [-0.001 -0.001 -0.001]\n",
      " [-0.001 -0.001  0.001]]\n",
      "1 240.73061299324036 {'val_F1_intron': 0.0, 'val_F1_other': 0.31031559728742825, 'val_loss': 22950.890625, 'loss': 8582.3271484375, 'F1_exon': 0.4578988934538969, 'F1_other': 0.030744688565006163, 'val_macro_F1': 0.17003725771179035, 'val_F1_exon': 0.18605614834766393, 'macro_F1': 0.4260735937631557, 'val_accuracy': 0.23281005824691006, 'F1_intron': 0.3013975155279503, 'accuracy': 0.3348105404087055}\n",
      "CNN time 0\n",
      "RNN time 12\n",
      "CRF decode time 8\n",
      "CRF forward time 5.296552658081055\n",
      "CNN time 0\n",
      "RNN time 2\n",
      "CRF decode time 5\n",
      "CRF forward time 4.343176603317261\n",
      "Shuffle data\n",
      "Shuffle data\n",
      "CNN time 0\n",
      "RNN time 4\n",
      "CRF decode time 6\n",
      "[[ 0.0013233  -0.00168643 -0.0019529 ]\n",
      " [-0.00168588 -0.00037039 -0.00167465]\n",
      " [-0.00195299 -0.00167483  0.00197439]]\n",
      "2 163.71652150154114 {'val_F1_intron': 0.0, 'val_F1_other': 0.48591094859109485, 'val_loss': 5297.76953125, 'loss': 18350.515625, 'F1_exon': 0.13220482206866474, 'F1_other': 0.28609635740384975, 'val_macro_F1': 0.16197031619703162, 'val_F1_exon': 0.0, 'macro_F1': 0.14418949270808232, 'val_accuracy': 0.3209262679357863, 'F1_intron': 0.0, 'accuracy': 0.20798522101024358}\n",
      "CNN time 0\n",
      "RNN time 12\n",
      "CRF decode time 8\n",
      "CRF forward time 5.297429800033569\n",
      "CNN time 0\n",
      "RNN time 2\n",
      "CRF decode time 5\n",
      "CRF forward time 4.337211847305298\n",
      "Shuffle data\n",
      "Shuffle data\n",
      "CNN time 0\n",
      "RNN time 4\n",
      "CRF decode time 6\n",
      "[[ 0.00189426 -0.00243627 -0.00292261]\n",
      " [-0.00243556  0.0002338  -0.0024466 ]\n",
      " [-0.00292279 -0.00244692  0.00294783]]\n",
      "3 154.42613673210144 {'val_F1_intron': 0.0, 'val_F1_other': 0.5207134788662096, 'val_loss': 5291.984375, 'loss': 5422.42041015625, 'F1_exon': 0.0005336617405582923, 'F1_other': 0.5199978492806612, 'val_macro_F1': 0.17357115962206987, 'val_F1_exon': 0.0, 'macro_F1': 0.1740061561206854, 'val_accuracy': 0.3520031254439551, 'F1_intron': 0.0, 'accuracy': 0.3514369038846741}\n",
      "CNN time 0\n",
      "RNN time 11\n",
      "CRF decode time 8\n",
      "CRF forward time 5.154741048812866\n",
      "CNN time 0\n",
      "RNN time 2\n",
      "CRF decode time 5\n",
      "CRF forward time 4.3550591468811035\n",
      "Shuffle data\n",
      "Shuffle data\n",
      "CNN time 0\n",
      "RNN time 5\n",
      "CRF decode time 6\n"
     ]
    }
   ],
   "source": [
    "trials = Trials()\n",
    "trainer = ASModelSpaceFinder(selected_fasta,selected_seqs,'../io/record/arabidopsis_2019_03_13',\n",
    "                             outlier_fasta=o_f,outlier_seq=o_s,\n",
    "                             batch_size=32,lr=1e-3)\n",
    "best = fmin(trainer.objective, space, algo=tpe.suggest, max_evals=32,trials=trials)"
   ]
  },
  {
   "cell_type": "code",
   "execution_count": null,
   "metadata": {},
   "outputs": [],
   "source": [
    "import deepdish as dd\n",
    "dd.io.save(trainer.root+'/records.h5',trainer.records)\n",
    "dd.io.save(trainer.root+'/space_result.h5',trainer.space_result)"
   ]
  },
  {
   "cell_type": "code",
   "execution_count": null,
   "metadata": {},
   "outputs": [],
   "source": [
    "import torch\n",
    "torch.cuda.current_device()"
   ]
  },
  {
   "cell_type": "code",
   "execution_count": null,
   "metadata": {},
   "outputs": [],
   "source": [
    "torch.Tensor().to([0,1,2])"
   ]
  },
  {
   "cell_type": "code",
   "execution_count": null,
   "metadata": {},
   "outputs": [],
   "source": []
  }
 ],
 "metadata": {
  "kernelspec": {
   "display_name": "Python 3",
   "language": "python",
   "name": "python3"
  },
  "language_info": {
   "codemirror_mode": {
    "name": "ipython",
    "version": 3
   },
   "file_extension": ".py",
   "mimetype": "text/x-python",
   "name": "python",
   "nbconvert_exporter": "python",
   "pygments_lexer": "ipython3",
   "version": "3.5.2"
  }
 },
 "nbformat": 4,
 "nbformat_minor": 2
}
