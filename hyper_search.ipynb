{
 "cells": [
  {
   "cell_type": "code",
   "execution_count": 1,
   "metadata": {},
   "outputs": [
    {
     "name": "stderr",
     "output_type": "stream",
     "text": [
      "Using TensorFlow backend.\n"
     ]
    }
   ],
   "source": [
    "import os\n",
    "os.environ[\"CUDA_VISIBLE_DEVICES\"]=\"0\"\n",
    "import time\n",
    "import deepdish as dd\n",
    "from sequence_annotation.genome_handler.seq_container import AnnSeqContainer\n",
    "from sequence_annotation.data_handler.fasta import read_fasta\n",
    "from sequence_annotation.genome_handler.utils import loader\n",
    "from sequence_annotation.pytorch.AS_space_finder import ASModelSpaceFinder\n",
    "from sequence_annotation.pytorch.AS_model_facade import ASModelFacade\n",
    "from hyperopt import fmin, tpe, hp, STATUS_OK, Trials\n",
    "import torch\n",
    "torch.backends.cudnn.benchmark = True"
   ]
  },
  {
   "cell_type": "code",
   "execution_count": 3,
   "metadata": {},
   "outputs": [],
   "source": [
    "h5=dd.io.load('../io/Arabidopsis_thaliana/data/2019_02_20/result/result_dist_to_five_1000_dist_to_three_1000_merged.h5')\n",
    "fasta = read_fasta('../io/Arabidopsis_thaliana/data/2019_02_20/result/result_dist_to_five_1000_dist_to_three_1000_merged.fasta')\n",
    "ann_seqs = AnnSeqContainer().from_dict(h5)"
   ]
  },
  {
   "cell_type": "code",
   "execution_count": 4,
   "metadata": {},
   "outputs": [
    {
     "name": "stderr",
     "output_type": "stream",
     "text": [
      "/home/sequence_annotation/sequence_annotation/genome_handler/ann_seq_processor.py:218: RuntimeWarning: invalid value encountered in true_divide\n",
      "  vecs.append(np.nan_to_num(temp/temp))\n"
     ]
    }
   ],
   "source": [
    "simplify_map={'exon':['exon'],'intron':['intron','mix'],'other':['other']}\n",
    "selected_fasta,selected_seqs,o_f,o_s = loader(fasta,ann_seqs,simplify_map=simplify_map,ratio=1,\n",
    "                                          min_len=0,max_len=4000,num_max=int(len(ann_seqs)/100),\n",
    "                                             outlier_coef=1.2)"
   ]
  },
  {
   "cell_type": "code",
   "execution_count": 40,
   "metadata": {},
   "outputs": [
    {
     "name": "stdout",
     "output_type": "stream",
     "text": [
      "20 {'exon': 18041.0, 'intron': 4961.0, 'other': 40000.0}\n",
      "6 {'exon': 5972.0, 'intron': 2596.0, 'other': 12000.0}\n",
      "2 {'exon': 1272.0, 'intron': 1242.0, 'other': 4000.0}\n"
     ]
    }
   ],
   "source": [
    "trials = Trials()\n",
    "facade = ASModelFacade(selected_fasta,selected_seqs,'../io/record/arabidopsis_2019_03_17',\n",
    "                       ratio=[0.7,0.2,0.1],outlier_fasta=o_f,outlier_seq=o_s)\n",
    "\n",
    "facade.patient=4\n",
    "facade.batch_size=16\n",
    "facade.epoch_num=100\n",
    "facade.affect_length_max = 10000\n",
    "facade.early_stop_target = 'val_loss'\n",
    "facade.target_max = False"
   ]
  },
  {
   "cell_type": "code",
   "execution_count": 97,
   "metadata": {},
   "outputs": [],
   "source": [
    "facade.lr=1e-2"
   ]
  },
  {
   "cell_type": "code",
   "execution_count": 102,
   "metadata": {},
   "outputs": [],
   "source": [
    "import torch.nn as nn\n",
    "import torch.nn.functional as F\n",
    "import torch\n",
    "from torch.nn.init import ones_,zeros_,uniform_,normal_,constant_,eye_\n",
    "from torch.nn import Hardtanh, Sigmoid,Tanh\n",
    "from torch import randn\n",
    "import numpy as np\n",
    "from sequence_annotation.pytorch.customize_layer import noisy_hard_sigmoid,noisy_hard_tanh,noisy_relu,SeqAnnModel\n",
    "\n",
    "def init_uniform_by_size(param):\n",
    "    bound = (1/(param.shape[1]**0.5))\n",
    "    return uniform_(param,-bound,bound)\n",
    "\n",
    "class GatedIndRnnCell(nn.Module):\n",
    "    def __init__(self, input_size, hidden_size):\n",
    "        super().__init__()\n",
    "        self._gate_num = 1\n",
    "        self.input_size = input_size\n",
    "        self.hidden_size = hidden_size\n",
    "        self.weights_i = nn.Parameter(torch.empty((hidden_size,input_size)))\n",
    "        self.weights_s = nn.Parameter(torch.empty((hidden_size,hidden_size)))\n",
    "        self.gate_i_bias = nn.Parameter(torch.empty(hidden_size))\n",
    "        self.gate_f_bias = nn.Parameter(torch.empty(hidden_size))\n",
    "        self.input_bias = nn.Parameter(torch.empty(hidden_size))\n",
    "        self.pre_state_bias = nn.Parameter(torch.empty(hidden_size))\n",
    "        self.gate_function =  noisy_hard_sigmoid(c=0.05)\n",
    "        self.recurrent_function = noisy_relu(c=1)\n",
    "        self.gate_i_weights = nn.Parameter(torch.empty(hidden_size,hidden_size+hidden_size))\n",
    "        self.gate_f_weights = nn.Parameter(torch.empty((hidden_size,hidden_size+hidden_size)))\n",
    "        self.ln = nn.LayerNorm(hidden_size)\n",
    "        self.output_names = ['new_h','pre_gate_f','gate_f','values_i','pre_h']\n",
    "        self.reset_parameters()\n",
    "\n",
    "    def reset_parameters(self):\n",
    "        init_uniform_by_size(self.gate_f_weights)\n",
    "        init_uniform_by_size(self.gate_i_weights)\n",
    "        init_uniform_by_size(self.weights_i)\n",
    "        init_uniform_by_size(self.weights_s)\n",
    "        constant_(self.gate_i_bias,1)\n",
    "        constant_(self.gate_f_bias,1)\n",
    "        constant_(self.input_bias,0)\n",
    "        constant_(self.pre_state_bias,0)\n",
    "    def forward(self, input, state):\n",
    "        values_i = F.linear(input, self.weights_i,self.input_bias)\n",
    "        #values_state = F.linear(, self.weights_s,self.pre_state_bias).tanh()\n",
    "        cat = torch.cat([self.ln(state),values_i],1)\n",
    "        pre_gate_i = F.linear(cat, self.gate_i_weights,self.gate_i_bias)\n",
    "        pre_gate_f = F.linear(cat, self.gate_f_weights,self.gate_f_bias)\n",
    "        gate_f = self.gate_function(pre_gate_f,training=self.training)\n",
    "        gate_i = self.gate_function(pre_gate_i,training=self.training)\n",
    "        pre_h = state*gate_f+ (values_i)*gate_i\n",
    "        new_h = self.recurrent_function(pre_h,self.training)\n",
    "        return new_h,pre_gate_f,gate_f,values_i,pre_h"
   ]
  },
  {
   "cell_type": "code",
   "execution_count": 103,
   "metadata": {},
   "outputs": [],
   "source": [
    "space={\n",
    "    'cnns_setting':{\n",
    "        'kernel_size':60,\n",
    "        \"ln_mode\":\"before_cnn\",\n",
    "        'layer_num':0,\n",
    "        'out_channels':16,\n",
    "        'with_pwm':False\n",
    "    },\n",
    "    'rnns_setting':{\n",
    "        'layer_num':2,\n",
    "        'hidden_sizes':4,\n",
    "        'tanh_after_rnn':True,\n",
    "        'rnn_cell_class':GatedIndRnnCell,\n",
    "        'init_value':0,\n",
    "        'cnn_before_rnn':False\n",
    "    },\n",
    "    'pwm_before_rnns':False,\n",
    "    'last_kenel_size':2\n",
    "}"
   ]
  },
  {
   "cell_type": "code",
   "execution_count": null,
   "metadata": {},
   "outputs": [
    {
     "name": "stdout",
     "output_type": "stream",
     "text": [
      "Processing data...\n",
      "Processing model..\n",
      "Compiling model...\n",
      "Processing worker...\n",
      "Executing...\n",
      "Start working(2019-03-19 10:16:23)\n"
     ]
    }
   ],
   "source": [
    "for key,val in space.items():\n",
    "    if key == 'kernel_size':\n",
    "        space[key]=int(val)\n",
    "cnn_num = space['cnns_setting']['layer_num']\n",
    "cnn_kernel_size = space['cnns_setting']['kernel_size']\n",
    "rnn_num = space['rnns_setting']['layer_num']\n",
    "space['rnns_setting']['hidden_sizes']=[space['rnns_setting']['hidden_sizes']]*rnn_num\n",
    "space['cnns_setting']['out_channels']=[space['cnns_setting']['out_channels']]*cnn_num\n",
    "space['cnns_setting']['kernel_sizes']=[cnn_kernel_size]*cnn_num\n",
    "model = SeqAnnModel(in_channels=4,out_channels=len(facade.ann_types),init_value=1,**space).cuda()\n",
    "train_record = facade.train(\"model_gate_fi_post_relu_with_tanh_only_input\",model)"
   ]
  },
  {
   "cell_type": "code",
   "execution_count": 23,
   "metadata": {},
   "outputs": [],
   "source": [
    "#trainer = ASModelSpaceFinder(facade,'../io/record/arabidopsis_2019_03_17')\n",
    "#trainer.eval_target = 'val_loss'\n",
    "#trainer.target_max = False\n",
    "#best = fmin(trainer.objective, space, algo=tpe.suggest, max_evals=16,trials=trials)"
   ]
  },
  {
   "cell_type": "code",
   "execution_count": 29,
   "metadata": {},
   "outputs": [],
   "source": [
    "import deepdish as dd\n",
    "dd.io.save(trainer.root+'/records.h5',trainer.records)\n",
    "dd.io.save(trainer.root+'/space_result.h5',trainer.space_result)"
   ]
  }
 ],
 "metadata": {
  "kernelspec": {
   "display_name": "Python 3",
   "language": "python",
   "name": "python3"
  },
  "language_info": {
   "codemirror_mode": {
    "name": "ipython",
    "version": 3
   },
   "file_extension": ".py",
   "mimetype": "text/x-python",
   "name": "python",
   "nbconvert_exporter": "python",
   "pygments_lexer": "ipython3",
   "version": "3.5.2"
  }
 },
 "nbformat": 4,
 "nbformat_minor": 2
}
