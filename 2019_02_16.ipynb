{
 "cells": [
  {
   "cell_type": "code",
   "execution_count": 1,
   "metadata": {},
   "outputs": [
    {
     "name": "stderr",
     "output_type": "stream",
     "text": [
      "Using TensorFlow backend.\n"
     ]
    }
   ],
   "source": [
    "import os\n",
    "os.environ[\"CUDA_DEVICE_ORDER\"]=\"PCI_BUS_ID\"\n",
    "os.environ[\"CUDA_VISIBLE_DEVICES\"]=\"0\"\n",
    "import sys\n",
    "from os.path import abspath, expanduser\n",
    "sys.path.append(abspath(expanduser(\"../RNN\")))\n",
    "sys.path.append(abspath(expanduser(\"../sequence_annotation\")))\n",
    "import torch\n",
    "import time\n",
    "import numpy as np\n",
    "from sequence_annotation.visual.visual import visual_ann_seq,visual_ann_genome\n",
    "from sequence_annotation.genome_handler import ann_seq_processor\n",
    "import deepdish as dd\n",
    "from sequence_annotation.data_handler.fasta import read_fasta\n",
    "from sequence_annotation.genome_handler.sequence import AnnSequence\n",
    "from sequence_annotation.genome_handler.seq_container import AnnSeqContainer\n",
    "from sequence_annotation.function.data_generator import SeqGenerator\n",
    "import random\n",
    "import torch.nn.functional as F\n",
    "from numpy import median\n",
    "from sequence_annotation.genome_handler.ann_genome_processor import simplify_genome,get_genome_region_info\n",
    "from sequence_annotation.data_handler.seq_converter import SeqConverter\n",
    "from sequence_annotation.pytorch.customize_layer import Concat,PWM#,GatedIndRnnCell\n",
    "from rnn import RNN"
   ]
  },
  {
   "cell_type": "code",
   "execution_count": 231,
   "metadata": {},
   "outputs": [
    {
     "name": "stdout",
     "output_type": "stream",
     "text": [
      "32\n"
     ]
    }
   ],
   "source": [
    "h5=dd.io.load('../io/Arabidopsis_thaliana/data/2018_11_27/Araport11_exon_2018_11_27_merged_with_coordinate_file_megred_exon_dist_to_five_1000_dist_to_three_500_merged.h5')\n",
    "fasta = read_fasta('../io/Arabidopsis_thaliana/data/2018_11_27/Araport11_exon_2018_11_27_merged_with_coordinate_file_megred_exon_dist_to_five_1000_dist_to_three_500_merged.fasta')\n",
    "ann_seqs = AnnSeqContainer().from_dict(h5)\n",
    "seqs_len = [len(seq) for seq in ann_seqs]\n",
    "seqs_len.sort()\n",
    "len_threshold = seqs_len[:int(len(seqs_len)/100)][-1]\n",
    "inner_fasta = {}\n",
    "for seq in ann_seqs:\n",
    "    if len(seq) <= len_threshold:\n",
    "        inner_fasta[seq.id]=fasta[seq.id]\n",
    "    elif len(seq) >= len_threshold*3:\n",
    "        outlier_name = seq.id\n",
    "keys = list(inner_fasta.keys())\n",
    "random.shuffle(keys)\n",
    "selected_seqs = AnnSeqContainer()\n",
    "selected_seqs.ANN_TYPES = ann_seqs.ANN_TYPES\n",
    "selected_fasta = {}\n",
    "number = 0\n",
    "for seq_id in keys:\n",
    "    selected_seqs.add(ann_seqs.get(seq_id))\n",
    "    selected_fasta[seq_id]=inner_fasta[seq_id]\n",
    "    number += 1\n",
    "selected_seqs = simplify_genome(selected_seqs,{'gene':['exon','intron','mix'],'other':['other']})\n",
    "print(number)"
   ]
  },
  {
   "cell_type": "code",
   "execution_count": 3,
   "metadata": {},
   "outputs": [],
   "source": [
    "import math\n",
    "import torch\n",
    "from torch.nn import functional as F\n",
    "from torch.nn.init import ones_,zeros_,uniform_,normal_,constant_,eye_\n",
    "from sequence_annotation.pytorch.customize_layer import noisy_hard_tanh,noisy_hard_sigmoid,noisy_relu\n",
    "from torch.nn import Hardtanh,Tanh\n",
    "\n",
    "cell_func = lambda input_size,hidden_size: GatedIndRnnCell(input_size=input_size,hidden_size=hidden_size)"
   ]
  },
  {
   "cell_type": "code",
   "execution_count": 221,
   "metadata": {},
   "outputs": [],
   "source": [
    "#from sequence_annotation.pytorch.customize_layer import init_GRU\n",
    "#from torch.nn import Hardtanh, Sigmoid\n",
    "class Model(nn.Module):\n",
    "    def __init__(self,out_num,in_num=4,cnn_num=8,rnn_num=2,cnn_out_num=16,rnn_out_num=4):\n",
    "        super().__init__()\n",
    "        self.cnns = []\n",
    "        self.softmax_cnns = []\n",
    "        self.rnns = []\n",
    "        self.cnn_bns = []\n",
    "        self.rnn_bns = []\n",
    "        self.in_num=in_num\n",
    "        self.out_num = out_num\n",
    "        self.cnn_out_num=cnn_out_num\n",
    "        self.rnn_out_num=rnn_out_num\n",
    "        self.cnn_num=cnn_num\n",
    "        self.rnn_num=rnn_num\n",
    "        self._build_layers()\n",
    "    def _build_layers(self):\n",
    "        in_num = self.in_num\n",
    "        for index in range(1,1+self.cnn_num):\n",
    "            self.softmax_cnns.append(nn.Conv1d(in_channels=in_num,kernel_size=32,\n",
    "                                               out_channels=self.cnn_out_num).cuda())\n",
    "            self.cnns.append(nn.Conv1d(in_channels=in_num,kernel_size=32,\n",
    "                                       out_channels=self.cnn_out_num).cuda())\n",
    "            self.cnn_bns.append(nn.LayerNorm(self.cnn_out_num).cuda())\n",
    "            in_num += self.cnn_out_num\n",
    "        self.last_cnn_bn = nn.LayerNorm(in_num).cuda()\n",
    "        #self.linear = IndLinear(in_num).cuda()\n",
    "        for index in range(self.rnn_num):\n",
    "            rnn = RNN([cell_func(in_num,self.rnn_out_num),cell_func(in_num,self.rnn_out_num)],\n",
    "                       bidirectional=True).cuda()\n",
    "            self.rnn_bns.append(nn.LayerNorm(in_num).cuda())\n",
    "            self.rnns.append(rnn)\n",
    "            in_num += (self.rnn_out_num*2)\n",
    "        if self.rnn_num>0:\n",
    "            in_num = (self.rnn_out_num*2*self.rnn_num)\n",
    "        self.last_bn = nn.LayerNorm(in_num).cuda()\n",
    "        self.last = nn.Conv1d(in_channels=in_num,kernel_size=1,out_channels=self.out_num).cuda()\n",
    "        for index,cnn_bn in enumerate(self.cnn_bns):\n",
    "            setattr(self, 'cnn_bn_'+str(index), cnn_bn)\n",
    "        for index,rnn_bn in enumerate(self.rnn_bns):\n",
    "            setattr(self, 'rnn_bn_'+str(index), rnn_bn)\n",
    "        for index,cnn in enumerate(self.cnns):\n",
    "            setattr(self, 'cnn_'+str(index), cnn)\n",
    "        for index,rnn in enumerate(self.rnns):\n",
    "            setattr(self, 'rnn_'+str(index), rnn)\n",
    "        self.reset_parameters()\n",
    "    def reset_parameters(self):\n",
    "        for layer in self.children():\n",
    "            layer.reset_parameters()\n",
    "        for cnn in self.cnns:\n",
    "            normal_(cnn.weight)\n",
    "            #torch.nn.init.xavier_uniform_(cnn.weight, gain=nn.init.calculate_gain('relu'))\n",
    "            constant_(cnn.bias,0)\n",
    "        for rnn in self.rnns:\n",
    "            if isinstance(rnn,nn.GRU):\n",
    "                init_GRU(rnn)\n",
    "        normal_(self.last.weight)\n",
    "        #torch.nn.init.xavier_uniform_(self.last.weight, gain=nn.init.calculate_gain('linear'))\n",
    "        constant_(self.last.bias,0)\n",
    "    def forward(self, x, lengths=None,return_values=False):\n",
    "        #X shape : N,C,L\n",
    "        figrue_output = {}\n",
    "        distribution_output = {}\n",
    "        input_ = x\n",
    "        index=0\n",
    "        for cnn,bn in zip(self.cnns,self.cnn_bns):\n",
    "            index+=1\n",
    "            cnn_x = cnn(x)\n",
    "            post_act_x = noisy_relu()(cnn_x,self.training)\n",
    "            post_act_x = bn(post_act_x.transpose(1, 2)).transpose(1, 2)\n",
    "            post_act_x = PWM()(post_act_x)\n",
    "            x,lengths = Concat(dim=1)([x,post_act_x],lengths)\n",
    "            figrue_output['x_'+str(index)+'_figure'] = x\n",
    "            figrue_output['cnn_x_'+str(index)+'_figure'] = cnn_x\n",
    "            figrue_output['post_act_x_'+str(index)+'_figure'] = post_act_x\n",
    "        x = self.last_cnn_bn(x.transpose(1, 2)).transpose(1, 2)\n",
    "        x = PWM()(x)\n",
    "        distribution_output['cnn_result'] = x\n",
    "        figrue_output['cnn_result_figure'] = x\n",
    "        x = x.transpose(1, 2)\n",
    "        all_rnns = []\n",
    "        gate_i_list = []\n",
    "        new_h_list = []\n",
    "        for index in range(len(self.rnns)):\n",
    "            rnn = self.rnns[index]\n",
    "            rnn_bn = self.rnn_bns[index]\n",
    "            #x= rnn_bn(x)\n",
    "            rnn_outputs = rnn(packed_x)\n",
    "            gate_i_list.append(rnn_outputs[rnn.output_names.index('gate_i')].transpose(1, 2))\n",
    "            new_h_list.append(rnn_outputs[rnn.output_names.index('new_h')].transpose(1, 2))\n",
    "            rnn_x = rnn_outputs[0]\n",
    "            #rnn_x -= 0.5\n",
    "            all_rnns.append(rnn_x)\n",
    "            #rnn_x = rnn_bn(rnn_x)\n",
    "            #n_x = PWM()(n_x.transpose(1, 2)).transpose(1, 2)\n",
    "            if (1+index)==len(self.rnns):\n",
    "                x = rnn_x\n",
    "            else:\n",
    "                x = torch.cat([x,rnn_x],2)\n",
    "            if isinstance(rnn,RNN):\n",
    "                for name,rnn_output in zip(rnn.output_names,rnn_outputs):\n",
    "                    if isinstance(rnn_output,PackedSequence):\n",
    "                        rnn_output,_ = pad_packed_sequence(rnn_output, batch_first=True)\n",
    "                    values = rnn_output.transpose(1,2)\n",
    "                    distribution_output[\"rnn_\"+str(index)+\"_\"+name] = values\n",
    "                    figrue_output[\"rnn_\"+str(index)+\"_\"+name+\"_figure\"] = values\n",
    "        \n",
    "        if len(all_rnns) > 0:\n",
    "            x = torch.cat(all_rnns,2)\n",
    "        #x = self.last_bn(x)\n",
    "        x = x.transpose(1, 2)\n",
    "        #figrue_output[\"last_bn\"] = x\n",
    "        x = self.last(x)\n",
    "        figrue_output[\"pre_softmax_figure\"] = x\n",
    "        x = F.softmax(x,dim=1)\n",
    "        if return_values:\n",
    "            return x,figrue_output,distribution_output\n",
    "        else:\n",
    "            return x,new_h_list+gate_i_list"
   ]
  },
  {
   "cell_type": "code",
   "execution_count": 222,
   "metadata": {},
   "outputs": [
    {
     "data": {
      "text/plain": [
       "{'gene': 14301.0, 'other': 48000.0}"
      ]
     },
     "execution_count": 222,
     "metadata": {},
     "output_type": "execute_result"
    }
   ],
   "source": [
    "from sequence_annotation.genome_handler.utils import ann_count\n",
    "ann_count(selected_seqs)"
   ]
  },
  {
   "cell_type": "code",
   "execution_count": 234,
   "metadata": {},
   "outputs": [],
   "source": [
    "class GatedIndRnnCell(torch.nn.Module):\n",
    "    def __init__(self, input_size, hidden_size):\n",
    "        super().__init__()\n",
    "        self._gate_num = 1\n",
    "        self.input_size = input_size\n",
    "        self.hidden_size = hidden_size\n",
    "        self.gate_weights = torch.nn.Parameter(torch.empty(hidden_size, hidden_size+input_size))\n",
    "        self.weights_i = torch.nn.Parameter(torch.empty(hidden_size, input_size))\n",
    "        self.gate_bias = torch.nn.Parameter(torch.empty(hidden_size))\n",
    "        self.bn = nn.LayerNorm(hidden_size+ input_size).cuda()\n",
    "        self.gate_function =  noisy_hard_sigmoid(c=1)\n",
    "        self.recurrent_function = noisy_hard_sigmoid(c=1)\n",
    "        self.reset_parameters()\n",
    "        self.output_names = ['new_h','concat_input','pre_gate_i','gate_i','values_i','pre_h']\n",
    "    def reset_parameters(self):\n",
    "        gate_bound = (1/((self.input_size+self.hidden_size)))\n",
    "        input_bound = (1/(self.input_size))\n",
    "        uniform_(self.gate_weights,-gate_bound,gate_bound)\n",
    "        uniform_(self.weights_i,-input_bound,input_bound)\n",
    "        constant_(self.gate_bias,0.5)\n",
    "    def forward(self, input, state):\n",
    "        #input shape should be (number,feature size)\n",
    "        concat_input = torch.cat([input,state], dim=1)\n",
    "        pre_gate_i = F.linear(concat_input, self.gate_weights,self.gate_bias)\n",
    "        gate_i = self.gate_function(pre_gate_i,training=self.training)\n",
    "        values_i = F.linear(input, self.weights_i)\n",
    "        values_i = Tanh()(values_i)\n",
    "        pre_h = state+ values_i*gate_i\n",
    "        new_h = self.recurrent_function(pre_h,training=self.training)\n",
    "        return new_h,concat_input,pre_gate_i,gate_i,values_i,pre_h"
   ]
  },
  {
   "cell_type": "code",
   "execution_count": 237,
   "metadata": {},
   "outputs": [],
   "source": [
    "class SeqAnnlLoss(nn.Module):\n",
    "    def __init__(self, class_num,alphas=None, gamma=0,ignore_index=None):\n",
    "        super().__init__()\n",
    "        self.gamma = gamma\n",
    "        self._ignore_index = ignore_index\n",
    "        self._class_num = class_num\n",
    "        self._alphas = alphas\n",
    "    def forward(self, output, target,spatial_weights=None):\n",
    "        \"\"\"data shape is N,C,L\"\"\"\n",
    "        pt = output[0]\n",
    "        gate_i = output[1]\n",
    "        center=0.5\n",
    "        gate_loss_ = ((center**2)-(torch.cat(gate_i,1)-center)**2).mean(1)\n",
    "        input_length = pt.shape[2]\n",
    "        if list(pt.shape) != list(target.shape):\n",
    "            target = target.transpose(0,2)[:input_length].transpose(0,2)\n",
    "        target = target.float()\n",
    "        if self._ignore_index is not None:\n",
    "            mask = (target.max(1)[0] != self._ignore_index).float()\n",
    "        decay_cooef = (1-pt)**self.gamma\n",
    "        loss_ =  -decay_cooef* (pt+1e-10).log() * target\n",
    "        if spatial_weights is not None:\n",
    "            if list(pt.shape) != list(spatial_weights.shape):\n",
    "                 spatial_weights = spatial_weights.transpose(0,2)[:input_length].transpose(0,2)\n",
    "            spatial_weights = torch.FloatTensor(spatial_weights).cuda()\n",
    "        if self._alphas is not None:\n",
    "            loss_ = loss_*self._alphas\n",
    "        loss_ = loss_.sum(1)\n",
    "        if self._ignore_index is not None:\n",
    "            gate_loss_ = gate_loss_*mask\n",
    "            loss_ = loss_*mask\n",
    "            loss = loss_.sum()/mask.sum()\n",
    "            gate_loss = gate_loss_.sum()/mask.sum()\n",
    "        else:\n",
    "            loss = loss_.mean()\n",
    "            gate_loss = gate_loss_.mean()\n",
    "        return loss + gate_loss\n"
   ]
  },
  {
   "cell_type": "code",
   "execution_count": 238,
   "metadata": {},
   "outputs": [],
   "source": [
    "class_num=len(selected_seqs.ANN_TYPES)\n",
    "model = Model(class_num,cnn_out_num=16,rnn_out_num=2,cnn_num=8,rnn_num=2)"
   ]
  },
  {
   "cell_type": "code",
   "execution_count": 239,
   "metadata": {},
   "outputs": [
    {
     "name": "stdout",
     "output_type": "stream",
     "text": [
      "Processing data...\n",
      "Processing model..\n",
      "Compiling model...\n",
      "Processing worker...\n",
      "Executing...\n",
      "Start working(2019-02-17 08:54:06)\n",
      "1 {'val_loss': 0.8765599131584167, 'F1_gene': 0.4191321841073844, 'val_accuracy': 0.277872420972932, 'val_F1_gene': 0.4348985335505851, 'loss': 0.7831479012966156, 'accuracy': 0.26512791258940716, 'F1_other': 0.0, 'val_F1_other': 0.0}\n",
      "2 {'val_loss': 0.8378812670707703, 'F1_gene': 0.41909188664192304, 'val_accuracy': 0.28052243043725156, 'val_F1_gene': 0.4352993611647601, 'loss': 0.8734314143657684, 'accuracy': 0.26512791258940716, 'F1_other': 0.00011941011403665891, 'val_F1_other': 0.008865710560625815}\n",
      "3 {'val_loss': 0.7859598398208618, 'F1_gene': 0.41768645464427223, 'val_accuracy': 0.3333333333333333, 'val_F1_gene': 0.4308338720103426, 'loss': 0.8286062479019165, 'accuracy': 0.2712712273465268, 'F1_other': 0.026496277624714227, 'val_F1_other': 0.19552306989492918}\n",
      "4 {'val_loss': 0.7226979732513428, 'F1_gene': 0.005587510271158586, 'val_accuracy': 0.7219382926367595, 'val_F1_gene': 0.0, 'loss': 0.7703042328357697, 'accuracy': 0.7344771600333494, 'F1_other': 0.8467829741979591, 'val_F1_other': 0.8385181928108167}\n",
      "5 {'val_loss': 0.7297829389572144, 'F1_gene': 0.0, 'val_accuracy': 0.7221275790270679, 'val_F1_gene': 0.0, 'loss': 0.6966344118118286, 'accuracy': 0.7348720874105928, 'F1_other': 0.8471772561715905, 'val_F1_other': 0.8386458562321389}\n",
      "6 {'val_loss': 0.6497583985328674, 'F1_gene': 0.0, 'val_accuracy': 0.7221275790270679, 'val_F1_gene': 0.0, 'loss': 0.6059285998344421, 'accuracy': 0.7348720874105928, 'F1_other': 0.8471772561715905, 'val_F1_other': 0.8386458562321389}\n",
      "7 {'val_loss': 0.6613461375236511, 'F1_gene': 0.0, 'val_accuracy': 0.7221275790270679, 'val_F1_gene': 0.0, 'loss': 0.5365104079246521, 'accuracy': 0.7348720874105928, 'F1_other': 0.8471772561715905, 'val_F1_other': 0.8386458562321389}\n",
      "8 {'val_loss': 0.6156384348869324, 'F1_gene': 0.0, 'val_accuracy': 0.7221275790270679, 'val_F1_gene': 0.0, 'loss': 0.5116450786590576, 'accuracy': 0.7348720874105928, 'F1_other': 0.8471772561715905, 'val_F1_other': 0.8386458562321389}\n",
      "9 {'val_loss': 0.6098452806472778, 'F1_gene': 0.0, 'val_accuracy': 0.7221275790270679, 'val_F1_gene': 0.0, 'loss': 0.46792013943195343, 'accuracy': 0.7348720874105928, 'F1_other': 0.8471772561715905, 'val_F1_other': 0.8386458562321389}\n",
      "10 {'val_loss': 0.599642813205719, 'F1_gene': 0.0, 'val_accuracy': 0.7221275790270679, 'val_F1_gene': 0.0, 'loss': 0.4452463388442993, 'accuracy': 0.7348720874105928, 'F1_other': 0.8471772561715905, 'val_F1_other': 0.8386458562321389}\n",
      "11 {'val_loss': 0.5964652299880981, 'F1_gene': 0.0, 'val_accuracy': 0.7221275790270679, 'val_F1_gene': 0.0, 'loss': 0.423796683549881, 'accuracy': 0.7348720874105928, 'F1_other': 0.8471772561715905, 'val_F1_other': 0.8386458562321389}\n",
      "12 {'val_loss': 0.6057734489440918, 'F1_gene': 0.0, 'val_accuracy': 0.7221275790270679, 'val_F1_gene': 0.0, 'loss': 0.40461333096027374, 'accuracy': 0.7348720874105928, 'F1_other': 0.8471772561715905, 'val_F1_other': 0.8386458562321389}\n",
      "13 {'val_loss': 0.6045477390289307, 'F1_gene': 0.0, 'val_accuracy': 0.7221275790270679, 'val_F1_gene': 0.0, 'loss': 0.3876332640647888, 'accuracy': 0.7348720874105928, 'F1_other': 0.8471772561715905, 'val_F1_other': 0.8386458562321389}\n",
      "14 {'val_loss': 0.6020429730415344, 'F1_gene': 0.00033096144299189144, 'val_accuracy': 0.7221275790270679, 'val_F1_gene': 0.0, 'loss': 0.3711683601140976, 'accuracy': 0.7349159682302865, 'F1_other': 0.8471986847097509, 'val_F1_other': 0.8386458562321389}\n",
      "15 {'val_loss': 0.5980104207992554, 'F1_gene': 0.00033096144299189144, 'val_accuracy': 0.7221275790270679, 'val_F1_gene': 0.0, 'loss': 0.3553299903869629, 'accuracy': 0.7349159682302865, 'F1_other': 0.8471986847097509, 'val_F1_other': 0.8386458562321389}\n",
      "16 {'val_loss': 0.5960437655448914, 'F1_gene': 0.00033096144299189144, 'val_accuracy': 0.7221275790270679, 'val_F1_gene': 0.0, 'loss': 0.33815625309944153, 'accuracy': 0.7349159682302865, 'F1_other': 0.8471986847097509, 'val_F1_other': 0.8386458562321389}\n",
      "17 {'val_loss': 0.5894399881362915, 'F1_gene': 0.0006618133686300463, 'val_accuracy': 0.7221275790270679, 'val_F1_gene': 0.0, 'loss': 0.3220820873975754, 'accuracy': 0.7349598490499802, 'F1_other': 0.8472201143319674, 'val_F1_other': 0.8386458562321389}\n",
      "18 {'val_loss': 0.5832040309906006, 'F1_gene': 0.0009925558312655087, 'val_accuracy': 0.7221275790270679, 'val_F1_gene': 0.0, 'loss': 0.306017741560936, 'accuracy': 0.735003729869674, 'F1_other': 0.8472415450383224, 'val_F1_other': 0.8386458562321389}\n",
      "19 {'val_loss': 0.5808404684066772, 'F1_gene': 0.0016534391534391533, 'val_accuracy': 0.7221275790270679, 'val_F1_gene': 0.0, 'loss': 0.2909630239009857, 'accuracy': 0.7350476106893676, 'F1_other': 0.8472552491778396, 'val_F1_other': 0.8386458562321389}\n",
      "20 {'val_loss': 0.5692621469497681, 'F1_gene': 0.001983798975037196, 'val_accuracy': 0.7221275790270679, 'val_F1_gene': 0.0, 'loss': 0.2762390226125717, 'accuracy': 0.7350914915090614, 'F1_other': 0.8472766829416378, 'val_F1_other': 0.8386458562321389}\n",
      "21 {'val_loss': 0.5633355975151062, 'F1_gene': 0.003303600925008259, 'val_accuracy': 0.7221275790270679, 'val_F1_gene': 0.0, 'loss': 0.2620146721601486, 'accuracy': 0.7352231339681425, 'F1_other': 0.847333265863779, 'val_F1_other': 0.8386458562321389}\n",
      "22 {'val_loss': 0.5601648092269897, 'F1_gene': 0.032216075496257726, 'val_accuracy': 0.7228847245883021, 'val_F1_gene': 0.010810810810810811, 'loss': 0.24791263788938522, 'accuracy': 0.7389968844618018, 'F1_other': 0.8491580442280381, 'val_F1_other': 0.8388729914153643}\n",
      "23 {'val_loss': 0.5524615049362183, 'F1_gene': 0.3035888842340455, 'val_accuracy': 0.7340526216165058, 'val_F1_gene': 0.15412402167369055, 'loss': 0.23421671241521835, 'accuracy': 0.7811663521874589, 'F1_other': 0.8701876773303485, 'val_F1_other': 0.8422234699606962}\n",
      "24 {'val_loss': 0.5541446208953857, 'F1_gene': 0.6962471934138779, 'val_accuracy': 0.740488358886996, 'val_F1_gene': 0.21070811744386875, 'loss': 0.22132416814565659, 'accuracy': 0.8753345912501646, 'F1_other': 0.9215734989648033, 'val_F1_other': 0.8447162759089365}\n",
      "25 {'val_loss': 0.5541890263557434, 'F1_gene': 0.8222350897510133, 'val_accuracy': 0.7266704523944728, 'val_F1_gene': 0.23839662447257384, 'loss': 0.2086537927389145, 'accuracy': 0.9191715301241827, 'F1_other': 0.947694229895502, 'val_F1_other': 0.8334486735870819}\n",
      "26 {'val_loss': 0.5556778311729431, 'F1_gene': 0.8907350550839805, 'val_accuracy': 0.7151239825856521, 'val_F1_gene': 0.2553191489361702, 'loss': 0.19713297486305237, 'accuracy': 0.9469042081706086, 'F1_other': 0.964931602133086, 'val_F1_other': 0.8238736102984201}\n",
      "27 {'val_loss': 0.5659528970718384, 'F1_gene': 0.9189094107299912, 'val_accuracy': 0.7058489494605338, 'val_F1_gene': 0.21594349142280525, 'loss': 0.18638121336698532, 'accuracy': 0.9595418842423976, 'F1_other': 0.9730472404115996, 'val_F1_other': 0.8189655172413793}\n",
      "28 {'val_loss': 0.5896865129470825, 'F1_gene': 0.9273344356452876, 'val_accuracy': 0.6965739163354154, 'val_F1_gene': 0.18505338078291814, 'loss': 0.17576253414154053, 'accuracy': 0.9633595155557506, 'F1_other': 0.9755038577756916, 'val_F1_other': 0.8135829747645075}\n",
      "29 {'val_loss': 0.5850016474723816, 'F1_gene': 0.9405433111225013, 'val_accuracy': 0.6954381979935642, 'val_F1_gene': 0.19590204897551225, 'loss': 0.1656958907842636, 'accuracy': 0.9694589494931766, 'F1_other': 0.9794520547945206, 'val_F1_other': 0.8121424401634559}\n",
      "30 {'val_loss': 0.594929575920105, 'F1_gene': 0.9445341034570628, 'val_accuracy': 0.6935453340904789, 'val_F1_gene': 0.18438287153652394, 'loss': 0.1559598594903946, 'accuracy': 0.9713458247400062, 'F1_other': 0.9806833308682148, 'val_F1_other': 0.8113273511245775}\n",
      "31 {'val_loss': 0.5985590815544128, 'F1_gene': 0.9540268456375839, 'val_accuracy': 0.6950596252129472, 'val_F1_gene': 0.20128904313336637, 'loss': 0.1469091773033142, 'accuracy': 0.9759533108078459, 'F1_other': 0.9837185810208569, 'val_F1_other': 0.8115569072406129}\n",
      "32 {'val_loss': 0.6129529476165771, 'F1_gene': 0.9604133677806483, 'val_accuracy': 0.6961953435547984, 'val_F1_gene': 0.2113022113022113, 'loss': 0.1383572816848755, 'accuracy': 0.9791566106454869, 'F1_other': 0.9858542541469371, 'val_F1_other': 0.8118626186847966}\n"
     ]
    },
    {
     "name": "stdout",
     "output_type": "stream",
     "text": [
      "33 {'val_loss': 0.6177104711532593, 'F1_gene': 0.9616858237547893, 'val_accuracy': 0.6910846110164679, 'val_F1_gene': 0.20390243902439023, 'loss': 0.1301436424255371, 'accuracy': 0.9798148229408925, 'F1_other': 0.9862981055641606, 'val_F1_other': 0.8083607327383748}\n",
      "34 {'val_loss': 0.6237592101097107, 'F1_gene': 0.9694315928618639, 'val_accuracy': 0.6891917471133826, 'val_F1_gene': 0.19667318982387474, 'loss': 0.1213526539504528, 'accuracy': 0.9837640967133267, 'F1_other': 0.9889466451574356, 'val_F1_other': 0.8073222248298522}\n",
      "35 {'val_loss': 0.6436880826950073, 'F1_gene': 0.9705226653455536, 'val_accuracy': 0.6855953056975204, 'val_F1_gene': 0.1707438841737394, 'loss': 0.11356929317116737, 'accuracy': 0.9843345473693449, 'F1_other': 0.9893327755699645, 'val_F1_other': 0.8060259254934018}\n",
      "36 {'val_loss': 0.640314519405365, 'F1_gene': 0.972330056991823, 'val_accuracy': 0.6810524323301155, 'val_F1_gene': 0.16210840377921432, 'loss': 0.10644577443599701, 'accuracy': 0.9852999254026065, 'F1_other': 0.9899913357832153, 'val_F1_other': 0.8030391583869082}\n",
      "37 {'val_loss': 0.6340161561965942, 'F1_gene': 0.970374048328368, 'val_accuracy': 0.6753738406208594, 'val_F1_gene': 0.14378432351472792, 'loss': 0.09965440630912781, 'accuracy': 0.9842906665496511, 'F1_other': 0.9893115184809219, 'val_F1_other': 0.7997197243956558}\n",
      "38 {'val_loss': 0.625275731086731, 'F1_gene': 0.9715276058430304, 'val_accuracy': 0.6818095778913497, 'val_F1_gene': 0.20066571564431765, 'loss': 0.09321798384189606, 'accuracy': 0.9848611172056694, 'F1_other': 0.989689489256149, 'val_F1_other': 0.8013706723384143}\n",
      "39 {'val_loss': 0.6370609402656555, 'F1_gene': 0.9672703106828376, 'val_accuracy': 0.6814310051107325, 'val_F1_gene': 0.18498789346246974, 'loss': 0.09005212783813477, 'accuracy': 0.9827109570406776, 'F1_other': 0.988252832438879, 'val_F1_other': 0.802023291377485}\n",
      "40 {'val_loss': 0.6316278576850891, 'F1_gene': 0.9739502013312515, 'val_accuracy': 0.6814310051107325, 'val_F1_gene': 0.21974965229485396, 'loss': 0.08399126306176186, 'accuracy': 0.9860897801570934, 'F1_other': 0.9905115388069083, 'val_F1_other': 0.7998572957545487}\n",
      "41 {'val_loss': 0.6328012943267822, 'F1_gene': 0.9728350345735923, 'val_accuracy': 0.6910846110164679, 'val_F1_gene': 0.24723247232472326, 'loss': 0.07895351573824883, 'accuracy': 0.9855193295010751, 'F1_other': 0.990128626981753, 'val_F1_other': 0.805668016194332}\n",
      "42 {'val_loss': 0.6301929950714111, 'F1_gene': 0.9706732755059893, 'val_accuracy': 0.6994132121900435, 'val_F1_gene': 0.26820276497695855, 'loss': 0.07226994261145592, 'accuracy': 0.9844223090087323, 'F1_other': 0.9893944373076808, 'val_F1_other': 0.8108623153882801}\n",
      "43 {'val_loss': 0.611325204372406, 'F1_gene': 0.9719133514537518, 'val_accuracy': 0.6958167707741814, 'val_F1_gene': 0.29855958096900914, 'loss': 0.06720920279622078, 'accuracy': 0.9850366404844443, 'F1_other': 0.9898017166611838, 'val_F1_other': 0.8058006042296072}\n",
      "44 {'val_loss': 0.614252507686615, 'F1_gene': 0.9729504090833194, 'val_accuracy': 0.7043346583380655, 'val_F1_gene': 0.3214596003475239, 'loss': 0.06325962394475937, 'accuracy': 0.9857826144192373, 'F1_other': 0.9903571428571428, 'val_F1_other': 0.8109874152952565}\n",
      "45 {'val_loss': 0.6071221232414246, 'F1_gene': 0.9725644816822737, 'val_accuracy': 0.7052810902896082, 'val_F1_gene': 0.3256821134690342, 'loss': 0.05928972736001015, 'accuracy': 0.9853438062223002, 'F1_other': 0.9900011974613818, 'val_F1_other': 0.8114327237495459}\n",
      "46 {'val_loss': 0.6590814590454102, 'F1_gene': 0.9762235476754637, 'val_accuracy': 0.6854060193072118, 'val_F1_gene': 0.23126734505087881, 'loss': 0.05573967099189758, 'accuracy': 0.9872306814691298, 'F1_other': 0.9912714838477459, 'val_F1_other': 0.8022370299857211}\n",
      "47 {'val_loss': 0.7224305272102356, 'F1_gene': 0.9725148123765636, 'val_accuracy': 0.676320272572402, 'val_F1_gene': 0.1551383399209486, 'loss': 0.05187954753637314, 'accuracy': 0.9853438062223002, 'F1_other': 0.9900077783761144, 'val_F1_other': 0.7998126902364786}\n",
      "48 {'val_loss': 0.722865641117096, 'F1_gene': 0.9683078196110881, 'val_accuracy': 0.6825667234525837, 'val_F1_gene': 0.18473505104521148, 'loss': 0.047663845121860504, 'accuracy': 0.9831936460573083, 'F1_other': 0.9885647747290479, 'val_F1_other': 0.8029145610530027}\n",
      "49 {'val_loss': 0.7400746941566467, 'F1_gene': 0.9713158543601546, 'val_accuracy': 0.6462237365133446, 'val_F1_gene': 0.002135611318739989, 'loss': 0.043360352516174316, 'accuracy': 0.9846855939268946, 'F1_other': 0.9895543383915477, 'val_F1_other': 0.7849994248245715}\n",
      "50 {'val_loss': 0.7025020718574524, 'F1_gene': 0.9739144656145229, 'val_accuracy': 0.6867310240393716, 'val_F1_gene': 0.15776081424936386, 'loss': 0.04047741740942001, 'accuracy': 0.9860020185177059, 'F1_other': 0.9904344957869802, 'val_F1_other': 0.8075805138937333}\n",
      "51 {'val_loss': 0.7150974869728088, 'F1_gene': 0.9716352873468717, 'val_accuracy': 0.6871095968199886, 'val_F1_gene': 0.1893084845512506, 'loss': 0.036209847778081894, 'accuracy': 0.9848611172056694, 'F1_other': 0.9896752955259613, 'val_F1_other': 0.8061451858801454}\n",
      "52 {'val_loss': 0.6928250789642334, 'F1_gene': 0.9741951339395429, 'val_accuracy': 0.689002460723074, 'val_F1_gene': 0.23116518483855872, 'loss': 0.032557256519794464, 'accuracy': 0.9861775417964808, 'F1_other': 0.990560666446915, 'val_F1_other': 0.8050777079131569}\n",
      "53 {'val_loss': 0.6818264722824097, 'F1_gene': 0.9751121991024072, 'val_accuracy': 0.6920310429680105, 'val_F1_gene': 0.2553775743707094, 'loss': 0.028517626225948334, 'accuracy': 0.9866163499934179, 'F1_other': 0.9908471626204123, 'val_F1_other': 0.8058704211907887}\n",
      "54 {'val_loss': 0.688199520111084, 'F1_gene': 0.9757333115450608, 'val_accuracy': 0.6933560477001703, 'val_F1_gene': 0.24581005586592178, 'loss': 0.02510708197951317, 'accuracy': 0.9869673965509675, 'F1_other': 0.9910915144425447, 'val_F1_other': 0.8075552387740556}\n",
      "55 {'val_loss': 0.6867321133613586, 'F1_gene': 0.9766565648292244, 'val_accuracy': 0.7035775127768313, 'val_F1_gene': 0.2926829268292683, 'loss': 0.02249901369214058, 'accuracy': 0.9874939663872921, 'F1_other': 0.9914591387215679, 'val_F1_other': 0.8125}\n",
      "56 {'val_loss': 0.6779877543449402, 'F1_gene': 0.9760835850134683, 'val_accuracy': 0.7143668370244179, 'val_F1_gene': 0.33553500660501984, 'loss': 0.019329018890857697, 'accuracy': 0.9871429198297424, 'F1_other': 0.9912083295826207, 'val_F1_other': 0.8180831826401447}\n",
      "57 {'val_loss': 0.665394127368927, 'F1_gene': 0.9755102040816327, 'val_accuracy': 0.7107703956085557, 'val_F1_gene': 0.3385281385281385, 'loss': 0.016565877944231033, 'accuracy': 0.9868357540918864, 'F1_other': 0.9909985597695631, 'val_F1_other': 0.814922480620155}\n",
      "58 {'val_loss': 0.6587445139884949, 'F1_gene': 0.9763110602842673, 'val_accuracy': 0.7253454476623131, 'val_F1_gene': 0.3941544885177453, 'loss': 0.01339588314294815, 'accuracy': 0.9872745622888236, 'F1_other': 0.9913006959443245, 'val_F1_other': 0.8224207563333741}\n",
      "59 {'val_loss': 0.6494845151901245, 'F1_gene': 0.9761671563826314, 'val_accuracy': 0.7158811281468862, 'val_F1_gene': 0.3925536220153784, 'loss': 0.01104738935828209, 'accuracy': 0.9871868006494361, 'F1_other': 0.9912380723759227, 'val_F1_other': 0.8145768993205682}\n",
      "60 {'val_loss': 0.6474786400794983, 'F1_gene': 0.9755778812382586, 'val_accuracy': 0.7268597387847814, 'val_F1_gene': 0.4294187425860024, 'loss': 0.008322939276695251, 'accuracy': 0.9868796349115802, 'F1_other': 0.9910304484775762, 'val_F1_other': 0.8204553938036581}\n",
      "61 {'val_loss': 0.6451979875564575, 'F1_gene': 0.9756496159503186, 'val_accuracy': 0.7198561423433655, 'val_F1_gene': 0.41362916006339145, 'loss': 0.006417814642190933, 'accuracy': 0.9869235157312739, 'F1_other': 0.9910617876424715, 'val_F1_other': 0.8159661775677692}\n",
      "62 {'val_loss': 0.6374326348304749, 'F1_gene': 0.9741612665080798, 'val_accuracy': 0.720045428733674, 'val_F1_gene': 0.41425742574257424, 'loss': 0.0030312836170196533, 'accuracy': 0.9861775417964808, 'F1_other': 0.9905651900440291, 'val_F1_other': 0.8160676532769556}\n",
      "63 {'val_loss': 0.6292173862457275, 'F1_gene': 0.9739044805514525, 'val_accuracy': 0.738027635812985, 'val_F1_gene': 0.4652241112828439, 'loss': 0.001513257622718811, 'accuracy': 0.9860458993373996, 'F1_other': 0.9904767609008146, 'val_F1_other': 0.8265229380797192}\n"
     ]
    },
    {
     "name": "stdout",
     "output_type": "stream",
     "text": [
      "64 {'val_loss': 0.6066415905952454, 'F1_gene': 0.9755738910219753, 'val_accuracy': 0.7526026878667423, 'val_F1_gene': 0.512858740216176, 'loss': -0.00047574564814567566, 'accuracy': 0.9868796349115802, 'F1_other': 0.9910309865914749, 'val_F1_other': 0.8342001775973614}\n",
      "65 {'val_loss': 0.626408576965332, 'F1_gene': 0.9743715712765086, 'val_accuracy': 0.7291311754684838, 'val_F1_gene': 0.42460796139927626, 'loss': -0.002587679773569107, 'accuracy': 0.9862653034358682, 'F1_other': 0.9906189120335681, 'val_F1_other': 0.8228741180839213}\n",
      "66 {'val_loss': 0.7261996865272522, 'F1_gene': 0.9742875859810023, 'val_accuracy': 0.7156918417565777, 'val_F1_gene': 0.3497835497835498, 'loss': -0.005184605717658997, 'accuracy': 0.9862214226161745, 'F1_other': 0.9905892225618893, 'val_F1_other': 0.8180717054263565}\n",
      "67 {'val_loss': 0.7335096001625061, 'F1_gene': 0.9751781764561317, 'val_accuracy': 0.7124739731213325, 'val_F1_gene': 0.3375490623637157, 'loss': -0.006735071539878845, 'accuracy': 0.9867041116328052, 'F1_other': 0.9909202601060801, 'val_F1_other': 0.816390668439502}\n",
      "68 {'val_loss': 0.7586660385131836, 'F1_gene': 0.9751741089717328, 'val_accuracy': 0.7056596630702252, 'val_F1_gene': 0.2992338891392519, 'loss': -0.009699016809463501, 'accuracy': 0.9867041116328052, 'F1_other': 0.9909208042429509, 'val_F1_other': 0.8137055229423745}\n",
      "69 {'val_loss': 0.7352309823036194, 'F1_gene': 0.9785428734600636, 'val_accuracy': 0.6589059246640167, 'val_F1_gene': 0.10526315789473684, 'loss': -0.01162981241941452, 'accuracy': 0.9884593444205537, 'F1_other': 0.9921070796194592, 'val_F1_other': 0.789289055191768}\n",
      "70 {'val_loss': 0.7712010145187378, 'F1_gene': 0.9784078872321356, 'val_accuracy': 0.6604202157864849, 'val_F1_gene': 0.12658227848101267, 'loss': -0.013348735868930817, 'accuracy': 0.9883715827811663, 'F1_other': 0.9920432367512385, 'val_F1_other': 0.7892387218045113}\n",
      "71 {'val_loss': 0.8141868114471436, 'F1_gene': 0.9782307378719934, 'val_accuracy': 0.6564452015900056, 'val_F1_gene': 0.12106537530266344, 'loss': -0.01514492928981781, 'accuracy': 0.9882838211417789, 'F1_other': 0.9919851109176597, 'val_F1_other': 0.7864957063874838}\n",
      "72 {'val_loss': 0.8474335670471191, 'F1_gene': 0.9783069646061001, 'val_accuracy': 0.6409237175847057, 'val_F1_gene': 0.027678113787801127, 'loss': -0.01733953133225441, 'accuracy': 0.9883277019614727, 'F1_other': 0.9920158482410854, 'val_F1_other': 0.7798026697620429}\n",
      "73 {'val_loss': 0.8487889170646667, 'F1_gene': 0.9788830004076641, 'val_accuracy': 0.6395987128525459, 'val_F1_gene': 0.02459016393442623, 'loss': -0.019138991832733154, 'accuracy': 0.9886348676993286, 'F1_other': 0.9922252574070183, 'val_F1_other': 0.7789644764337126}\n",
      "74 {'val_loss': 0.8644384145736694, 'F1_gene': 0.9802862985685071, 'val_accuracy': 0.634677266704524, 'val_F1_gene': 0.019308943089430895, 'loss': -0.02108730375766754, 'accuracy': 0.9894247224538154, 'F1_other': 0.9927742631847211, 'val_F1_other': 0.7755291928355431}\n",
      "75 {'val_loss': 0.8201733827590942, 'F1_gene': 0.9822718319107026, 'val_accuracy': 0.6621237932992617, 'val_F1_gene': 0.1380975374215355, 'loss': -0.022691749036312103, 'accuracy': 0.9905217429461582, 'F1_other': 0.9935317721746422, 'val_F1_other': 0.7898763978811065}\n",
      "76 {'val_loss': 0.7630259990692139, 'F1_gene': 0.9811073852948393, 'val_accuracy': 0.7043346583380655, 'val_F1_gene': 0.2944896115627823, 'loss': -0.024871278554201126, 'accuracy': 0.9898635306507526, 'F1_other': 0.9930736709543941, 'val_F1_other': 0.8129789272030651}\n",
      "77 {'val_loss': 0.7595809698104858, 'F1_gene': 0.9820211805270503, 'val_accuracy': 0.6905167518455423, 'val_F1_gene': 0.27622841965471445, 'loss': -0.02608805149793625, 'accuracy': 0.9903901004870771, 'F1_other': 0.9934425247776747, 'val_F1_other': 0.8031780426146623}\n",
      "78 {'val_loss': 0.7644957304000854, 'F1_gene': 0.9823008849557522, 'val_accuracy': 0.6960060571644898, 'val_F1_gene': 0.25990783410138246, 'loss': -0.027733508497476578, 'accuracy': 0.9905217429461582, 'F1_other': 0.9935278959669204, 'val_F1_other': 0.8087184373511196}\n",
      "79 {'val_loss': 0.8176323175430298, 'F1_gene': 0.9827387802071347, 'val_accuracy': 0.665720234715124, 'val_F1_gene': 0.10808080808080808, 'loss': -0.0293722040951252, 'accuracy': 0.9907850278643205, 'F1_other': 0.9937148329941339, 'val_F1_other': 0.7943163289075239}\n",
      "80 {'val_loss': 0.8259215354919434, 'F1_gene': 0.9824821120157907, 'val_accuracy': 0.6984667802385008, 'val_F1_gene': 0.24466571834992887, 'loss': -0.03031609207391739, 'accuracy': 0.9906533854052394, 'F1_other': 0.9936263802028786, 'val_F1_other': 0.8116353316778999}\n",
      "81 {'val_loss': 0.8108583688735962, 'F1_gene': 0.9827884377830849, 'val_accuracy': 0.6916524701873935, 'val_F1_gene': 0.2141823444283647, 'loss': -0.03179742768406868, 'accuracy': 0.9908289086840142, 'F1_other': 0.9937490653506804, 'val_F1_other': 0.8081949841045567}\n",
      "82 {'val_loss': 0.8034485578536987, 'F1_gene': 0.9832990538872892, 'val_accuracy': 0.6882453151618398, 'val_F1_gene': 0.19854014598540146, 'loss': -0.032826703041791916, 'accuracy': 0.9910921936021765, 'F1_other': 0.9939263381503755, 'val_F1_other': 0.8064857243567148}\n",
      "83 {'val_loss': 0.7938845157623291, 'F1_gene': 0.9831345125462773, 'val_accuracy': 0.6882453151618398, 'val_F1_gene': 0.19854014598540146, 'loss': -0.03482666611671448, 'accuracy': 0.9910044319627891, 'F1_other': 0.9938664991173742, 'val_F1_other': 0.8064857243567148}\n",
      "84 {'val_loss': 0.7994323968887329, 'F1_gene': 0.9829559489501852, 'val_accuracy': 0.7105811092182472, 'val_F1_gene': 0.29701149425287354, 'loss': -0.03628156706690788, 'accuracy': 0.9909166703234017, 'F1_other': 0.993808512547483, 'val_F1_other': 0.8177809557859611}\n",
      "85 {'val_loss': 0.8045992255210876, 'F1_gene': 0.9832098765432099, 'val_accuracy': 0.7122846867310241, 'val_F1_gene': 0.32683790965456155, 'loss': -0.037306927144527435, 'accuracy': 0.9910483127824827, 'F1_other': 0.9938973315783176, 'val_F1_other': 0.817043813192104}\n",
      "86 {'val_loss': 0.7981777191162109, 'F1_gene': 0.9834554284303235, 'val_accuracy': 0.699223925799735, 'val_F1_gene': 0.27343392775491543, 'loss': -0.03902850300073624, 'accuracy': 0.9911799552415639, 'F1_other': 0.9939872565736336, 'val_F1_other': 0.810359231411863}\n",
      "87 {'val_loss': 0.7919589281082153, 'F1_gene': 0.9834581515924615, 'val_accuracy': 0.7204240015142911, 'val_F1_gene': 0.3581051716644937, 'loss': -0.04053407534956932, 'accuracy': 0.9911799552415639, 'F1_other': 0.993986896819936, 'val_F1_other': 0.8212946158499698}\n",
      "88 {'val_loss': 0.7844151258468628, 'F1_gene': 0.9836227470990042, 'val_accuracy': 0.7289418890781753, 'val_F1_gene': 0.3895993179880648, 'loss': -0.04177764058113098, 'accuracy': 0.9912677168809514, 'F1_other': 0.9940467286923744, 'val_F1_other': 0.8257907542579075}\n",
      "89 {'val_loss': 0.7590693831443787, 'F1_gene': 0.9828496042216359, 'val_accuracy': 0.7194775695627484, 'val_F1_gene': 0.35396687009590233, 'loss': -0.04127604141831398, 'accuracy': 0.9908727895037079, 'F1_other': 0.9937817638266069, 'val_F1_other': 0.8208413926499033}\n",
      "90 {'val_loss': 0.9777443408966064, 'F1_gene': 0.9809791597750579, 'val_accuracy': 0.6969524891160326, 'val_F1_gene': 0.0, 'loss': -0.03766044229269028, 'accuracy': 0.9899074114704463, 'F1_other': 0.993131457922714, 'val_F1_other': 0.8214166201896264}\n",
      "91 {'val_loss': 0.9692972302436829, 'F1_gene': 0.6372202591283863, 'val_accuracy': 0.7221275790270679, 'val_F1_gene': 0.0, 'loss': 0.2326582744717598, 'accuracy': 0.8378164904120409, 'F1_other': 0.8955637185645663, 'val_F1_other': 0.8386458562321389}\n",
      "92 {'val_loss': 0.9491957426071167, 'F1_gene': 0.00033096144299189144, 'val_accuracy': 0.7221275790270679, 'val_F1_gene': 0.0, 'loss': 0.6979861259460449, 'accuracy': 0.7349159682302865, 'F1_other': 0.8471986847097509, 'val_F1_other': 0.8386458562321389}\n",
      "93 {'val_loss': 0.6650621891021729, 'F1_gene': 0.004623513870541612, 'val_accuracy': 0.6592844974446337, 'val_F1_gene': 0.5607613469985359, 'loss': 0.6740095019340515, 'accuracy': 0.7354864188863048, 'F1_other': 0.8474773543848996, 'val_F1_other': 0.7217068645640075}\n",
      "94 {'val_loss': 0.8558613061904907, 'F1_gene': 0.023229183706854246, 'val_accuracy': 0.7221275790270679, 'val_F1_gene': 0.002717391304347826, 'loss': 0.6259489953517914, 'accuracy': 0.7379876256088463, 'F1_other': 0.8487013809704802, 'val_F1_other': 0.8385748845392567}\n"
     ]
    },
    {
     "name": "stdout",
     "output_type": "stream",
     "text": [
      "95 {'val_loss': 0.8050752282142639, 'F1_gene': 0.012485625102677839, 'val_accuracy': 0.7225061518076851, 'val_F1_gene': 0.0027210884353741495, 'loss': 0.633609414100647, 'accuracy': 0.7362323928210979, 'F1_other': 0.847788103618546, 'val_F1_other': 0.838830255057168}\n",
      "96 {'val_loss': 0.726872980594635, 'F1_gene': 0.010517666392769104, 'val_accuracy': 0.7221275790270679, 'val_F1_gene': 0.005420054200542005, 'loss': 0.5990846455097198, 'accuracy': 0.7357935846241608, 'F1_other': 0.8475426024865166, 'val_F1_other': 0.8385038503850385}\n",
      "97 {'val_loss': 0.6863845586776733, 'F1_gene': 0.10953226761397276, 'val_accuracy': 0.696763202725724, 'val_F1_gene': 0.20927936821322804, 'loss': 0.5404892563819885, 'accuracy': 0.7360129887226293, 'F1_other': 0.8450363196125908, 'val_F1_other': 0.8124121779859484}\n",
      "98 {'val_loss': 0.6668919920921326, 'F1_gene': 0.23677815067700497, 'val_accuracy': 0.7047132311186826, 'val_F1_gene': 0.18580375782881003, 'loss': 0.5343433916568756, 'accuracy': 0.7106059941199702, 'F1_other': 0.8214527438611691, 'val_F1_other': 0.8196531791907514}\n",
      "99 {'val_loss': 0.6498953700065613, 'F1_gene': 0.16987602215774203, 'val_accuracy': 0.7113382547794813, 'val_F1_gene': 0.07519708914493632, 'loss': 0.5078260004520416, 'accuracy': 0.7238141208477774, 'F1_other': 0.8343509843141383, 'val_F1_other': 0.8289783559493104}\n",
      "100 {'val_loss': 0.6409856677055359, 'F1_gene': 0.11987206230009734, 'val_accuracy': 0.7122846867310241, 'val_F1_gene': 0.0440251572327044, 'loss': 0.48947209119796753, 'accuracy': 0.7222782921584975, 'F1_other': 0.8351264751087608, 'val_F1_other': 0.8306595365418895}\n",
      "End working(2019-02-17 11:48:26)\n",
      "Spend time: 02:54:20\n"
     ]
    }
   ],
   "source": [
    "from sequence_annotation.process.ann_seq_data import AnnSeqData\n",
    "from sequence_annotation.pytorch.worker import Trainer\n",
    "from sequence_annotation.process.pipeline import Pipeline \n",
    "from sequence_annotation.function.model_processor import SimpleModel\n",
    "from sequence_annotation.pytorch.compiler import SimpleCompiler\n",
    "import torch.optim as optim\n",
    "from sequence_annotation.pytorch.customize_layer import FocalLoss\n",
    "from sequence_annotation.pytorch.callback import CategoricalMetric,TensorboardCallback,TensorboardWriter,SeqFigCallback\n",
    "from tensorboardX import SummaryWriter\n",
    "import shutil\n",
    "#shutil.rmtree('../io/record/train_2019_02_16_model_3_lr_3', ignore_errors=True)\n",
    "writer = TensorboardWriter(SummaryWriter('../io/record/train_2019_02_16_model_5_rnn_zero_center'))\n",
    "\n",
    "loss = SeqAnnlLoss(class_num=class_num,ignore_index=-1,gamma=0).cuda()\n",
    "builder = SimpleModel(model)\n",
    "compiler = SimpleCompiler(lambda params:optim.Adam(params,lr=0.01),loss)\n",
    "data = AnnSeqData({'training':{'inputs':selected_fasta,'answers':selected_seqs}},\n",
    "                   discard_invalid_seq=True,validation_split=0.1)\n",
    "train_metric = CategoricalMetric(class_num=class_num,ignore_index=-1,class_names=selected_seqs.ANN_TYPES)\n",
    "val_metric = CategoricalMetric(prefix='val',class_num=class_num,ignore_index=-1,class_names=selected_seqs.ANN_TYPES)\n",
    "tensorboard = TensorboardCallback(writer)\n",
    "seq = SeqConverter().seq2vecs(fasta[outlier_name])\n",
    "seq = np.transpose(np.array([seq]),[0,2,1])\n",
    "seq = torch.from_numpy(seq).type('torch.FloatTensor').cuda()\n",
    "seq_fig = SeqFigCallback(writer,seq,class_names=selected_seqs.ANN_TYPES,colors=['blue','red'],prefix='test')\n",
    "worker = Trainer(batch_size=16,return_extra_info=True, order='NCL', order_target=['answers','inputs'],\n",
    "                 pad_value={'answers':-1,'inputs':0},epoch_num=100,generator=SeqGenerator,\n",
    "                 train_callbacks=[train_metric],val_callbacks=[val_metric],other_callbacks=[tensorboard,seq_fig],\n",
    "                writer=writer)\n",
    "pipeline = Pipeline(builder,data,worker,compiler,\n",
    "                    is_prompt_visible=True)\n",
    "pipeline.execute()"
   ]
  },
  {
   "cell_type": "code",
   "execution_count": 232,
   "metadata": {},
   "outputs": [
    {
     "data": {
      "image/png": "[encoded data removed]",
      "text/plain": [
       "<Figure size 432x288 with 1 Axes>"
      ]
     },
     "metadata": {
      "needs_background": "light"
     },
     "output_type": "display_data"
    }
   ],
   "source": [
    "visual_ann_seq(ann_seqs.get(outlier_name))"
   ]
  },
  {
   "cell_type": "code",
   "execution_count": 61,
   "metadata": {},
   "outputs": [
    {
     "data": {
      "text/plain": [
       "tensor([-0.2392], device='cuda:0')"
      ]
     },
     "execution_count": 61,
     "metadata": {},
     "output_type": "execute_result"
    }
   ],
   "source": [
    "noisy_relu(c=0.5)(torch.FloatTensor([-100000000000]).cuda(),True)"
   ]
  },
  {
   "cell_type": "code",
   "execution_count": 240,
   "metadata": {},
   "outputs": [],
   "source": [
    "a={'a':1}\n",
    "b={'r':3}\n",
    "a.update(b)"
   ]
  },
  {
   "cell_type": "code",
   "execution_count": 242,
   "metadata": {},
   "outputs": [
    {
     "data": {
      "text/plain": [
       "{'r': 3}"
      ]
     },
     "execution_count": 242,
     "metadata": {},
     "output_type": "execute_result"
    }
   ],
   "source": [
    "b"
   ]
  },
  {
   "cell_type": "code",
   "execution_count": null,
   "metadata": {},
   "outputs": [],
   "source": []
  }
 ],
 "metadata": {
  "kernelspec": {
   "display_name": "Python 3",
   "language": "python",
   "name": "python3"
  },
  "language_info": {
   "codemirror_mode": {
    "name": "ipython",
    "version": 3
   },
   "file_extension": ".py",
   "mimetype": "text/x-python",
   "name": "python",
   "nbconvert_exporter": "python",
   "pygments_lexer": "ipython3",
   "version": "3.5.2"
  }
 },
 "nbformat": 4,
 "nbformat_minor": 2
}
