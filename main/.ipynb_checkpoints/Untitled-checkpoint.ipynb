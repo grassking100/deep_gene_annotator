{
 "cells": [
  {
   "cell_type": "code",
   "execution_count": 22,
   "metadata": {},
   "outputs": [],
   "source": [
    "import pandas as pd\n",
    "dataset_indice = [\n",
    "    [2,11,8,21],\n",
    "    [5,17,15,6],\n",
    "    [1,18,19,20],\n",
    "    [13,12,4],\n",
    "    [3,9,14],\n",
    "    [10,7,16]\n",
    "]\n",
    "cv_number = len(dataset_indice) - 1\n",
    "mode_indice = []\n",
    "read_path = '~/deep_learning/tetraodon_8_0/2018_03_26/rebalanced_ann_seq.gtf'\n",
    "data = pd.read_csv(read_path,header=None,sep='\\t')\n",
    "for dataset_id,dataset_index in enumerate(dataset_indice):\n",
    "    dataset = []    \n",
    "    for index in dataset_index:\n",
    "        dataset.append(data[data[0]==index])\n",
    "    saved_file=pd.concat(dataset)\n",
    "    write_path='~/deep_learning/tetraodon_8_0/2018_03_26/rebalanced_ann_dataset_{index}.gtf'.format(index=dataset_id)\n",
    "    saved_file.to_csv(write_path,sep='\\t',header=None,index=False)\n",
    "    #parse file\n",
    "    #save file\n",
    "for index in range(1,cv_number+1):\n",
    "    mode_index = list(range(1,cv_number+1))\n",
    "    mode_index.remove(index)\n",
    "    fold = []\n",
    "    for i in mode_index:\n",
    "        read_path = '~/deep_learning/tetraodon_8_0/2018_03_26/rebalanced_ann_dataset_{index}.gtf'.format(index=i)\n",
    "        fold.append(pd.read_csv(read_path,header=None,sep='\\t'))\n",
    "    saved_file=pd.concat(fold)\n",
    "    write_path='~/deep_learning/tetraodon_8_0/2018_03_26/rebalanced_ann_fold_{index}.gtf'.format(index=index)\n",
    "    saved_file.to_csv(write_path,sep='\\t',header=None,index=False)\n",
    "    #parse file\n",
    "    #save file"
   ]
  },
  {
   "cell_type": "code",
   "execution_count": 6,
   "metadata": {},
   "outputs": [],
   "source": [
    "import pandas as pd\n",
    "data = pd.read_csv('~/deep_learning/tetraodon_8_0/2018_03_26/whole_genome_seq.gtf',sep='\\t',header=None)"
   ]
  }
 ],
 "metadata": {
  "kernelspec": {
   "display_name": "Python 3",
   "language": "python",
   "name": "python3"
  },
  "language_info": {
   "codemirror_mode": {
    "name": "ipython",
    "version": 3
   },
   "file_extension": ".py",
   "mimetype": "text/x-python",
   "name": "python",
   "nbconvert_exporter": "python",
   "pygments_lexer": "ipython3",
   "version": "3.5.2"
  }
 },
 "nbformat": 4,
 "nbformat_minor": 2
}
