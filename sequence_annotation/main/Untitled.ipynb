{
 "cells": [
  {
   "cell_type": "code",
   "execution_count": 7,
   "metadata": {},
   "outputs": [
    {
     "ename": "ImportError",
     "evalue": "No module named 'sequence_annotation'",
     "output_type": "error",
     "traceback": [
      "\u001b[0;31m---------------------------------------------------------------------------\u001b[0m",
      "\u001b[0;31mImportError\u001b[0m                               Traceback (most recent call last)",
      "\u001b[0;32m<ipython-input-7-42e11e38a4a6>\u001b[0m in \u001b[0;36m<module>\u001b[0;34m()\u001b[0m\n\u001b[1;32m      4\u001b[0m \u001b[0;32mimport\u001b[0m \u001b[0mpandas\u001b[0m \u001b[0;32mas\u001b[0m \u001b[0mpd\u001b[0m\u001b[0;34m\u001b[0m\u001b[0m\n\u001b[1;32m      5\u001b[0m \u001b[0msys\u001b[0m\u001b[0;34m.\u001b[0m\u001b[0mpath\u001b[0m\u001b[0;34m.\u001b[0m\u001b[0mappend\u001b[0m\u001b[0;34m(\u001b[0m\u001b[0mos\u001b[0m\u001b[0;34m.\u001b[0m\u001b[0mpath\u001b[0m\u001b[0;34m.\u001b[0m\u001b[0mabspath\u001b[0m\u001b[0;34m(\u001b[0m\u001b[0;34m'/deep_learning/sequence_annotation'\u001b[0m\u001b[0;34m)\u001b[0m\u001b[0;34m)\u001b[0m\u001b[0;34m\u001b[0m\u001b[0m\n\u001b[0;32m----> 6\u001b[0;31m \u001b[0;32mfrom\u001b[0m \u001b[0msequence_annotation\u001b[0m\u001b[0;34m.\u001b[0m\u001b[0mgenome_handler\u001b[0m\u001b[0;34m.\u001b[0m\u001b[0mseq_info_parser\u001b[0m \u001b[0;32mimport\u001b[0m \u001b[0mUSCUParser\u001b[0m\u001b[0;34m\u001b[0m\u001b[0m\n\u001b[0m\u001b[1;32m      7\u001b[0m \u001b[0;32mfrom\u001b[0m \u001b[0msequence_annotation\u001b[0m\u001b[0;34m.\u001b[0m\u001b[0mgenome_handler\u001b[0m\u001b[0;34m.\u001b[0m\u001b[0mann_genome_creator\u001b[0m \u001b[0;32mimport\u001b[0m \u001b[0mAnnGenomeCreator\u001b[0m\u001b[0;34m\u001b[0m\u001b[0m\n\u001b[1;32m      8\u001b[0m \u001b[0;32mfrom\u001b[0m \u001b[0msequence_annotation\u001b[0m\u001b[0;34m.\u001b[0m\u001b[0mgenome_handler\u001b[0m\u001b[0;34m.\u001b[0m\u001b[0mregion_extractor\u001b[0m \u001b[0;32mimport\u001b[0m \u001b[0mRegionExtractor\u001b[0m\u001b[0;34m\u001b[0m\u001b[0m\n",
      "\u001b[0;31mImportError\u001b[0m: No module named 'sequence_annotation'"
     ]
    }
   ],
   "source": [
    "import os\n",
    "import sys\n",
    "import deepdish\n",
    "import pandas as pd\n",
    "sys.path.append(os.path.abspath('/deep_learning/sequence_annotation'))\n",
    "from sequence_annotation.genome_handler.seq_info_parser import USCUParser\n",
    "from sequence_annotation.genome_handler.ann_genome_creator import AnnGenomeCreator\n",
    "from sequence_annotation.genome_handler.region_extractor import RegionExtractor\n",
    "from sequence_annotation.genome_handler.seq_info_generator import SeqInfoGenerator\n",
    "from sequence_annotation.genome_handler.seq_container import SeqInfoContainer\n",
    "from sequence_annotation.genome_handler.ann_seq_extractor import AnnSeqExtractor\n",
    "genome_information={'chromosome':{\"1\":22981688,\"10\":13272281,\"11\":11954808,\"12\":12622881,\"13\":13302670,\"14\":10246949,\"15\":7320470,\"16\":9031048,\"17\":12136232,\"18\":11077504,\"19\":7272499,\"2\":21591555,\"20\":3798727,\"21\":5834722,\"3\":15489435,\"4\":9874776,\"5\":13390619,\"6\":7024381,\"7\":11693588,\"8\":10512681,\"9\":10554956},'source':'tertaodon_8_0'}\n",
    "file_path = \"~/deep_learning/tetraodon_8_0_2.tsv\"\n",
    "principle = {'remove_end_of_strand':True,'with_random_choose':False,'replaceable':True,\n",
    "             \"each_region_number\":{'utr_5': 8,\n",
    "                                   'intergenic_region': 8,\n",
    "                                   'utr_3': 8,\n",
    "                                   'cds': 8,\n",
    "                                   'intron': 8},\n",
    "             'sample_number_per_region':1,'half_length':150,'max_diff':30\n",
    "            }\n",
    "\n",
    "frontground_types = ['cds','intron','utr_5','utr_3']\n",
    "background_type = 'intergenic_region'\n",
    "if __name__ == \"__main__\":\n",
    "    seqs_info = pd.read_csv(\"deep_learning/seq.gtf\",sep=\"\\t\", header=None)\n",
    "    result=deepdish.io.load('deep_learning/ann_genome.h5')\n",
    "    print(seqs_info)\n",
    "    ext = AnnSeqExtractor(result, seqs_info)\n",
    "    ext.extract()\n",
    "    deepdish.io.save('deep_learning/test.h5', ext.result.to_dict(),('zlib',9))"
   ]
  },
  {
   "cell_type": "code",
   "execution_count": 8,
   "metadata": {},
   "outputs": [
    {
     "data": {
      "text/plain": [
       "['',\n",
       " '/usr/lib/python3.4',\n",
       " '/usr/lib/python3.4/plat-x86_64-linux-gnu',\n",
       " '/usr/lib/python3.4/lib-dynload',\n",
       " '/home/grassking100/.local/lib/python3.4/site-packages',\n",
       " '/home/grassking100/.local/lib/python3.4/site-packages/biovec-0.1-py3.4.egg',\n",
       " '/usr/local/lib/python3.4/dist-packages',\n",
       " '/usr/lib/python3/dist-packages',\n",
       " '/usr/local/lib/python3.4/dist-packages/IPython/extensions',\n",
       " '/home/grassking100/.ipython',\n",
       " '/',\n",
       " '/',\n",
       " '/deep_learning',\n",
       " '/deep_learning/sequence_annotation']"
      ]
     },
     "execution_count": 8,
     "metadata": {},
     "output_type": "execute_result"
    }
   ],
   "source": [
    "sys.path"
   ]
  },
  {
   "cell_type": "code",
   "execution_count": 10,
   "metadata": {},
   "outputs": [
    {
     "ename": "ImportError",
     "evalue": "No module named 'sequence_annotation'",
     "output_type": "error",
     "traceback": [
      "\u001b[0;31m---------------------------------------------------------------------------\u001b[0m",
      "\u001b[0;31mImportError\u001b[0m                               Traceback (most recent call last)",
      "\u001b[0;32m<ipython-input-10-5019faf55d3a>\u001b[0m in \u001b[0;36m<module>\u001b[0;34m()\u001b[0m\n\u001b[0;32m----> 1\u001b[0;31m \u001b[0;32mimport\u001b[0m \u001b[0msequence_annotation\u001b[0m\u001b[0;34m.\u001b[0m\u001b[0msequence_annotation\u001b[0m\u001b[0;34m.\u001b[0m\u001b[0mgenome_handler\u001b[0m\u001b[0;34m\u001b[0m\u001b[0m\n\u001b[0m",
      "\u001b[0;31mImportError\u001b[0m: No module named 'sequence_annotation'"
     ]
    }
   ],
   "source": [
    "import sequence_annotation.sequence_annotation.genome_handler"
   ]
  },
  {
   "cell_type": "code",
   "execution_count": 29,
   "metadata": {},
   "outputs": [
    {
     "name": "stdout",
     "output_type": "stream",
     "text": [
      "Help on package sequence_annotation:\n",
      "\n",
      "NAME\n",
      "    sequence_annotation\n",
      "\n",
      "PACKAGE CONTENTS\n",
      "    sequence_annotation (package)\n",
      "\n",
      "FILE\n",
      "    (built-in)\n",
      "\n",
      "\n"
     ]
    }
   ],
   "source": [
    "help(sequence_annotation)"
   ]
  },
  {
   "cell_type": "code",
   "execution_count": null,
   "metadata": {},
   "outputs": [],
   "source": []
  }
 ],
 "metadata": {
  "kernelspec": {
   "display_name": "Python 3",
   "language": "python",
   "name": "python3"
  },
  "language_info": {
   "codemirror_mode": {
    "name": "ipython",
    "version": 3
   },
   "file_extension": ".py",
   "mimetype": "text/x-python",
   "name": "python",
   "nbconvert_exporter": "python",
   "pygments_lexer": "ipython3",
   "version": "3.4.3"
  }
 },
 "nbformat": 4,
 "nbformat_minor": 2
}
